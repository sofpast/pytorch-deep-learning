{
  "nbformat": 4,
  "nbformat_minor": 0,
  "metadata": {
    "colab": {
      "name": "03_pytorch_computer_vision_exercises.ipynb",
      "provenance": [],
      "include_colab_link": true
    },
    "kernelspec": {
      "name": "python3",
      "display_name": "Python 3"
    },
    "language_info": {
      "name": "python"
    },
    "accelerator": "GPU",
    "widgets": {
      "application/vnd.jupyter.widget-state+json": {
        "7ee2d6b9399e444d8a23a1ebe4a9e120": {
          "model_module": "@jupyter-widgets/controls",
          "model_name": "HBoxModel",
          "model_module_version": "1.5.0",
          "state": {
            "_dom_classes": [],
            "_model_module": "@jupyter-widgets/controls",
            "_model_module_version": "1.5.0",
            "_model_name": "HBoxModel",
            "_view_count": null,
            "_view_module": "@jupyter-widgets/controls",
            "_view_module_version": "1.5.0",
            "_view_name": "HBoxView",
            "box_style": "",
            "children": [
              "IPY_MODEL_afc4399e77374cc9a3d8834bdd101b2b",
              "IPY_MODEL_b877640f15cd407ebf26bdfe95ed1dde",
              "IPY_MODEL_89a4d4b754d7401b98d378d3ee7e771e"
            ],
            "layout": "IPY_MODEL_1d07a11d82db43138c72a454ecd81516"
          }
        },
        "afc4399e77374cc9a3d8834bdd101b2b": {
          "model_module": "@jupyter-widgets/controls",
          "model_name": "HTMLModel",
          "model_module_version": "1.5.0",
          "state": {
            "_dom_classes": [],
            "_model_module": "@jupyter-widgets/controls",
            "_model_module_version": "1.5.0",
            "_model_name": "HTMLModel",
            "_view_count": null,
            "_view_module": "@jupyter-widgets/controls",
            "_view_module_version": "1.5.0",
            "_view_name": "HTMLView",
            "description": "",
            "description_tooltip": null,
            "layout": "IPY_MODEL_a67aec678e9448de953c018851d7a769",
            "placeholder": "​",
            "style": "IPY_MODEL_3e51a181f3464f989675f85d20ddd47f",
            "value": "100%"
          }
        },
        "b877640f15cd407ebf26bdfe95ed1dde": {
          "model_module": "@jupyter-widgets/controls",
          "model_name": "FloatProgressModel",
          "model_module_version": "1.5.0",
          "state": {
            "_dom_classes": [],
            "_model_module": "@jupyter-widgets/controls",
            "_model_module_version": "1.5.0",
            "_model_name": "FloatProgressModel",
            "_view_count": null,
            "_view_module": "@jupyter-widgets/controls",
            "_view_module_version": "1.5.0",
            "_view_name": "ProgressView",
            "bar_style": "success",
            "description": "",
            "description_tooltip": null,
            "layout": "IPY_MODEL_f39c210611f449878aa8eeb43c94352d",
            "max": 5,
            "min": 0,
            "orientation": "horizontal",
            "style": "IPY_MODEL_9ad2e84a3bd04760a1103a3e672ae43a",
            "value": 5
          }
        },
        "89a4d4b754d7401b98d378d3ee7e771e": {
          "model_module": "@jupyter-widgets/controls",
          "model_name": "HTMLModel",
          "model_module_version": "1.5.0",
          "state": {
            "_dom_classes": [],
            "_model_module": "@jupyter-widgets/controls",
            "_model_module_version": "1.5.0",
            "_model_name": "HTMLModel",
            "_view_count": null,
            "_view_module": "@jupyter-widgets/controls",
            "_view_module_version": "1.5.0",
            "_view_name": "HTMLView",
            "description": "",
            "description_tooltip": null,
            "layout": "IPY_MODEL_de82cf89e0c94a579beb0972a3a37118",
            "placeholder": "​",
            "style": "IPY_MODEL_a3517d7ac6aa46d89fae2b181517e6d6",
            "value": " 5/5 [00:57&lt;00:00, 11.44s/it]"
          }
        },
        "1d07a11d82db43138c72a454ecd81516": {
          "model_module": "@jupyter-widgets/base",
          "model_name": "LayoutModel",
          "model_module_version": "1.2.0",
          "state": {
            "_model_module": "@jupyter-widgets/base",
            "_model_module_version": "1.2.0",
            "_model_name": "LayoutModel",
            "_view_count": null,
            "_view_module": "@jupyter-widgets/base",
            "_view_module_version": "1.2.0",
            "_view_name": "LayoutView",
            "align_content": null,
            "align_items": null,
            "align_self": null,
            "border": null,
            "bottom": null,
            "display": null,
            "flex": null,
            "flex_flow": null,
            "grid_area": null,
            "grid_auto_columns": null,
            "grid_auto_flow": null,
            "grid_auto_rows": null,
            "grid_column": null,
            "grid_gap": null,
            "grid_row": null,
            "grid_template_areas": null,
            "grid_template_columns": null,
            "grid_template_rows": null,
            "height": null,
            "justify_content": null,
            "justify_items": null,
            "left": null,
            "margin": null,
            "max_height": null,
            "max_width": null,
            "min_height": null,
            "min_width": null,
            "object_fit": null,
            "object_position": null,
            "order": null,
            "overflow": null,
            "overflow_x": null,
            "overflow_y": null,
            "padding": null,
            "right": null,
            "top": null,
            "visibility": null,
            "width": null
          }
        },
        "a67aec678e9448de953c018851d7a769": {
          "model_module": "@jupyter-widgets/base",
          "model_name": "LayoutModel",
          "model_module_version": "1.2.0",
          "state": {
            "_model_module": "@jupyter-widgets/base",
            "_model_module_version": "1.2.0",
            "_model_name": "LayoutModel",
            "_view_count": null,
            "_view_module": "@jupyter-widgets/base",
            "_view_module_version": "1.2.0",
            "_view_name": "LayoutView",
            "align_content": null,
            "align_items": null,
            "align_self": null,
            "border": null,
            "bottom": null,
            "display": null,
            "flex": null,
            "flex_flow": null,
            "grid_area": null,
            "grid_auto_columns": null,
            "grid_auto_flow": null,
            "grid_auto_rows": null,
            "grid_column": null,
            "grid_gap": null,
            "grid_row": null,
            "grid_template_areas": null,
            "grid_template_columns": null,
            "grid_template_rows": null,
            "height": null,
            "justify_content": null,
            "justify_items": null,
            "left": null,
            "margin": null,
            "max_height": null,
            "max_width": null,
            "min_height": null,
            "min_width": null,
            "object_fit": null,
            "object_position": null,
            "order": null,
            "overflow": null,
            "overflow_x": null,
            "overflow_y": null,
            "padding": null,
            "right": null,
            "top": null,
            "visibility": null,
            "width": null
          }
        },
        "3e51a181f3464f989675f85d20ddd47f": {
          "model_module": "@jupyter-widgets/controls",
          "model_name": "DescriptionStyleModel",
          "model_module_version": "1.5.0",
          "state": {
            "_model_module": "@jupyter-widgets/controls",
            "_model_module_version": "1.5.0",
            "_model_name": "DescriptionStyleModel",
            "_view_count": null,
            "_view_module": "@jupyter-widgets/base",
            "_view_module_version": "1.2.0",
            "_view_name": "StyleView",
            "description_width": ""
          }
        },
        "f39c210611f449878aa8eeb43c94352d": {
          "model_module": "@jupyter-widgets/base",
          "model_name": "LayoutModel",
          "model_module_version": "1.2.0",
          "state": {
            "_model_module": "@jupyter-widgets/base",
            "_model_module_version": "1.2.0",
            "_model_name": "LayoutModel",
            "_view_count": null,
            "_view_module": "@jupyter-widgets/base",
            "_view_module_version": "1.2.0",
            "_view_name": "LayoutView",
            "align_content": null,
            "align_items": null,
            "align_self": null,
            "border": null,
            "bottom": null,
            "display": null,
            "flex": null,
            "flex_flow": null,
            "grid_area": null,
            "grid_auto_columns": null,
            "grid_auto_flow": null,
            "grid_auto_rows": null,
            "grid_column": null,
            "grid_gap": null,
            "grid_row": null,
            "grid_template_areas": null,
            "grid_template_columns": null,
            "grid_template_rows": null,
            "height": null,
            "justify_content": null,
            "justify_items": null,
            "left": null,
            "margin": null,
            "max_height": null,
            "max_width": null,
            "min_height": null,
            "min_width": null,
            "object_fit": null,
            "object_position": null,
            "order": null,
            "overflow": null,
            "overflow_x": null,
            "overflow_y": null,
            "padding": null,
            "right": null,
            "top": null,
            "visibility": null,
            "width": null
          }
        },
        "9ad2e84a3bd04760a1103a3e672ae43a": {
          "model_module": "@jupyter-widgets/controls",
          "model_name": "ProgressStyleModel",
          "model_module_version": "1.5.0",
          "state": {
            "_model_module": "@jupyter-widgets/controls",
            "_model_module_version": "1.5.0",
            "_model_name": "ProgressStyleModel",
            "_view_count": null,
            "_view_module": "@jupyter-widgets/base",
            "_view_module_version": "1.2.0",
            "_view_name": "StyleView",
            "bar_color": null,
            "description_width": ""
          }
        },
        "de82cf89e0c94a579beb0972a3a37118": {
          "model_module": "@jupyter-widgets/base",
          "model_name": "LayoutModel",
          "model_module_version": "1.2.0",
          "state": {
            "_model_module": "@jupyter-widgets/base",
            "_model_module_version": "1.2.0",
            "_model_name": "LayoutModel",
            "_view_count": null,
            "_view_module": "@jupyter-widgets/base",
            "_view_module_version": "1.2.0",
            "_view_name": "LayoutView",
            "align_content": null,
            "align_items": null,
            "align_self": null,
            "border": null,
            "bottom": null,
            "display": null,
            "flex": null,
            "flex_flow": null,
            "grid_area": null,
            "grid_auto_columns": null,
            "grid_auto_flow": null,
            "grid_auto_rows": null,
            "grid_column": null,
            "grid_gap": null,
            "grid_row": null,
            "grid_template_areas": null,
            "grid_template_columns": null,
            "grid_template_rows": null,
            "height": null,
            "justify_content": null,
            "justify_items": null,
            "left": null,
            "margin": null,
            "max_height": null,
            "max_width": null,
            "min_height": null,
            "min_width": null,
            "object_fit": null,
            "object_position": null,
            "order": null,
            "overflow": null,
            "overflow_x": null,
            "overflow_y": null,
            "padding": null,
            "right": null,
            "top": null,
            "visibility": null,
            "width": null
          }
        },
        "a3517d7ac6aa46d89fae2b181517e6d6": {
          "model_module": "@jupyter-widgets/controls",
          "model_name": "DescriptionStyleModel",
          "model_module_version": "1.5.0",
          "state": {
            "_model_module": "@jupyter-widgets/controls",
            "_model_module_version": "1.5.0",
            "_model_name": "DescriptionStyleModel",
            "_view_count": null,
            "_view_module": "@jupyter-widgets/base",
            "_view_module_version": "1.2.0",
            "_view_name": "StyleView",
            "description_width": ""
          }
        }
      }
    }
  },
  "cells": [
    {
      "cell_type": "markdown",
      "metadata": {
        "id": "view-in-github",
        "colab_type": "text"
      },
      "source": [
        "<a href=\"https://colab.research.google.com/github/sofpast/pytorch-deep-learning/blob/main/extras/exercises/03_pytorch_computer_vision_exercises.ipynb\" target=\"_parent\"><img src=\"https://colab.research.google.com/assets/colab-badge.svg\" alt=\"Open In Colab\"/></a>"
      ]
    },
    {
      "cell_type": "markdown",
      "source": [
        "# 03. PyTorch Computer Vision Exercises\n",
        "\n",
        "The following is a collection of exercises based on computer vision fundamentals in PyTorch.\n",
        "\n",
        "They're a bunch of fun.\n",
        "\n",
        "You're going to get to write plenty of code!\n",
        "\n",
        "## Resources\n",
        "\n",
        "1. These exercises are based on [notebook 03 of the Learn PyTorch for Deep Learning course](https://www.learnpytorch.io/03_pytorch_computer_vision/).\n",
        "2. See a live [walkthrough of the solutions (errors and all) on YouTube](https://youtu.be/_PibmqpEyhA).\n",
        "  * **Note:** Going through these exercises took me just over 3 hours of solid coding, so you should expect around the same.\n",
        "3. See [other solutions on the course GitHub](https://github.com/mrdbourke/pytorch-deep-learning/tree/main/extras/solutions)."
      ],
      "metadata": {
        "id": "Vex99np2wFVt"
      }
    },
    {
      "cell_type": "code",
      "source": [
        "# Check for GPU\n",
        "!nvidia-smi"
      ],
      "metadata": {
        "colab": {
          "base_uri": "https://localhost:8080/"
        },
        "id": "GaeYzOTLwWh2",
        "outputId": "eb7b9ae1-a269-4446-e4d8-1333abf989ca"
      },
      "execution_count": 1,
      "outputs": [
        {
          "output_type": "stream",
          "name": "stdout",
          "text": [
            "Mon Nov  6 02:15:39 2023       \n",
            "+-----------------------------------------------------------------------------+\n",
            "| NVIDIA-SMI 525.105.17   Driver Version: 525.105.17   CUDA Version: 12.0     |\n",
            "|-------------------------------+----------------------+----------------------+\n",
            "| GPU  Name        Persistence-M| Bus-Id        Disp.A | Volatile Uncorr. ECC |\n",
            "| Fan  Temp  Perf  Pwr:Usage/Cap|         Memory-Usage | GPU-Util  Compute M. |\n",
            "|                               |                      |               MIG M. |\n",
            "|===============================+======================+======================|\n",
            "|   0  Tesla T4            Off  | 00000000:00:04.0 Off |                    0 |\n",
            "| N/A   41C    P8     9W /  70W |      0MiB / 15360MiB |      0%      Default |\n",
            "|                               |                      |                  N/A |\n",
            "+-------------------------------+----------------------+----------------------+\n",
            "                                                                               \n",
            "+-----------------------------------------------------------------------------+\n",
            "| Processes:                                                                  |\n",
            "|  GPU   GI   CI        PID   Type   Process name                  GPU Memory |\n",
            "|        ID   ID                                                   Usage      |\n",
            "|=============================================================================|\n",
            "|  No running processes found                                                 |\n",
            "+-----------------------------------------------------------------------------+\n"
          ]
        }
      ]
    },
    {
      "cell_type": "code",
      "source": [
        "# Import torch\n",
        "import torch\n",
        "\n",
        "# Exercises require PyTorch > 1.10.0\n",
        "print(torch.__version__)\n",
        "\n",
        "# TODO: Setup device agnostic code\n",
        "device = \"cuda\" if torch.cuda.is_available() is True else \"cpu\"\n",
        "device"
      ],
      "metadata": {
        "colab": {
          "base_uri": "https://localhost:8080/",
          "height": 53
        },
        "id": "DNwZLMbCzJLk",
        "outputId": "6131b374-83a0-411a-8dbd-141bc4f4eb54"
      },
      "execution_count": 2,
      "outputs": [
        {
          "output_type": "stream",
          "name": "stdout",
          "text": [
            "2.1.0+cu118\n"
          ]
        },
        {
          "output_type": "execute_result",
          "data": {
            "text/plain": [
              "'cuda'"
            ],
            "application/vnd.google.colaboratory.intrinsic+json": {
              "type": "string"
            }
          },
          "metadata": {},
          "execution_count": 2
        }
      ]
    },
    {
      "cell_type": "markdown",
      "source": [
        "## 1. What are 3 areas in industry where computer vision is currently being used?"
      ],
      "metadata": {
        "id": "FSFX7tc1w-en"
      }
    },
    {
      "cell_type": "code",
      "source": [
        "# camera apps, modern cars, and manufacturers"
      ],
      "metadata": {
        "id": "VyWRkvWGbCXj"
      },
      "execution_count": 3,
      "outputs": []
    },
    {
      "cell_type": "markdown",
      "source": [
        "## 2. Search \"what is overfitting in machine learning\" and write down a sentence about what you find."
      ],
      "metadata": {
        "id": "oBK-WI6YxDYa"
      }
    },
    {
      "cell_type": "code",
      "source": [
        "# Overfitting means our model is learning the training data well but those patterns aren't generalizing to the testing data."
      ],
      "metadata": {
        "id": "d1rxD6GObCqh"
      },
      "execution_count": 4,
      "outputs": []
    },
    {
      "cell_type": "markdown",
      "source": [
        "## 3. Search \"ways to prevent overfitting in machine learning\", write down 3 of the things you find and a sentence about each.\n",
        "> **Note:** there are lots of these, so don't worry too much about all of them, just pick 3 and start with those."
      ],
      "metadata": {
        "id": "XeYFEqw8xK26"
      }
    },
    {
      "cell_type": "code",
      "source": [
        "# Two of main to fix overfitting include:\n",
        "# 1. Using a smaller or different model\n",
        "# 2. Using a larger dataset"
      ],
      "metadata": {
        "id": "ocvOdWKcbEKr"
      },
      "execution_count": 5,
      "outputs": []
    },
    {
      "cell_type": "markdown",
      "source": [
        "## 4. Spend 20-minutes reading and clicking through the [CNN Explainer website](https://poloclub.github.io/cnn-explainer/).\n",
        "\n",
        "* Upload your own example image using the \"upload\" button on the website and see what happens in each layer of a CNN as your image passes through it."
      ],
      "metadata": {
        "id": "DKdEEFEqxM-8"
      }
    },
    {
      "cell_type": "code",
      "source": [
        "import torch.nn as nn\n",
        "m = nn.Softmax(dim=1)\n",
        "input = torch.randn(1, 4)\n",
        "print(input)"
      ],
      "metadata": {
        "colab": {
          "base_uri": "https://localhost:8080/"
        },
        "id": "dre_6KzaNKdc",
        "outputId": "0fe54e98-6775-4fb3-f58f-43c3dd04f5d5"
      },
      "execution_count": 6,
      "outputs": [
        {
          "output_type": "stream",
          "name": "stdout",
          "text": [
            "tensor([[-0.2057, -1.2812,  1.6713, -0.4927]])\n"
          ]
        }
      ]
    },
    {
      "cell_type": "code",
      "source": [
        "output = m(input)\n",
        "output"
      ],
      "metadata": {
        "colab": {
          "base_uri": "https://localhost:8080/"
        },
        "id": "-qb27-AvOCiZ",
        "outputId": "d504c687-3805-4cea-fb85-cc82cc68831f"
      },
      "execution_count": 7,
      "outputs": [
        {
          "output_type": "execute_result",
          "data": {
            "text/plain": [
              "tensor([[0.1159, 0.0395, 0.7575, 0.0870]])"
            ]
          },
          "metadata": {},
          "execution_count": 7
        }
      ]
    },
    {
      "cell_type": "markdown",
      "source": [
        "## 5. Load the [`torchvision.datasets.MNIST()`](https://pytorch.org/vision/stable/generated/torchvision.datasets.MNIST.html#torchvision.datasets.MNIST) train and test datasets."
      ],
      "metadata": {
        "id": "lvf-3pODxXYI"
      }
    },
    {
      "cell_type": "code",
      "source": [
        "import torch\n",
        "from torch import nn\n",
        "\n",
        "# Import torchvision\n",
        "import torchvision\n",
        "from torchvision import datasets\n",
        "from torchvision.transforms import ToTensor\n",
        "\n",
        "# Import matplotlib for visualization\n",
        "import matplotlib.pyplot as plt\n",
        "\n",
        "# Check version\n",
        "print(f\"PyTorch version: {torch.__version__}\\ntorchvision: {torchvision.__version__}\")\n"
      ],
      "metadata": {
        "id": "SHjeuN81bHza",
        "colab": {
          "base_uri": "https://localhost:8080/"
        },
        "outputId": "d41835e0-1859-452d-dbe8-c04b914d9bc8"
      },
      "execution_count": 8,
      "outputs": [
        {
          "output_type": "stream",
          "name": "stdout",
          "text": [
            "PyTorch version: 2.1.0+cu118\n",
            "torchvision: 0.16.0+cu118\n"
          ]
        }
      ]
    },
    {
      "cell_type": "code",
      "source": [
        "# Training data\n",
        "train_data = datasets.FashionMNIST(\n",
        "    root=\"data\",\n",
        "    train=True,\n",
        "    download=True,\n",
        "    transform=ToTensor(),\n",
        "    target_transform=None\n",
        ")\n",
        "\n",
        "# Testing data\n",
        "test_data = datasets.FashionMNIST(\n",
        "    root=\"data\",\n",
        "    train=False,\n",
        "    download=True,\n",
        "    transform=ToTensor()\n",
        ")"
      ],
      "metadata": {
        "colab": {
          "base_uri": "https://localhost:8080/"
        },
        "id": "QKIJCjnTVgJv",
        "outputId": "7a19cfae-1001-41b6-9d4d-483eb234156c"
      },
      "execution_count": 9,
      "outputs": [
        {
          "output_type": "stream",
          "name": "stdout",
          "text": [
            "Downloading http://fashion-mnist.s3-website.eu-central-1.amazonaws.com/train-images-idx3-ubyte.gz\n",
            "Downloading http://fashion-mnist.s3-website.eu-central-1.amazonaws.com/train-images-idx3-ubyte.gz to data/FashionMNIST/raw/train-images-idx3-ubyte.gz\n"
          ]
        },
        {
          "output_type": "stream",
          "name": "stderr",
          "text": [
            "100%|██████████| 26421880/26421880 [00:00<00:00, 118325480.63it/s]\n"
          ]
        },
        {
          "output_type": "stream",
          "name": "stdout",
          "text": [
            "Extracting data/FashionMNIST/raw/train-images-idx3-ubyte.gz to data/FashionMNIST/raw\n",
            "\n",
            "Downloading http://fashion-mnist.s3-website.eu-central-1.amazonaws.com/train-labels-idx1-ubyte.gz\n",
            "Downloading http://fashion-mnist.s3-website.eu-central-1.amazonaws.com/train-labels-idx1-ubyte.gz to data/FashionMNIST/raw/train-labels-idx1-ubyte.gz\n"
          ]
        },
        {
          "output_type": "stream",
          "name": "stderr",
          "text": [
            "100%|██████████| 29515/29515 [00:00<00:00, 4909183.59it/s]"
          ]
        },
        {
          "output_type": "stream",
          "name": "stdout",
          "text": [
            "Extracting data/FashionMNIST/raw/train-labels-idx1-ubyte.gz to data/FashionMNIST/raw\n",
            "\n",
            "Downloading http://fashion-mnist.s3-website.eu-central-1.amazonaws.com/t10k-images-idx3-ubyte.gz\n",
            "Downloading http://fashion-mnist.s3-website.eu-central-1.amazonaws.com/t10k-images-idx3-ubyte.gz to data/FashionMNIST/raw/t10k-images-idx3-ubyte.gz\n"
          ]
        },
        {
          "output_type": "stream",
          "name": "stderr",
          "text": [
            "\n",
            "100%|██████████| 4422102/4422102 [00:00<00:00, 62643592.34it/s]\n"
          ]
        },
        {
          "output_type": "stream",
          "name": "stdout",
          "text": [
            "Extracting data/FashionMNIST/raw/t10k-images-idx3-ubyte.gz to data/FashionMNIST/raw\n",
            "\n",
            "Downloading http://fashion-mnist.s3-website.eu-central-1.amazonaws.com/t10k-labels-idx1-ubyte.gz\n",
            "Downloading http://fashion-mnist.s3-website.eu-central-1.amazonaws.com/t10k-labels-idx1-ubyte.gz to data/FashionMNIST/raw/t10k-labels-idx1-ubyte.gz\n"
          ]
        },
        {
          "output_type": "stream",
          "name": "stderr",
          "text": [
            "100%|██████████| 5148/5148 [00:00<00:00, 21635548.09it/s]\n"
          ]
        },
        {
          "output_type": "stream",
          "name": "stdout",
          "text": [
            "Extracting data/FashionMNIST/raw/t10k-labels-idx1-ubyte.gz to data/FashionMNIST/raw\n",
            "\n"
          ]
        }
      ]
    },
    {
      "cell_type": "code",
      "source": [
        "image, label = train_data[0]\n",
        "image, label"
      ],
      "metadata": {
        "colab": {
          "base_uri": "https://localhost:8080/"
        },
        "id": "5LWEfOxfWHH3",
        "outputId": "16d4ed58-9ffa-4984-c84a-a52350cef9d8"
      },
      "execution_count": 10,
      "outputs": [
        {
          "output_type": "execute_result",
          "data": {
            "text/plain": [
              "(tensor([[[0.0000, 0.0000, 0.0000, 0.0000, 0.0000, 0.0000, 0.0000, 0.0000,\n",
              "           0.0000, 0.0000, 0.0000, 0.0000, 0.0000, 0.0000, 0.0000, 0.0000,\n",
              "           0.0000, 0.0000, 0.0000, 0.0000, 0.0000, 0.0000, 0.0000, 0.0000,\n",
              "           0.0000, 0.0000, 0.0000, 0.0000],\n",
              "          [0.0000, 0.0000, 0.0000, 0.0000, 0.0000, 0.0000, 0.0000, 0.0000,\n",
              "           0.0000, 0.0000, 0.0000, 0.0000, 0.0000, 0.0000, 0.0000, 0.0000,\n",
              "           0.0000, 0.0000, 0.0000, 0.0000, 0.0000, 0.0000, 0.0000, 0.0000,\n",
              "           0.0000, 0.0000, 0.0000, 0.0000],\n",
              "          [0.0000, 0.0000, 0.0000, 0.0000, 0.0000, 0.0000, 0.0000, 0.0000,\n",
              "           0.0000, 0.0000, 0.0000, 0.0000, 0.0000, 0.0000, 0.0000, 0.0000,\n",
              "           0.0000, 0.0000, 0.0000, 0.0000, 0.0000, 0.0000, 0.0000, 0.0000,\n",
              "           0.0000, 0.0000, 0.0000, 0.0000],\n",
              "          [0.0000, 0.0000, 0.0000, 0.0000, 0.0000, 0.0000, 0.0000, 0.0000,\n",
              "           0.0000, 0.0000, 0.0000, 0.0000, 0.0039, 0.0000, 0.0000, 0.0510,\n",
              "           0.2863, 0.0000, 0.0000, 0.0039, 0.0157, 0.0000, 0.0000, 0.0000,\n",
              "           0.0000, 0.0039, 0.0039, 0.0000],\n",
              "          [0.0000, 0.0000, 0.0000, 0.0000, 0.0000, 0.0000, 0.0000, 0.0000,\n",
              "           0.0000, 0.0000, 0.0000, 0.0000, 0.0118, 0.0000, 0.1412, 0.5333,\n",
              "           0.4980, 0.2431, 0.2118, 0.0000, 0.0000, 0.0000, 0.0039, 0.0118,\n",
              "           0.0157, 0.0000, 0.0000, 0.0118],\n",
              "          [0.0000, 0.0000, 0.0000, 0.0000, 0.0000, 0.0000, 0.0000, 0.0000,\n",
              "           0.0000, 0.0000, 0.0000, 0.0000, 0.0235, 0.0000, 0.4000, 0.8000,\n",
              "           0.6902, 0.5255, 0.5647, 0.4824, 0.0902, 0.0000, 0.0000, 0.0000,\n",
              "           0.0000, 0.0471, 0.0392, 0.0000],\n",
              "          [0.0000, 0.0000, 0.0000, 0.0000, 0.0000, 0.0000, 0.0000, 0.0000,\n",
              "           0.0000, 0.0000, 0.0000, 0.0000, 0.0000, 0.0000, 0.6078, 0.9255,\n",
              "           0.8118, 0.6980, 0.4196, 0.6118, 0.6314, 0.4275, 0.2510, 0.0902,\n",
              "           0.3020, 0.5098, 0.2824, 0.0588],\n",
              "          [0.0000, 0.0000, 0.0000, 0.0000, 0.0000, 0.0000, 0.0000, 0.0000,\n",
              "           0.0000, 0.0000, 0.0000, 0.0039, 0.0000, 0.2706, 0.8118, 0.8745,\n",
              "           0.8549, 0.8471, 0.8471, 0.6392, 0.4980, 0.4745, 0.4784, 0.5725,\n",
              "           0.5529, 0.3451, 0.6745, 0.2588],\n",
              "          [0.0000, 0.0000, 0.0000, 0.0000, 0.0000, 0.0000, 0.0000, 0.0000,\n",
              "           0.0000, 0.0039, 0.0039, 0.0039, 0.0000, 0.7843, 0.9098, 0.9098,\n",
              "           0.9137, 0.8980, 0.8745, 0.8745, 0.8431, 0.8353, 0.6431, 0.4980,\n",
              "           0.4824, 0.7686, 0.8980, 0.0000],\n",
              "          [0.0000, 0.0000, 0.0000, 0.0000, 0.0000, 0.0000, 0.0000, 0.0000,\n",
              "           0.0000, 0.0000, 0.0000, 0.0000, 0.0000, 0.7176, 0.8824, 0.8471,\n",
              "           0.8745, 0.8941, 0.9216, 0.8902, 0.8784, 0.8706, 0.8784, 0.8667,\n",
              "           0.8745, 0.9608, 0.6784, 0.0000],\n",
              "          [0.0000, 0.0000, 0.0000, 0.0000, 0.0000, 0.0000, 0.0000, 0.0000,\n",
              "           0.0000, 0.0000, 0.0000, 0.0000, 0.0000, 0.7569, 0.8941, 0.8549,\n",
              "           0.8353, 0.7765, 0.7059, 0.8314, 0.8235, 0.8275, 0.8353, 0.8745,\n",
              "           0.8627, 0.9529, 0.7922, 0.0000],\n",
              "          [0.0000, 0.0000, 0.0000, 0.0000, 0.0000, 0.0000, 0.0000, 0.0000,\n",
              "           0.0000, 0.0039, 0.0118, 0.0000, 0.0471, 0.8588, 0.8627, 0.8314,\n",
              "           0.8549, 0.7529, 0.6627, 0.8902, 0.8157, 0.8549, 0.8784, 0.8314,\n",
              "           0.8863, 0.7725, 0.8196, 0.2039],\n",
              "          [0.0000, 0.0000, 0.0000, 0.0000, 0.0000, 0.0000, 0.0000, 0.0000,\n",
              "           0.0000, 0.0000, 0.0235, 0.0000, 0.3882, 0.9569, 0.8706, 0.8627,\n",
              "           0.8549, 0.7961, 0.7765, 0.8667, 0.8431, 0.8353, 0.8706, 0.8627,\n",
              "           0.9608, 0.4667, 0.6549, 0.2196],\n",
              "          [0.0000, 0.0000, 0.0000, 0.0000, 0.0000, 0.0000, 0.0000, 0.0000,\n",
              "           0.0000, 0.0157, 0.0000, 0.0000, 0.2157, 0.9255, 0.8941, 0.9020,\n",
              "           0.8941, 0.9412, 0.9098, 0.8353, 0.8549, 0.8745, 0.9176, 0.8510,\n",
              "           0.8510, 0.8196, 0.3608, 0.0000],\n",
              "          [0.0000, 0.0000, 0.0039, 0.0157, 0.0235, 0.0275, 0.0078, 0.0000,\n",
              "           0.0000, 0.0000, 0.0000, 0.0000, 0.9294, 0.8863, 0.8510, 0.8745,\n",
              "           0.8706, 0.8588, 0.8706, 0.8667, 0.8471, 0.8745, 0.8980, 0.8431,\n",
              "           0.8549, 1.0000, 0.3020, 0.0000],\n",
              "          [0.0000, 0.0118, 0.0000, 0.0000, 0.0000, 0.0000, 0.0000, 0.0000,\n",
              "           0.0000, 0.2431, 0.5686, 0.8000, 0.8941, 0.8118, 0.8353, 0.8667,\n",
              "           0.8549, 0.8157, 0.8275, 0.8549, 0.8784, 0.8745, 0.8588, 0.8431,\n",
              "           0.8784, 0.9569, 0.6235, 0.0000],\n",
              "          [0.0000, 0.0000, 0.0000, 0.0000, 0.0706, 0.1725, 0.3216, 0.4196,\n",
              "           0.7412, 0.8941, 0.8627, 0.8706, 0.8510, 0.8863, 0.7843, 0.8039,\n",
              "           0.8275, 0.9020, 0.8784, 0.9176, 0.6902, 0.7373, 0.9804, 0.9725,\n",
              "           0.9137, 0.9333, 0.8431, 0.0000],\n",
              "          [0.0000, 0.2235, 0.7333, 0.8157, 0.8784, 0.8667, 0.8784, 0.8157,\n",
              "           0.8000, 0.8392, 0.8157, 0.8196, 0.7843, 0.6235, 0.9608, 0.7569,\n",
              "           0.8078, 0.8745, 1.0000, 1.0000, 0.8667, 0.9176, 0.8667, 0.8275,\n",
              "           0.8627, 0.9098, 0.9647, 0.0000],\n",
              "          [0.0118, 0.7922, 0.8941, 0.8784, 0.8667, 0.8275, 0.8275, 0.8392,\n",
              "           0.8039, 0.8039, 0.8039, 0.8627, 0.9412, 0.3137, 0.5882, 1.0000,\n",
              "           0.8980, 0.8667, 0.7373, 0.6039, 0.7490, 0.8235, 0.8000, 0.8196,\n",
              "           0.8706, 0.8941, 0.8824, 0.0000],\n",
              "          [0.3843, 0.9137, 0.7765, 0.8235, 0.8706, 0.8980, 0.8980, 0.9176,\n",
              "           0.9765, 0.8627, 0.7608, 0.8431, 0.8510, 0.9451, 0.2549, 0.2863,\n",
              "           0.4157, 0.4588, 0.6588, 0.8588, 0.8667, 0.8431, 0.8510, 0.8745,\n",
              "           0.8745, 0.8784, 0.8980, 0.1137],\n",
              "          [0.2941, 0.8000, 0.8314, 0.8000, 0.7569, 0.8039, 0.8275, 0.8824,\n",
              "           0.8471, 0.7255, 0.7725, 0.8078, 0.7765, 0.8353, 0.9412, 0.7647,\n",
              "           0.8902, 0.9608, 0.9373, 0.8745, 0.8549, 0.8314, 0.8196, 0.8706,\n",
              "           0.8627, 0.8667, 0.9020, 0.2627],\n",
              "          [0.1882, 0.7961, 0.7176, 0.7608, 0.8353, 0.7725, 0.7255, 0.7451,\n",
              "           0.7608, 0.7529, 0.7922, 0.8392, 0.8588, 0.8667, 0.8627, 0.9255,\n",
              "           0.8824, 0.8471, 0.7804, 0.8078, 0.7294, 0.7098, 0.6941, 0.6745,\n",
              "           0.7098, 0.8039, 0.8078, 0.4510],\n",
              "          [0.0000, 0.4784, 0.8588, 0.7569, 0.7020, 0.6706, 0.7176, 0.7686,\n",
              "           0.8000, 0.8235, 0.8353, 0.8118, 0.8275, 0.8235, 0.7843, 0.7686,\n",
              "           0.7608, 0.7490, 0.7647, 0.7490, 0.7765, 0.7529, 0.6902, 0.6118,\n",
              "           0.6549, 0.6941, 0.8235, 0.3608],\n",
              "          [0.0000, 0.0000, 0.2902, 0.7412, 0.8314, 0.7490, 0.6863, 0.6745,\n",
              "           0.6863, 0.7098, 0.7255, 0.7373, 0.7412, 0.7373, 0.7569, 0.7765,\n",
              "           0.8000, 0.8196, 0.8235, 0.8235, 0.8275, 0.7373, 0.7373, 0.7608,\n",
              "           0.7529, 0.8471, 0.6667, 0.0000],\n",
              "          [0.0078, 0.0000, 0.0000, 0.0000, 0.2588, 0.7843, 0.8706, 0.9294,\n",
              "           0.9373, 0.9490, 0.9647, 0.9529, 0.9569, 0.8667, 0.8627, 0.7569,\n",
              "           0.7490, 0.7020, 0.7137, 0.7137, 0.7098, 0.6902, 0.6510, 0.6588,\n",
              "           0.3882, 0.2275, 0.0000, 0.0000],\n",
              "          [0.0000, 0.0000, 0.0000, 0.0000, 0.0000, 0.0000, 0.0000, 0.1569,\n",
              "           0.2392, 0.1725, 0.2824, 0.1608, 0.1373, 0.0000, 0.0000, 0.0000,\n",
              "           0.0000, 0.0000, 0.0000, 0.0000, 0.0000, 0.0000, 0.0000, 0.0000,\n",
              "           0.0000, 0.0000, 0.0000, 0.0000],\n",
              "          [0.0000, 0.0000, 0.0000, 0.0000, 0.0000, 0.0000, 0.0000, 0.0000,\n",
              "           0.0000, 0.0000, 0.0000, 0.0000, 0.0000, 0.0000, 0.0000, 0.0000,\n",
              "           0.0000, 0.0000, 0.0000, 0.0000, 0.0000, 0.0000, 0.0000, 0.0000,\n",
              "           0.0000, 0.0000, 0.0000, 0.0000],\n",
              "          [0.0000, 0.0000, 0.0000, 0.0000, 0.0000, 0.0000, 0.0000, 0.0000,\n",
              "           0.0000, 0.0000, 0.0000, 0.0000, 0.0000, 0.0000, 0.0000, 0.0000,\n",
              "           0.0000, 0.0000, 0.0000, 0.0000, 0.0000, 0.0000, 0.0000, 0.0000,\n",
              "           0.0000, 0.0000, 0.0000, 0.0000]]]),\n",
              " 9)"
            ]
          },
          "metadata": {},
          "execution_count": 10
        }
      ]
    },
    {
      "cell_type": "code",
      "source": [
        "print(image.shape)\n",
        "print(len(train_data.data), len(train_data.targets), len(test_data.data), len(test_data.targets))\n",
        "class_names = train_data.classes\n",
        "print(class_names)"
      ],
      "metadata": {
        "colab": {
          "base_uri": "https://localhost:8080/"
        },
        "id": "3hHucO4FWP3z",
        "outputId": "500ea36a-831f-428a-cc7d-131f651fec66"
      },
      "execution_count": 11,
      "outputs": [
        {
          "output_type": "stream",
          "name": "stdout",
          "text": [
            "torch.Size([1, 28, 28])\n",
            "60000 60000 10000 10000\n",
            "['T-shirt/top', 'Trouser', 'Pullover', 'Dress', 'Coat', 'Sandal', 'Shirt', 'Sneaker', 'Bag', 'Ankle boot']\n"
          ]
        }
      ]
    },
    {
      "cell_type": "markdown",
      "source": [
        "## 6. Visualize at least 5 different samples of the MNIST training dataset."
      ],
      "metadata": {
        "id": "qxZW-uAbxe_F"
      }
    },
    {
      "cell_type": "code",
      "source": [
        "# Plot image\n",
        "torch.manual_seed(23)\n",
        "fig = plt.figure(figsize=(9, 9))\n",
        "rows, cols = 4, 4\n",
        "for i in range(1, rows * cols + 1):\n",
        "  random_idx = torch.randint(0, len(train_data), size=[1]).item()\n",
        "  img, label = train_data[random_idx]\n",
        "  fig.add_subplot(rows, cols, i)\n",
        "  plt.imshow(img.squeeze(), cmap=\"gray\")\n",
        "  plt.title(class_names[label])\n",
        "  plt.axis(False)"
      ],
      "metadata": {
        "id": "QVFsYi1PbItE",
        "colab": {
          "base_uri": "https://localhost:8080/",
          "height": 752
        },
        "outputId": "9ddd4a3c-d726-432a-80eb-d9bd36cc0ed9"
      },
      "execution_count": 12,
      "outputs": [
        {
          "output_type": "display_data",
          "data": {
            "text/plain": [
              "<Figure size 900x900 with 16 Axes>"
            ],
            "image/png": "[encoded data removed]"
          },
          "metadata": {}
        }
      ]
    },
    {
      "cell_type": "markdown",
      "source": [
        "## 7. Turn the MNIST train and test datasets into dataloaders using `torch.utils.data.DataLoader`, set the `batch_size=32`."
      ],
      "metadata": {
        "id": "JAPDzW0wxhi3"
      }
    },
    {
      "cell_type": "code",
      "source": [
        "from torch.utils.data import DataLoader\n",
        "\n",
        "BATCH_SIZE = 32\n",
        "\n",
        "# Turn datasets into iterables (batches)\n",
        "train_dataloader = DataLoader(\n",
        "    train_data,\n",
        "    batch_size = BATCH_SIZE,\n",
        "    shuffle = True\n",
        ")\n",
        "\n",
        "test_dataloader = DataLoader(\n",
        "    test_data,\n",
        "    batch_size = BATCH_SIZE,\n",
        "    shuffle = False\n",
        ")\n",
        "\n",
        "print(f\"Dataloaders: {train_dataloader, test_dataloader}\")\n",
        "print(f\"Length of train dataloader: {len(train_dataloader)} batches of {BATCH_SIZE}\")\n",
        "print(f\"Length of test dataloader: {len(test_dataloader)} batches of {BATCH_SIZE}\")\n"
      ],
      "metadata": {
        "id": "ALA6MPcFbJXQ",
        "colab": {
          "base_uri": "https://localhost:8080/"
        },
        "outputId": "01e037dc-9bfe-48b6-c1c7-1d91e91a8f4c"
      },
      "execution_count": 13,
      "outputs": [
        {
          "output_type": "stream",
          "name": "stdout",
          "text": [
            "Dataloaders: (<torch.utils.data.dataloader.DataLoader object at 0x7b37bc018c40>, <torch.utils.data.dataloader.DataLoader object at 0x7b37bc018250>)\n",
            "Length of train dataloader: 1875 batches of 32\n",
            "Length of test dataloader: 313 batches of 32\n"
          ]
        }
      ]
    },
    {
      "cell_type": "markdown",
      "source": [
        "## 8. Recreate `model_2` used in notebook 03 (the same model from the [CNN Explainer website](https://poloclub.github.io/cnn-explainer/), also known as TinyVGG) capable of fitting on the MNIST dataset."
      ],
      "metadata": {
        "id": "bCCVfXk5xjYS"
      }
    },
    {
      "cell_type": "code",
      "source": [
        "class FashionMNISTModelV2(nn.Module):\n",
        "  def __init__(self, input_shape: int, output_shape: int, hidden_units: int):\n",
        "    super().__init__()\n",
        "    self.block_1 = nn.Sequential(\n",
        "        nn.Conv2d(in_channels=input_shape,\n",
        "                  out_channels=hidden_units,\n",
        "                  kernel_size=3,\n",
        "                  stride=1,\n",
        "                  padding=1),\n",
        "        nn.ReLU(),\n",
        "        nn.Conv2d(in_channels=hidden_units,\n",
        "                  out_channels=hidden_units,\n",
        "                  kernel_size=3,\n",
        "                  stride=1,\n",
        "                  padding=1),\n",
        "        nn.ReLU(),\n",
        "        nn.MaxPool2d(\n",
        "            kernel_size=2,\n",
        "            stride=2\n",
        "        )\n",
        "    )\n",
        "    self.block_2 = nn.Sequential(\n",
        "        nn.Conv2d(\n",
        "            in_channels=hidden_units,\n",
        "            out_channels=hidden_units,\n",
        "            kernel_size=3,\n",
        "            stride=1,\n",
        "            padding=1\n",
        "        ),\n",
        "        nn.ReLU(),\n",
        "        nn.Conv2d(hidden_units, hidden_units, 3, padding=1),\n",
        "        nn.ReLU(),\n",
        "        nn.MaxPool2d(\n",
        "            kernel_size=2\n",
        "        )\n",
        "    )\n",
        "    self.classifier = nn.Sequential(\n",
        "        nn.Flatten(),\n",
        "        nn.Linear(\n",
        "            in_features=hidden_units*7*7,\n",
        "            out_features=output_shape\n",
        "        )\n",
        "    )\n",
        "\n",
        "  def forward(self, x: torch.Tensor):\n",
        "    x = self.block_1(x)\n",
        "    x = self.block_2(x)\n",
        "    x = self.classifier(x)\n",
        "    return x\n",
        "\n",
        "torch.manual_seed(42)\n",
        "model_2 = FashionMNISTModelV2(input_shape=1,\n",
        "                              hidden_units=10,\n",
        "                              output_shape=len(class_names)).to(device)\n",
        "model_2\n",
        "\n",
        "\n"
      ],
      "metadata": {
        "id": "5IKNF22XbKYS",
        "colab": {
          "base_uri": "https://localhost:8080/"
        },
        "outputId": "7a71938d-769b-4ec2-aa07-9947b4789353"
      },
      "execution_count": 14,
      "outputs": [
        {
          "output_type": "execute_result",
          "data": {
            "text/plain": [
              "FashionMNISTModelV2(\n",
              "  (block_1): Sequential(\n",
              "    (0): Conv2d(1, 10, kernel_size=(3, 3), stride=(1, 1), padding=(1, 1))\n",
              "    (1): ReLU()\n",
              "    (2): Conv2d(10, 10, kernel_size=(3, 3), stride=(1, 1), padding=(1, 1))\n",
              "    (3): ReLU()\n",
              "    (4): MaxPool2d(kernel_size=2, stride=2, padding=0, dilation=1, ceil_mode=False)\n",
              "  )\n",
              "  (block_2): Sequential(\n",
              "    (0): Conv2d(10, 10, kernel_size=(3, 3), stride=(1, 1), padding=(1, 1))\n",
              "    (1): ReLU()\n",
              "    (2): Conv2d(10, 10, kernel_size=(3, 3), stride=(1, 1), padding=(1, 1))\n",
              "    (3): ReLU()\n",
              "    (4): MaxPool2d(kernel_size=2, stride=2, padding=0, dilation=1, ceil_mode=False)\n",
              "  )\n",
              "  (classifier): Sequential(\n",
              "    (0): Flatten(start_dim=1, end_dim=-1)\n",
              "    (1): Linear(in_features=490, out_features=10, bias=True)\n",
              "  )\n",
              ")"
            ]
          },
          "metadata": {},
          "execution_count": 14
        }
      ]
    },
    {
      "cell_type": "markdown",
      "source": [
        "## 9. Train the model you built in exercise 8. for 5 epochs on CPU and GPU and see how long it takes on each."
      ],
      "metadata": {
        "id": "sf_3zUr7xlhy"
      }
    },
    {
      "cell_type": "code",
      "source": [
        "# Setup loss function and optimizer\n",
        "loss_fn = nn.CrossEntropyLoss()\n",
        "optimizer = torch.optim.SGD(params=model_2.parameters(),\n",
        "                            lr=0.1)"
      ],
      "metadata": {
        "id": "jSo6vVWFbNLD"
      },
      "execution_count": 15,
      "outputs": []
    },
    {
      "cell_type": "code",
      "source": [
        "import requests\n",
        "from pathlib import Path\n",
        "\n",
        "# Download helper functions from Learn PyTorch repo (if not already downloaded)\n",
        "if Path(\"helper_functions.py\").is_file():\n",
        "  print(\"helper_functions.py already exists, skipping download\")\n",
        "else:\n",
        "  print(\"Downloading helper_functions.py\")\n",
        "  # Note: you need the \"raw\" GitHub URL for this to work\n",
        "  request = requests.get(\"https://raw.githubusercontent.com/mrdbourke/pytorch-deep-learning/main/helper_functions.py\")\n",
        "  with open(\"helper_functions.py\", \"wb\") as f:\n",
        "    f.write(request.content)\n",
        "# Import accuracy metric\n",
        "from helper_functions import accuracy_fn"
      ],
      "metadata": {
        "colab": {
          "base_uri": "https://localhost:8080/"
        },
        "id": "HFsbjHEvWf4D",
        "outputId": "f28f20e5-6dd7-4afe-f9a7-b00cb242cc59"
      },
      "execution_count": 16,
      "outputs": [
        {
          "output_type": "stream",
          "name": "stdout",
          "text": [
            "Downloading helper_functions.py\n"
          ]
        }
      ]
    },
    {
      "cell_type": "code",
      "source": [
        "# train_step\n",
        "def train_step(\n",
        "    model: torch.nn.Module,\n",
        "    data_loader: torch.utils.data.DataLoader,\n",
        "    loss_fn: torch.nn.Module,\n",
        "    optimizer: torch.optim.Optimizer,\n",
        "    accuracy_fn,\n",
        "    device: torch.device = device):\n",
        "\n",
        "  train_loss, train_acc = 0, 0\n",
        "  model.to(device)\n",
        "\n",
        "  for batch, (X, y) in enumerate(data_loader):\n",
        "    X, y = X.to(device), y.to(device)\n",
        "\n",
        "    y_pred = model(X)\n",
        "\n",
        "    loss = loss_fn(y_pred, y)\n",
        "    train_loss += loss\n",
        "    train_acc += accuracy_fn(y_true=y,\n",
        "                            y_pred = y_pred.argmax(dim=1))\n",
        "\n",
        "    optimizer.zero_grad()\n",
        "    loss.backward()\n",
        "    optimizer.step()\n",
        "\n",
        "  train_loss /= len(data_loader)\n",
        "  train_acc /= len(data_loader)\n",
        "  print(f\"Train loss: {train_loss:.5f} | Train accuracy: {train_acc:.5f}%\")\n",
        "\n",
        "def test_step(data_loader: torch.utils.data.DataLoader,\n",
        "              model: torch.nn.Module,\n",
        "              loss_fn: torch.nn.Module,\n",
        "              accuracy_fn,\n",
        "              device: torch.device = device):\n",
        "  test_loss, test_acc = 0, 0\n",
        "  model.to(device)\n",
        "  model.eval()\n",
        "\n",
        "  with torch.inference_mode():\n",
        "    for X, y in data_loader:\n",
        "      X, y = X.to(device), y.to(device)\n",
        "\n",
        "      test_pred = model(X)\n",
        "\n",
        "      test_loss += loss_fn(test_pred, y)\n",
        "      test_acc += accuracy_fn(y_true=y,\n",
        "                              y_pred=test_pred.argmax(dim=1)\n",
        "                              )\n",
        "      test_loss /= len(data_loader)\n",
        "      test_acc /= len(data_loader)\n",
        "      print(f\"Test loss: {test_loss:.5f} | Test Accuracy: {test_acc:.5f} %\")\n",
        "\n"
      ],
      "metadata": {
        "id": "n6AJHH9VR5VT"
      },
      "execution_count": 17,
      "outputs": []
    },
    {
      "cell_type": "code",
      "source": [
        "# training model\n",
        "\n",
        "torch.manual_seed(42)\n",
        "\n",
        "from timeit import default_timer as timer\n",
        "from tqdm import tqdm\n",
        "start_time = timer()\n",
        "epochs = 5\n",
        "\n",
        "for epoch in tqdm(range(epochs)):\n",
        "  print(f\"Epoch: {epoch}\\n------------\")\n",
        "  train_step(data_loader=train_dataloader,\n",
        "            model=model_2,\n",
        "            loss_fn=loss_fn,\n",
        "            optimizer=optimizer,\n",
        "            accuracy_fn=accuracy_fn\n",
        "             )\n",
        "  test_step(\n",
        "      data_loader=test_dataloader,\n",
        "      model=model_2,\n",
        "      loss_fn=loss_fn,\n",
        "      accuracy_fn=accuracy_fn\n",
        "  )\n",
        "\n",
        "end_time = timer()\n",
        "\n",
        "print(f\"Training time: {end_time - start_time}\")"
      ],
      "metadata": {
        "colab": {
          "base_uri": "https://localhost:8080/"
        },
        "id": "UDV1oYybVCBS",
        "outputId": "4bcac949-78fc-4c4d-869b-8207e96ad3b7"
      },
      "execution_count": 18,
      "outputs": [
        {
          "output_type": "stream",
          "name": "stderr",
          "text": [
            "\r  0%|          | 0/5 [00:00<?, ?it/s]"
          ]
        },
        {
          "output_type": "stream",
          "name": "stdout",
          "text": [
            "Epoch: 0\n",
            "------------\n",
            "Train loss: 0.59227 | Train accuracy: 78.52500%\n",
            "Test loss: 0.00184 | Test Accuracy: 0.25958 %\n",
            "Test loss: 0.00156 | Test Accuracy: 0.24045 %\n",
            "Test loss: 0.00094 | Test Accuracy: 0.28032 %\n",
            "Test loss: 0.00063 | Test Accuracy: 0.30042 %\n",
            "Test loss: 0.00127 | Test Accuracy: 0.28051 %\n",
            "Test loss: 0.00048 | Test Accuracy: 0.31040 %\n",
            "Test loss: 0.00049 | Test Accuracy: 0.32048 %\n",
            "Test loss: 0.00146 | Test Accuracy: 0.26061 %\n",
            "Test loss: 0.00080 | Test Accuracy: 0.29037 %\n",
            "Test loss: 0.00089 | Test Accuracy: 0.29046 %\n",
            "Test loss: 0.00092 | Test Accuracy: 0.29046 %\n",
            "Test loss: 0.00130 | Test Accuracy: 0.27050 %\n",
            "Test loss: 0.00117 | Test Accuracy: 0.29040 %\n",
            "Test loss: 0.00106 | Test Accuracy: 0.29046 %\n",
            "Test loss: 0.00161 | Test Accuracy: 0.27050 %\n",
            "Test loss: 0.00103 | Test Accuracy: 0.29040 %\n",
            "Test loss: 0.00080 | Test Accuracy: 0.29046 %\n",
            "Test loss: 0.00122 | Test Accuracy: 0.26051 %\n",
            "Test loss: 0.00108 | Test Accuracy: 0.27040 %\n",
            "Test loss: 0.00167 | Test Accuracy: 0.25046 %\n",
            "Test loss: 0.00106 | Test Accuracy: 0.30032 %\n",
            "Test loss: 0.00152 | Test Accuracy: 0.26054 %\n",
            "Test loss: 0.00170 | Test Accuracy: 0.27040 %\n",
            "Test loss: 0.00150 | Test Accuracy: 0.27043 %\n",
            "Test loss: 0.00106 | Test Accuracy: 0.29040 %\n",
            "Test loss: 0.00135 | Test Accuracy: 0.29046 %\n",
            "Test loss: 0.00072 | Test Accuracy: 0.30045 %\n",
            "Test loss: 0.00090 | Test Accuracy: 0.28051 %\n",
            "Test loss: 0.00098 | Test Accuracy: 0.27046 %\n",
            "Test loss: 0.00116 | Test Accuracy: 0.29040 %\n",
            "Test loss: 0.00232 | Test Accuracy: 0.23056 %\n",
            "Test loss: 0.00139 | Test Accuracy: 0.28029 %\n",
            "Test loss: 0.00105 | Test Accuracy: 0.28045 %\n",
            "Test loss: 0.00092 | Test Accuracy: 0.28045 %\n",
            "Test loss: 0.00136 | Test Accuracy: 0.28045 %\n",
            "Test loss: 0.00119 | Test Accuracy: 0.29043 %\n",
            "Test loss: 0.00134 | Test Accuracy: 0.29046 %\n",
            "Test loss: 0.00130 | Test Accuracy: 0.27050 %\n",
            "Test loss: 0.00134 | Test Accuracy: 0.27043 %\n",
            "Test loss: 0.00143 | Test Accuracy: 0.26045 %\n",
            "Test loss: 0.00147 | Test Accuracy: 0.28038 %\n",
            "Test loss: 0.00132 | Test Accuracy: 0.27046 %\n",
            "Test loss: 0.00121 | Test Accuracy: 0.27043 %\n",
            "Test loss: 0.00109 | Test Accuracy: 0.29040 %\n",
            "Test loss: 0.00055 | Test Accuracy: 0.31043 %\n",
            "Test loss: 0.00163 | Test Accuracy: 0.28054 %\n",
            "Test loss: 0.00112 | Test Accuracy: 0.28045 %\n",
            "Test loss: 0.00117 | Test Accuracy: 0.27046 %\n",
            "Test loss: 0.00061 | Test Accuracy: 0.31037 %\n",
            "Test loss: 0.00095 | Test Accuracy: 0.28054 %\n",
            "Test loss: 0.00086 | Test Accuracy: 0.28045 %\n",
            "Test loss: 0.00209 | Test Accuracy: 0.26048 %\n",
            "Test loss: 0.00070 | Test Accuracy: 0.29037 %\n",
            "Test loss: 0.00109 | Test Accuracy: 0.26051 %\n",
            "Test loss: 0.00152 | Test Accuracy: 0.28039 %\n",
            "Test loss: 0.00091 | Test Accuracy: 0.31040 %\n",
            "Test loss: 0.00099 | Test Accuracy: 0.28054 %\n",
            "Test loss: 0.00169 | Test Accuracy: 0.28045 %\n",
            "Test loss: 0.00063 | Test Accuracy: 0.29043 %\n",
            "Test loss: 0.00080 | Test Accuracy: 0.29046 %\n",
            "Test loss: 0.00131 | Test Accuracy: 0.26051 %\n",
            "Test loss: 0.00172 | Test Accuracy: 0.24045 %\n",
            "Test loss: 0.00137 | Test Accuracy: 0.29030 %\n",
            "Test loss: 0.00180 | Test Accuracy: 0.26051 %\n",
            "Test loss: 0.00120 | Test Accuracy: 0.27040 %\n",
            "Test loss: 0.00099 | Test Accuracy: 0.28042 %\n",
            "Test loss: 0.00055 | Test Accuracy: 0.32038 %\n",
            "Test loss: 0.00052 | Test Accuracy: 0.31053 %\n",
            "Test loss: 0.00122 | Test Accuracy: 0.28054 %\n",
            "Test loss: 0.00047 | Test Accuracy: 0.32039 %\n",
            "Test loss: 0.00060 | Test Accuracy: 0.31053 %\n",
            "Test loss: 0.00146 | Test Accuracy: 0.24061 %\n",
            "Test loss: 0.00166 | Test Accuracy: 0.26035 %\n",
            "Test loss: 0.00076 | Test Accuracy: 0.30035 %\n",
            "Test loss: 0.00104 | Test Accuracy: 0.28051 %\n",
            "Test loss: 0.00089 | Test Accuracy: 0.29043 %\n",
            "Test loss: 0.00078 | Test Accuracy: 0.29046 %\n",
            "Test loss: 0.00174 | Test Accuracy: 0.25053 %\n",
            "Test loss: 0.00158 | Test Accuracy: 0.26039 %\n",
            "Test loss: 0.00102 | Test Accuracy: 0.27040 %\n",
            "Test loss: 0.00082 | Test Accuracy: 0.28042 %\n",
            "Test loss: 0.00204 | Test Accuracy: 0.25050 %\n",
            "Test loss: 0.00145 | Test Accuracy: 0.27037 %\n",
            "Test loss: 0.00130 | Test Accuracy: 0.27043 %\n",
            "Test loss: 0.00106 | Test Accuracy: 0.29040 %\n",
            "Test loss: 0.00160 | Test Accuracy: 0.26051 %\n",
            "Test loss: 0.00107 | Test Accuracy: 0.29037 %\n",
            "Test loss: 0.00065 | Test Accuracy: 0.31043 %\n",
            "Test loss: 0.00180 | Test Accuracy: 0.26058 %\n",
            "Test loss: 0.00151 | Test Accuracy: 0.27040 %\n",
            "Test loss: 0.00245 | Test Accuracy: 0.25046 %\n",
            "Test loss: 0.00165 | Test Accuracy: 0.24042 %\n",
            "Test loss: 0.00169 | Test Accuracy: 0.27034 %\n",
            "Test loss: 0.00130 | Test Accuracy: 0.26045 %\n",
            "Test loss: 0.00120 | Test Accuracy: 0.29037 %\n",
            "Test loss: 0.00114 | Test Accuracy: 0.29046 %\n",
            "Test loss: 0.00183 | Test Accuracy: 0.26051 %\n",
            "Test loss: 0.00145 | Test Accuracy: 0.29037 %\n",
            "Test loss: 0.00042 | Test Accuracy: 0.32042 %\n",
            "Test loss: 0.00159 | Test Accuracy: 0.27059 %\n",
            "Test loss: 0.00140 | Test Accuracy: 0.24048 %\n",
            "Test loss: 0.00280 | Test Accuracy: 0.20045 %\n",
            "Test loss: 0.00170 | Test Accuracy: 0.26023 %\n",
            "Test loss: 0.00176 | Test Accuracy: 0.24045 %\n",
            "Test loss: 0.00116 | Test Accuracy: 0.27034 %\n",
            "Test loss: 0.00052 | Test Accuracy: 0.32035 %\n",
            "Test loss: 0.00091 | Test Accuracy: 0.30054 %\n",
            "Test loss: 0.00160 | Test Accuracy: 0.26054 %\n",
            "Test loss: 0.00260 | Test Accuracy: 0.24045 %\n",
            "Test loss: 0.00134 | Test Accuracy: 0.28032 %\n",
            "Test loss: 0.00172 | Test Accuracy: 0.27046 %\n",
            "Test loss: 0.00114 | Test Accuracy: 0.29040 %\n",
            "Test loss: 0.00084 | Test Accuracy: 0.29046 %\n",
            "Test loss: 0.00087 | Test Accuracy: 0.31043 %\n",
            "Test loss: 0.00146 | Test Accuracy: 0.26058 %\n",
            "Test loss: 0.00078 | Test Accuracy: 0.29037 %\n",
            "Test loss: 0.00144 | Test Accuracy: 0.26051 %\n",
            "Test loss: 0.00097 | Test Accuracy: 0.28039 %\n",
            "Test loss: 0.00146 | Test Accuracy: 0.26048 %\n",
            "Test loss: 0.00146 | Test Accuracy: 0.28038 %\n",
            "Test loss: 0.00118 | Test Accuracy: 0.28045 %\n",
            "Test loss: 0.00143 | Test Accuracy: 0.28045 %\n",
            "Test loss: 0.00110 | Test Accuracy: 0.27046 %\n",
            "Test loss: 0.00163 | Test Accuracy: 0.26045 %\n",
            "Test loss: 0.00167 | Test Accuracy: 0.26042 %\n",
            "Test loss: 0.00119 | Test Accuracy: 0.28038 %\n",
            "Test loss: 0.00189 | Test Accuracy: 0.25050 %\n",
            "Test loss: 0.00159 | Test Accuracy: 0.26038 %\n",
            "Test loss: 0.00140 | Test Accuracy: 0.26042 %\n",
            "Test loss: 0.00244 | Test Accuracy: 0.24045 %\n",
            "Test loss: 0.00112 | Test Accuracy: 0.26035 %\n",
            "Test loss: 0.00085 | Test Accuracy: 0.30035 %\n",
            "Test loss: 0.00160 | Test Accuracy: 0.27053 %\n",
            "Test loss: 0.00108 | Test Accuracy: 0.28042 %\n",
            "Test loss: 0.00084 | Test Accuracy: 0.31040 %\n",
            "Test loss: 0.00059 | Test Accuracy: 0.30051 %\n",
            "Test loss: 0.00053 | Test Accuracy: 0.31046 %\n",
            "Test loss: 0.00086 | Test Accuracy: 0.28054 %\n",
            "Test loss: 0.00085 | Test Accuracy: 0.29043 %\n",
            "Test loss: 0.00103 | Test Accuracy: 0.27050 %\n",
            "Test loss: 0.00098 | Test Accuracy: 0.29040 %\n",
            "Test loss: 0.00071 | Test Accuracy: 0.31043 %\n",
            "Test loss: 0.00075 | Test Accuracy: 0.30051 %\n",
            "Test loss: 0.00107 | Test Accuracy: 0.29050 %\n",
            "Test loss: 0.00084 | Test Accuracy: 0.30045 %\n",
            "Test loss: 0.00150 | Test Accuracy: 0.25056 %\n",
            "Test loss: 0.00184 | Test Accuracy: 0.25040 %\n",
            "Test loss: 0.00081 | Test Accuracy: 0.31030 %\n",
            "Test loss: 0.00104 | Test Accuracy: 0.28054 %\n",
            "Test loss: 0.00084 | Test Accuracy: 0.29043 %\n",
            "Test loss: 0.00231 | Test Accuracy: 0.25053 %\n",
            "Test loss: 0.00161 | Test Accuracy: 0.24042 %\n",
            "Test loss: 0.00136 | Test Accuracy: 0.26035 %\n",
            "Test loss: 0.00138 | Test Accuracy: 0.25043 %\n",
            "Test loss: 0.00120 | Test Accuracy: 0.27037 %\n",
            "Test loss: 0.00050 | Test Accuracy: 0.31037 %\n",
            "Test loss: 0.00181 | Test Accuracy: 0.25059 %\n",
            "Test loss: 0.00158 | Test Accuracy: 0.28035 %\n",
            "Test loss: 0.00154 | Test Accuracy: 0.26048 %\n",
            "Test loss: 0.00136 | Test Accuracy: 0.27040 %\n",
            "Test loss: 0.00124 | Test Accuracy: 0.27043 %\n",
            "Test loss: 0.00144 | Test Accuracy: 0.26045 %\n",
            "Test loss: 0.00129 | Test Accuracy: 0.25043 %\n",
            "Test loss: 0.00069 | Test Accuracy: 0.30032 %\n",
            "Test loss: 0.00180 | Test Accuracy: 0.27053 %\n",
            "Test loss: 0.00083 | Test Accuracy: 0.29040 %\n",
            "Test loss: 0.00196 | Test Accuracy: 0.28048 %\n",
            "Test loss: 0.00051 | Test Accuracy: 0.31040 %\n",
            "Test loss: 0.00085 | Test Accuracy: 0.30051 %\n",
            "Test loss: 0.00118 | Test Accuracy: 0.28051 %\n",
            "Test loss: 0.00186 | Test Accuracy: 0.26048 %\n",
            "Test loss: 0.00163 | Test Accuracy: 0.25043 %\n",
            "Test loss: 0.00280 | Test Accuracy: 0.22045 %\n",
            "Test loss: 0.00098 | Test Accuracy: 0.29024 %\n",
            "Test loss: 0.00272 | Test Accuracy: 0.23056 %\n",
            "Test loss: 0.00131 | Test Accuracy: 0.27031 %\n",
            "Test loss: 0.00124 | Test Accuracy: 0.27043 %\n",
            "Test loss: 0.00129 | Test Accuracy: 0.28042 %\n",
            "Test loss: 0.00161 | Test Accuracy: 0.25050 %\n",
            "Test loss: 0.00099 | Test Accuracy: 0.27037 %\n",
            "Test loss: 0.00116 | Test Accuracy: 0.29040 %\n",
            "Test loss: 0.00169 | Test Accuracy: 0.27050 %\n",
            "Test loss: 0.00105 | Test Accuracy: 0.29040 %\n",
            "Test loss: 0.00054 | Test Accuracy: 0.30045 %\n",
            "Test loss: 0.00095 | Test Accuracy: 0.29050 %\n",
            "Test loss: 0.00098 | Test Accuracy: 0.28048 %\n",
            "Test loss: 0.00178 | Test Accuracy: 0.24051 %\n",
            "Test loss: 0.00124 | Test Accuracy: 0.28032 %\n",
            "Test loss: 0.00175 | Test Accuracy: 0.26048 %\n",
            "Test loss: 0.00052 | Test Accuracy: 0.32032 %\n",
            "Test loss: 0.00149 | Test Accuracy: 0.26061 %\n",
            "Test loss: 0.00128 | Test Accuracy: 0.28039 %\n",
            "Test loss: 0.00139 | Test Accuracy: 0.26048 %\n",
            "Test loss: 0.00081 | Test Accuracy: 0.29037 %\n",
            "Test loss: 0.00077 | Test Accuracy: 0.30045 %\n",
            "Test loss: 0.00122 | Test Accuracy: 0.28051 %\n",
            "Test loss: 0.00164 | Test Accuracy: 0.26048 %\n",
            "Test loss: 0.00134 | Test Accuracy: 0.26042 %\n",
            "Test loss: 0.00111 | Test Accuracy: 0.29037 %\n",
            "Test loss: 0.00095 | Test Accuracy: 0.26051 %\n",
            "Test loss: 0.00137 | Test Accuracy: 0.26042 %\n",
            "Test loss: 0.00150 | Test Accuracy: 0.28038 %\n",
            "Test loss: 0.00147 | Test Accuracy: 0.26048 %\n",
            "Test loss: 0.00093 | Test Accuracy: 0.28038 %\n",
            "Test loss: 0.00145 | Test Accuracy: 0.28045 %\n",
            "Test loss: 0.00156 | Test Accuracy: 0.27046 %\n",
            "Test loss: 0.00142 | Test Accuracy: 0.29040 %\n",
            "Test loss: 0.00111 | Test Accuracy: 0.28048 %\n",
            "Test loss: 0.00158 | Test Accuracy: 0.27046 %\n",
            "Test loss: 0.00174 | Test Accuracy: 0.26045 %\n",
            "Test loss: 0.00086 | Test Accuracy: 0.30035 %\n",
            "Test loss: 0.00076 | Test Accuracy: 0.29050 %\n",
            "Test loss: 0.00086 | Test Accuracy: 0.30045 %\n",
            "Test loss: 0.00140 | Test Accuracy: 0.26054 %\n",
            "Test loss: 0.00147 | Test Accuracy: 0.28039 %\n",
            "Test loss: 0.00114 | Test Accuracy: 0.26048 %\n",
            "Test loss: 0.00107 | Test Accuracy: 0.27040 %\n",
            "Test loss: 0.00116 | Test Accuracy: 0.25046 %\n",
            "Test loss: 0.00142 | Test Accuracy: 0.25040 %\n",
            "Test loss: 0.00110 | Test Accuracy: 0.28035 %\n",
            "Test loss: 0.00136 | Test Accuracy: 0.25050 %\n",
            "Test loss: 0.00100 | Test Accuracy: 0.27037 %\n",
            "Test loss: 0.00133 | Test Accuracy: 0.28042 %\n",
            "Test loss: 0.00082 | Test Accuracy: 0.29043 %\n",
            "Test loss: 0.00157 | Test Accuracy: 0.26051 %\n",
            "Test loss: 0.00087 | Test Accuracy: 0.28039 %\n",
            "Test loss: 0.00150 | Test Accuracy: 0.28045 %\n",
            "Test loss: 0.00083 | Test Accuracy: 0.29043 %\n",
            "Test loss: 0.00110 | Test Accuracy: 0.28048 %\n",
            "Test loss: 0.00138 | Test Accuracy: 0.24051 %\n",
            "Test loss: 0.00127 | Test Accuracy: 0.28032 %\n",
            "Test loss: 0.00077 | Test Accuracy: 0.29043 %\n",
            "Test loss: 0.00135 | Test Accuracy: 0.26051 %\n",
            "Test loss: 0.00026 | Test Accuracy: 0.32032 %\n",
            "Test loss: 0.00082 | Test Accuracy: 0.29056 %\n",
            "Test loss: 0.00096 | Test Accuracy: 0.29047 %\n",
            "Test loss: 0.00109 | Test Accuracy: 0.28048 %\n",
            "Test loss: 0.00140 | Test Accuracy: 0.26048 %\n",
            "Test loss: 0.00124 | Test Accuracy: 0.28038 %\n",
            "Test loss: 0.00132 | Test Accuracy: 0.25050 %\n",
            "Test loss: 0.00065 | Test Accuracy: 0.30032 %\n",
            "Test loss: 0.00059 | Test Accuracy: 0.31046 %\n",
            "Test loss: 0.00114 | Test Accuracy: 0.26058 %\n",
            "Test loss: 0.00085 | Test Accuracy: 0.29037 %\n",
            "Test loss: 0.00122 | Test Accuracy: 0.27050 %\n",
            "Test loss: 0.00134 | Test Accuracy: 0.27043 %\n",
            "Test loss: 0.00136 | Test Accuracy: 0.27043 %\n",
            "Test loss: 0.00105 | Test Accuracy: 0.28042 %\n",
            "Test loss: 0.00132 | Test Accuracy: 0.26048 %\n",
            "Test loss: 0.00148 | Test Accuracy: 0.26042 %\n",
            "Test loss: 0.00112 | Test Accuracy: 0.26042 %\n",
            "Test loss: 0.00121 | Test Accuracy: 0.28038 %\n",
            "Test loss: 0.00140 | Test Accuracy: 0.27046 %\n",
            "Test loss: 0.00090 | Test Accuracy: 0.29040 %\n",
            "Test loss: 0.00178 | Test Accuracy: 0.26051 %\n",
            "Test loss: 0.00057 | Test Accuracy: 0.31034 %\n",
            "Test loss: 0.00178 | Test Accuracy: 0.28054 %\n",
            "Test loss: 0.00112 | Test Accuracy: 0.29043 %\n",
            "Test loss: 0.00155 | Test Accuracy: 0.26051 %\n",
            "Test loss: 0.00123 | Test Accuracy: 0.28039 %\n",
            "Test loss: 0.00082 | Test Accuracy: 0.30042 %\n",
            "Test loss: 0.00084 | Test Accuracy: 0.29050 %\n",
            "Test loss: 0.00081 | Test Accuracy: 0.30045 %\n",
            "Test loss: 0.00098 | Test Accuracy: 0.29050 %\n",
            "Test loss: 0.00118 | Test Accuracy: 0.27050 %\n",
            "Test loss: 0.00098 | Test Accuracy: 0.30038 %\n",
            "Test loss: 0.00114 | Test Accuracy: 0.29050 %\n",
            "Test loss: 0.00108 | Test Accuracy: 0.27050 %\n",
            "Test loss: 0.00078 | Test Accuracy: 0.29040 %\n",
            "Test loss: 0.00171 | Test Accuracy: 0.23056 %\n",
            "Test loss: 0.00151 | Test Accuracy: 0.28029 %\n",
            "Test loss: 0.00067 | Test Accuracy: 0.30042 %\n",
            "Test loss: 0.00188 | Test Accuracy: 0.24058 %\n",
            "Test loss: 0.00263 | Test Accuracy: 0.22042 %\n",
            "Test loss: 0.00100 | Test Accuracy: 0.28026 %\n",
            "Test loss: 0.00094 | Test Accuracy: 0.29043 %\n",
            "Test loss: 0.00084 | Test Accuracy: 0.30045 %\n",
            "Test loss: 0.00157 | Test Accuracy: 0.28051 %\n",
            "Test loss: 0.00166 | Test Accuracy: 0.27046 %\n",
            "Test loss: 0.00149 | Test Accuracy: 0.27043 %\n",
            "Test loss: 0.00087 | Test Accuracy: 0.28042 %\n",
            "Test loss: 0.00112 | Test Accuracy: 0.28045 %\n",
            "Test loss: 0.00112 | Test Accuracy: 0.28045 %\n",
            "Test loss: 0.00161 | Test Accuracy: 0.27046 %\n",
            "Test loss: 0.00117 | Test Accuracy: 0.28042 %\n",
            "Test loss: 0.00181 | Test Accuracy: 0.26048 %\n",
            "Test loss: 0.00160 | Test Accuracy: 0.26042 %\n",
            "Test loss: 0.00136 | Test Accuracy: 0.27040 %\n"
          ]
        },
        {
          "output_type": "stream",
          "name": "stderr",
          "text": [
            "\r 20%|██        | 1/5 [00:21<01:25, 21.50s/it]"
          ]
        },
        {
          "output_type": "stream",
          "name": "stdout",
          "text": [
            "Test loss: 0.00141 | Test Accuracy: 0.27043 %\n",
            "Test loss: 0.00159 | Test Accuracy: 0.27043 %\n",
            "Test loss: 0.00132 | Test Accuracy: 0.27043 %\n",
            "Test loss: 0.00113 | Test Accuracy: 0.29040 %\n",
            "Test loss: 0.00167 | Test Accuracy: 0.22058 %\n",
            "Test loss: 0.00102 | Test Accuracy: 0.27027 %\n",
            "Test loss: 0.00040 | Test Accuracy: 0.31037 %\n",
            "Test loss: 0.00143 | Test Accuracy: 0.27056 %\n",
            "Test loss: 0.00181 | Test Accuracy: 0.27043 %\n",
            "Test loss: 0.00099 | Test Accuracy: 0.27043 %\n",
            "Test loss: 0.00149 | Test Accuracy: 0.27043 %\n",
            "Test loss: 0.00167 | Test Accuracy: 0.27043 %\n",
            "Test loss: 0.00102 | Test Accuracy: 0.27043 %\n",
            "Test loss: 0.00118 | Test Accuracy: 0.28042 %\n",
            "Test loss: 0.00165 | Test Accuracy: 0.26048 %\n",
            "Test loss: 0.00062 | Test Accuracy: 0.30035 %\n",
            "Test loss: 0.00085 | Test Accuracy: 0.29050 %\n",
            "Test loss: 0.00096 | Test Accuracy: 0.27050 %\n",
            "Test loss: 0.00075 | Test Accuracy: 0.29040 %\n",
            "Test loss: 0.00056 | Test Accuracy: 0.30045 %\n",
            "Test loss: 0.00152 | Test Accuracy: 0.28051 %\n",
            "Test loss: 0.00121 | Test Accuracy: 0.27046 %\n",
            "Test loss: 0.00114 | Test Accuracy: 0.29040 %\n",
            "Test loss: 0.00173 | Test Accuracy: 0.23056 %\n",
            "Test loss: 0.00045 | Test Accuracy: 0.32023 %\n",
            "Epoch: 1\n",
            "------------\n",
            "Train loss: 0.35863 | Train accuracy: 87.05333%\n",
            "Test loss: 0.00179 | Test Accuracy: 0.24960 %\n",
            "Test loss: 0.00117 | Test Accuracy: 0.26038 %\n",
            "Test loss: 0.00095 | Test Accuracy: 0.30035 %\n",
            "Test loss: 0.00095 | Test Accuracy: 0.28051 %\n",
            "Test loss: 0.00126 | Test Accuracy: 0.27046 %\n",
            "Test loss: 0.00052 | Test Accuracy: 0.30038 %\n",
            "Test loss: 0.00050 | Test Accuracy: 0.31046 %\n",
            "Test loss: 0.00132 | Test Accuracy: 0.27056 %\n",
            "Test loss: 0.00060 | Test Accuracy: 0.30039 %\n",
            "Test loss: 0.00109 | Test Accuracy: 0.27053 %\n",
            "Test loss: 0.00092 | Test Accuracy: 0.28042 %\n",
            "Test loss: 0.00106 | Test Accuracy: 0.28045 %\n",
            "Test loss: 0.00110 | Test Accuracy: 0.30042 %\n",
            "Test loss: 0.00093 | Test Accuracy: 0.29050 %\n",
            "Test loss: 0.00146 | Test Accuracy: 0.25053 %\n",
            "Test loss: 0.00111 | Test Accuracy: 0.28035 %\n",
            "Test loss: 0.00061 | Test Accuracy: 0.30042 %\n",
            "Test loss: 0.00096 | Test Accuracy: 0.27053 %\n",
            "Test loss: 0.00088 | Test Accuracy: 0.28042 %\n",
            "Test loss: 0.00142 | Test Accuracy: 0.29043 %\n",
            "Test loss: 0.00088 | Test Accuracy: 0.30045 %\n",
            "Test loss: 0.00143 | Test Accuracy: 0.25056 %\n",
            "Test loss: 0.00144 | Test Accuracy: 0.28035 %\n",
            "Test loss: 0.00130 | Test Accuracy: 0.29043 %\n",
            "Test loss: 0.00111 | Test Accuracy: 0.30045 %\n",
            "Test loss: 0.00092 | Test Accuracy: 0.29050 %\n",
            "Test loss: 0.00068 | Test Accuracy: 0.30045 %\n",
            "Test loss: 0.00074 | Test Accuracy: 0.28051 %\n",
            "Test loss: 0.00109 | Test Accuracy: 0.28045 %\n",
            "Test loss: 0.00116 | Test Accuracy: 0.26048 %\n",
            "Test loss: 0.00212 | Test Accuracy: 0.24045 %\n",
            "Test loss: 0.00141 | Test Accuracy: 0.28032 %\n",
            "Test loss: 0.00081 | Test Accuracy: 0.30042 %\n",
            "Test loss: 0.00081 | Test Accuracy: 0.28051 %\n",
            "Test loss: 0.00145 | Test Accuracy: 0.28045 %\n",
            "Test loss: 0.00100 | Test Accuracy: 0.27046 %\n",
            "Test loss: 0.00120 | Test Accuracy: 0.28042 %\n",
            "Test loss: 0.00123 | Test Accuracy: 0.27046 %\n",
            "Test loss: 0.00153 | Test Accuracy: 0.27043 %\n",
            "Test loss: 0.00131 | Test Accuracy: 0.26045 %\n",
            "Test loss: 0.00132 | Test Accuracy: 0.27040 %\n",
            "Test loss: 0.00130 | Test Accuracy: 0.25046 %\n",
            "Test loss: 0.00094 | Test Accuracy: 0.29034 %\n",
            "Test loss: 0.00077 | Test Accuracy: 0.29046 %\n",
            "Test loss: 0.00072 | Test Accuracy: 0.30045 %\n",
            "Test loss: 0.00132 | Test Accuracy: 0.29050 %\n",
            "Test loss: 0.00118 | Test Accuracy: 0.27050 %\n",
            "Test loss: 0.00103 | Test Accuracy: 0.28042 %\n",
            "Test loss: 0.00038 | Test Accuracy: 0.32038 %\n",
            "Test loss: 0.00079 | Test Accuracy: 0.30054 %\n",
            "Test loss: 0.00063 | Test Accuracy: 0.30048 %\n",
            "Test loss: 0.00228 | Test Accuracy: 0.27053 %\n",
            "Test loss: 0.00056 | Test Accuracy: 0.31037 %\n",
            "Test loss: 0.00094 | Test Accuracy: 0.27056 %\n",
            "Test loss: 0.00135 | Test Accuracy: 0.28042 %\n",
            "Test loss: 0.00074 | Test Accuracy: 0.30042 %\n",
            "Test loss: 0.00085 | Test Accuracy: 0.29050 %\n",
            "Test loss: 0.00146 | Test Accuracy: 0.27050 %\n",
            "Test loss: 0.00085 | Test Accuracy: 0.29040 %\n",
            "Test loss: 0.00078 | Test Accuracy: 0.28048 %\n",
            "Test loss: 0.00125 | Test Accuracy: 0.24051 %\n",
            "Test loss: 0.00181 | Test Accuracy: 0.26035 %\n",
            "Test loss: 0.00126 | Test Accuracy: 0.28038 %\n",
            "Test loss: 0.00166 | Test Accuracy: 0.26048 %\n",
            "Test loss: 0.00104 | Test Accuracy: 0.29037 %\n",
            "Test loss: 0.00074 | Test Accuracy: 0.30045 %\n",
            "Test loss: 0.00034 | Test Accuracy: 0.32045 %\n",
            "Test loss: 0.00044 | Test Accuracy: 0.31053 %\n",
            "Test loss: 0.00085 | Test Accuracy: 0.30051 %\n",
            "Test loss: 0.00044 | Test Accuracy: 0.32045 %\n",
            "Test loss: 0.00049 | Test Accuracy: 0.31053 %\n",
            "Test loss: 0.00146 | Test Accuracy: 0.25059 %\n",
            "Test loss: 0.00174 | Test Accuracy: 0.25040 %\n",
            "Test loss: 0.00071 | Test Accuracy: 0.29034 %\n",
            "Test loss: 0.00100 | Test Accuracy: 0.30045 %\n",
            "Test loss: 0.00055 | Test Accuracy: 0.31046 %\n",
            "Test loss: 0.00081 | Test Accuracy: 0.29053 %\n",
            "Test loss: 0.00185 | Test Accuracy: 0.26051 %\n",
            "Test loss: 0.00149 | Test Accuracy: 0.26042 %\n",
            "Test loss: 0.00077 | Test Accuracy: 0.28038 %\n",
            "Test loss: 0.00084 | Test Accuracy: 0.28045 %\n",
            "Test loss: 0.00191 | Test Accuracy: 0.26048 %\n",
            "Test loss: 0.00147 | Test Accuracy: 0.26042 %\n",
            "Test loss: 0.00124 | Test Accuracy: 0.27040 %\n",
            "Test loss: 0.00110 | Test Accuracy: 0.27043 %\n",
            "Test loss: 0.00163 | Test Accuracy: 0.27043 %\n",
            "Test loss: 0.00095 | Test Accuracy: 0.29040 %\n",
            "Test loss: 0.00067 | Test Accuracy: 0.30045 %\n",
            "Test loss: 0.00172 | Test Accuracy: 0.27053 %\n",
            "Test loss: 0.00133 | Test Accuracy: 0.27043 %\n",
            "Test loss: 0.00206 | Test Accuracy: 0.25046 %\n",
            "Test loss: 0.00167 | Test Accuracy: 0.24042 %\n",
            "Test loss: 0.00163 | Test Accuracy: 0.28032 %\n",
            "Test loss: 0.00102 | Test Accuracy: 0.28045 %\n",
            "Test loss: 0.00125 | Test Accuracy: 0.28045 %\n",
            "Test loss: 0.00095 | Test Accuracy: 0.29043 %\n",
            "Test loss: 0.00161 | Test Accuracy: 0.27050 %\n",
            "Test loss: 0.00105 | Test Accuracy: 0.29040 %\n",
            "Test loss: 0.00050 | Test Accuracy: 0.29046 %\n",
            "Test loss: 0.00147 | Test Accuracy: 0.25053 %\n",
            "Test loss: 0.00150 | Test Accuracy: 0.26039 %\n",
            "Test loss: 0.00214 | Test Accuracy: 0.25043 %\n",
            "Test loss: 0.00161 | Test Accuracy: 0.27037 %\n",
            "Test loss: 0.00133 | Test Accuracy: 0.26045 %\n",
            "Test loss: 0.00121 | Test Accuracy: 0.26042 %\n",
            "Test loss: 0.00054 | Test Accuracy: 0.31034 %\n",
            "Test loss: 0.00066 | Test Accuracy: 0.31050 %\n",
            "Test loss: 0.00139 | Test Accuracy: 0.27056 %\n",
            "Test loss: 0.00223 | Test Accuracy: 0.25047 %\n",
            "Test loss: 0.00103 | Test Accuracy: 0.30032 %\n",
            "Test loss: 0.00167 | Test Accuracy: 0.27053 %\n",
            "Test loss: 0.00108 | Test Accuracy: 0.29040 %\n",
            "Test loss: 0.00081 | Test Accuracy: 0.29046 %\n",
            "Test loss: 0.00093 | Test Accuracy: 0.29046 %\n",
            "Test loss: 0.00099 | Test Accuracy: 0.27050 %\n",
            "Test loss: 0.00070 | Test Accuracy: 0.28042 %\n",
            "Test loss: 0.00100 | Test Accuracy: 0.28045 %\n",
            "Test loss: 0.00104 | Test Accuracy: 0.29043 %\n",
            "Test loss: 0.00175 | Test Accuracy: 0.25053 %\n",
            "Test loss: 0.00137 | Test Accuracy: 0.25040 %\n",
            "Test loss: 0.00090 | Test Accuracy: 0.28035 %\n",
            "Test loss: 0.00152 | Test Accuracy: 0.29043 %\n",
            "Test loss: 0.00066 | Test Accuracy: 0.30045 %\n",
            "Test loss: 0.00145 | Test Accuracy: 0.26054 %\n",
            "Test loss: 0.00165 | Test Accuracy: 0.27040 %\n",
            "Test loss: 0.00109 | Test Accuracy: 0.27043 %\n",
            "Test loss: 0.00171 | Test Accuracy: 0.26045 %\n",
            "Test loss: 0.00120 | Test Accuracy: 0.27040 %\n",
            "Test loss: 0.00115 | Test Accuracy: 0.27043 %\n",
            "Test loss: 0.00194 | Test Accuracy: 0.26045 %\n",
            "Test loss: 0.00063 | Test Accuracy: 0.30035 %\n",
            "Test loss: 0.00097 | Test Accuracy: 0.28051 %\n",
            "Test loss: 0.00137 | Test Accuracy: 0.28045 %\n",
            "Test loss: 0.00103 | Test Accuracy: 0.27046 %\n",
            "Test loss: 0.00098 | Test Accuracy: 0.28042 %\n",
            "Test loss: 0.00040 | Test Accuracy: 0.30042 %\n",
            "Test loss: 0.00040 | Test Accuracy: 0.31046 %\n",
            "Test loss: 0.00093 | Test Accuracy: 0.29053 %\n",
            "Test loss: 0.00073 | Test Accuracy: 0.30045 %\n",
            "Test loss: 0.00090 | Test Accuracy: 0.28051 %\n",
            "Test loss: 0.00090 | Test Accuracy: 0.27046 %\n",
            "Test loss: 0.00076 | Test Accuracy: 0.29040 %\n",
            "Test loss: 0.00091 | Test Accuracy: 0.30045 %\n",
            "Test loss: 0.00094 | Test Accuracy: 0.30048 %\n",
            "Test loss: 0.00080 | Test Accuracy: 0.29050 %\n",
            "Test loss: 0.00131 | Test Accuracy: 0.28048 %\n",
            "Test loss: 0.00144 | Test Accuracy: 0.25050 %\n",
            "Test loss: 0.00091 | Test Accuracy: 0.29034 %\n",
            "Test loss: 0.00089 | Test Accuracy: 0.29046 %\n",
            "Test loss: 0.00079 | Test Accuracy: 0.28048 %\n",
            "Test loss: 0.00217 | Test Accuracy: 0.25050 %\n",
            "Test loss: 0.00127 | Test Accuracy: 0.26038 %\n",
            "Test loss: 0.00114 | Test Accuracy: 0.29037 %\n",
            "Test loss: 0.00141 | Test Accuracy: 0.27050 %\n",
            "Test loss: 0.00112 | Test Accuracy: 0.27043 %\n",
            "Test loss: 0.00056 | Test Accuracy: 0.31037 %\n",
            "Test loss: 0.00163 | Test Accuracy: 0.28054 %\n",
            "Test loss: 0.00152 | Test Accuracy: 0.27046 %\n",
            "Test loss: 0.00180 | Test Accuracy: 0.25046 %\n",
            "Test loss: 0.00092 | Test Accuracy: 0.29034 %\n",
            "Test loss: 0.00147 | Test Accuracy: 0.26051 %\n",
            "Test loss: 0.00137 | Test Accuracy: 0.26042 %\n",
            "Test loss: 0.00128 | Test Accuracy: 0.26042 %\n",
            "Test loss: 0.00047 | Test Accuracy: 0.31034 %\n",
            "Test loss: 0.00163 | Test Accuracy: 0.26058 %\n",
            "Test loss: 0.00122 | Test Accuracy: 0.27040 %\n",
            "Test loss: 0.00199 | Test Accuracy: 0.27043 %\n",
            "Test loss: 0.00040 | Test Accuracy: 0.31037 %\n",
            "Test loss: 0.00092 | Test Accuracy: 0.30051 %\n",
            "Test loss: 0.00109 | Test Accuracy: 0.28051 %\n",
            "Test loss: 0.00185 | Test Accuracy: 0.26048 %\n",
            "Test loss: 0.00134 | Test Accuracy: 0.26042 %\n",
            "Test loss: 0.00290 | Test Accuracy: 0.22048 %\n",
            "Test loss: 0.00101 | Test Accuracy: 0.29024 %\n",
            "Test loss: 0.00256 | Test Accuracy: 0.23056 %\n",
            "Test loss: 0.00131 | Test Accuracy: 0.27031 %\n",
            "Test loss: 0.00109 | Test Accuracy: 0.27043 %\n",
            "Test loss: 0.00124 | Test Accuracy: 0.26045 %\n",
            "Test loss: 0.00128 | Test Accuracy: 0.27040 %\n",
            "Test loss: 0.00092 | Test Accuracy: 0.29040 %\n",
            "Test loss: 0.00084 | Test Accuracy: 0.28048 %\n",
            "Test loss: 0.00140 | Test Accuracy: 0.25050 %\n",
            "Test loss: 0.00087 | Test Accuracy: 0.30032 %\n",
            "Test loss: 0.00054 | Test Accuracy: 0.30048 %\n",
            "Test loss: 0.00089 | Test Accuracy: 0.29050 %\n",
            "Test loss: 0.00106 | Test Accuracy: 0.28048 %\n",
            "Test loss: 0.00136 | Test Accuracy: 0.27046 %\n",
            "Test loss: 0.00130 | Test Accuracy: 0.28042 %\n",
            "Test loss: 0.00152 | Test Accuracy: 0.27046 %\n",
            "Test loss: 0.00067 | Test Accuracy: 0.29040 %\n",
            "Test loss: 0.00143 | Test Accuracy: 0.25053 %\n",
            "Test loss: 0.00105 | Test Accuracy: 0.29034 %\n",
            "Test loss: 0.00145 | Test Accuracy: 0.25053 %\n",
            "Test loss: 0.00060 | Test Accuracy: 0.30032 %\n",
            "Test loss: 0.00073 | Test Accuracy: 0.29050 %\n",
            "Test loss: 0.00109 | Test Accuracy: 0.27050 %\n",
            "Test loss: 0.00110 | Test Accuracy: 0.29040 %\n",
            "Test loss: 0.00134 | Test Accuracy: 0.29046 %\n",
            "Test loss: 0.00090 | Test Accuracy: 0.29046 %\n",
            "Test loss: 0.00091 | Test Accuracy: 0.27050 %\n",
            "Test loss: 0.00132 | Test Accuracy: 0.28042 %\n",
            "Test loss: 0.00127 | Test Accuracy: 0.28045 %\n",
            "Test loss: 0.00118 | Test Accuracy: 0.28045 %\n",
            "Test loss: 0.00084 | Test Accuracy: 0.28045 %\n",
            "Test loss: 0.00125 | Test Accuracy: 0.26048 %\n",
            "Test loss: 0.00150 | Test Accuracy: 0.26042 %\n",
            "Test loss: 0.00159 | Test Accuracy: 0.28038 %\n",
            "Test loss: 0.00099 | Test Accuracy: 0.29043 %\n",
            "Test loss: 0.00105 | Test Accuracy: 0.29046 %\n",
            "Test loss: 0.00139 | Test Accuracy: 0.27050 %\n",
            "Test loss: 0.00107 | Test Accuracy: 0.26045 %\n",
            "Test loss: 0.00064 | Test Accuracy: 0.30035 %\n",
            "Test loss: 0.00086 | Test Accuracy: 0.28051 %\n",
            "Test loss: 0.00127 | Test Accuracy: 0.27046 %\n",
            "Test loss: 0.00136 | Test Accuracy: 0.28042 %\n",
            "Test loss: 0.00094 | Test Accuracy: 0.29043 %\n",
            "Test loss: 0.00111 | Test Accuracy: 0.26051 %\n",
            "Test loss: 0.00075 | Test Accuracy: 0.29037 %\n",
            "Test loss: 0.00125 | Test Accuracy: 0.27050 %\n",
            "Test loss: 0.00124 | Test Accuracy: 0.27043 %\n",
            "Test loss: 0.00118 | Test Accuracy: 0.25046 %\n",
            "Test loss: 0.00097 | Test Accuracy: 0.28035 %\n",
            "Test loss: 0.00106 | Test Accuracy: 0.28045 %\n",
            "Test loss: 0.00089 | Test Accuracy: 0.30042 %\n",
            "Test loss: 0.00120 | Test Accuracy: 0.27053 %\n",
            "Test loss: 0.00091 | Test Accuracy: 0.28042 %\n",
            "Test loss: 0.00123 | Test Accuracy: 0.29043 %\n",
            "Test loss: 0.00095 | Test Accuracy: 0.29046 %\n",
            "Test loss: 0.00079 | Test Accuracy: 0.29046 %\n",
            "Test loss: 0.00110 | Test Accuracy: 0.26051 %\n",
            "Test loss: 0.00090 | Test Accuracy: 0.30035 %\n",
            "Test loss: 0.00062 | Test Accuracy: 0.30048 %\n",
            "Test loss: 0.00089 | Test Accuracy: 0.28051 %\n",
            "Test loss: 0.00039 | Test Accuracy: 0.31040 %\n",
            "Test loss: 0.00064 | Test Accuracy: 0.30051 %\n",
            "Test loss: 0.00078 | Test Accuracy: 0.29050 %\n",
            "Test loss: 0.00100 | Test Accuracy: 0.27050 %\n",
            "Test loss: 0.00111 | Test Accuracy: 0.29040 %\n",
            "Test loss: 0.00070 | Test Accuracy: 0.30045 %\n",
            "Test loss: 0.00104 | Test Accuracy: 0.26054 %\n",
            "Test loss: 0.00071 | Test Accuracy: 0.30035 %\n",
            "Test loss: 0.00059 | Test Accuracy: 0.30048 %\n",
            "Test loss: 0.00079 | Test Accuracy: 0.29050 %\n",
            "Test loss: 0.00087 | Test Accuracy: 0.29046 %\n",
            "Test loss: 0.00124 | Test Accuracy: 0.27050 %\n",
            "Test loss: 0.00083 | Test Accuracy: 0.29040 %\n",
            "Test loss: 0.00119 | Test Accuracy: 0.28048 %\n",
            "Test loss: 0.00098 | Test Accuracy: 0.27046 %\n",
            "Test loss: 0.00122 | Test Accuracy: 0.27043 %\n",
            "Test loss: 0.00134 | Test Accuracy: 0.25046 %\n",
            "Test loss: 0.00121 | Test Accuracy: 0.28035 %\n",
            "Test loss: 0.00130 | Test Accuracy: 0.27046 %\n",
            "Test loss: 0.00147 | Test Accuracy: 0.25046 %\n",
            "Test loss: 0.00082 | Test Accuracy: 0.30032 %\n",
            "Test loss: 0.00174 | Test Accuracy: 0.27053 %\n",
            "Test loss: 0.00038 | Test Accuracy: 0.32035 %\n",
            "Test loss: 0.00133 | Test Accuracy: 0.28058 %\n",
            "Test loss: 0.00073 | Test Accuracy: 0.31040 %\n",
            "Test loss: 0.00105 | Test Accuracy: 0.27056 %\n",
            "Test loss: 0.00125 | Test Accuracy: 0.29040 %\n",
            "Test loss: 0.00093 | Test Accuracy: 0.30045 %\n",
            "Test loss: 0.00068 | Test Accuracy: 0.29050 %\n",
            "Test loss: 0.00069 | Test Accuracy: 0.30045 %\n",
            "Test loss: 0.00080 | Test Accuracy: 0.28051 %\n",
            "Test loss: 0.00119 | Test Accuracy: 0.28045 %\n",
            "Test loss: 0.00055 | Test Accuracy: 0.30042 %\n",
            "Test loss: 0.00131 | Test Accuracy: 0.28051 %\n",
            "Test loss: 0.00088 | Test Accuracy: 0.28045 %\n",
            "Test loss: 0.00097 | Test Accuracy: 0.29043 %\n",
            "Test loss: 0.00140 | Test Accuracy: 0.25053 %\n",
            "Test loss: 0.00143 | Test Accuracy: 0.26039 %\n",
            "Test loss: 0.00057 | Test Accuracy: 0.31034 %\n",
            "Test loss: 0.00172 | Test Accuracy: 0.24061 %\n",
            "Test loss: 0.00209 | Test Accuracy: 0.25037 %\n",
            "Test loss: 0.00104 | Test Accuracy: 0.28035 %\n",
            "Test loss: 0.00097 | Test Accuracy: 0.28045 %\n",
            "Test loss: 0.00076 | Test Accuracy: 0.30042 %\n",
            "Test loss: 0.00145 | Test Accuracy: 0.28051 %\n",
            "Test loss: 0.00146 | Test Accuracy: 0.29043 %\n",
            "Test loss: 0.00170 | Test Accuracy: 0.25053 %\n",
            "Test loss: 0.00057 | Test Accuracy: 0.31031 %\n",
            "Test loss: 0.00095 | Test Accuracy: 0.29053 %\n"
          ]
        },
        {
          "output_type": "stream",
          "name": "stderr",
          "text": [
            "\r 40%|████      | 2/5 [00:33<00:47, 15.77s/it]"
          ]
        },
        {
          "output_type": "stream",
          "name": "stdout",
          "text": [
            "Test loss: 0.00078 | Test Accuracy: 0.30045 %\n",
            "Test loss: 0.00130 | Test Accuracy: 0.27053 %\n",
            "Test loss: 0.00124 | Test Accuracy: 0.29040 %\n",
            "Test loss: 0.00151 | Test Accuracy: 0.27050 %\n",
            "Test loss: 0.00127 | Test Accuracy: 0.26045 %\n",
            "Test loss: 0.00089 | Test Accuracy: 0.29037 %\n",
            "Test loss: 0.00130 | Test Accuracy: 0.28048 %\n",
            "Test loss: 0.00160 | Test Accuracy: 0.26048 %\n",
            "Test loss: 0.00125 | Test Accuracy: 0.24045 %\n",
            "Test loss: 0.00101 | Test Accuracy: 0.28032 %\n",
            "Test loss: 0.00141 | Test Accuracy: 0.25050 %\n",
            "Test loss: 0.00077 | Test Accuracy: 0.29034 %\n",
            "Test loss: 0.00035 | Test Accuracy: 0.31043 %\n",
            "Test loss: 0.00109 | Test Accuracy: 0.28054 %\n",
            "Test loss: 0.00174 | Test Accuracy: 0.27046 %\n",
            "Test loss: 0.00103 | Test Accuracy: 0.30038 %\n",
            "Test loss: 0.00116 | Test Accuracy: 0.29050 %\n",
            "Test loss: 0.00151 | Test Accuracy: 0.28048 %\n",
            "Test loss: 0.00098 | Test Accuracy: 0.28045 %\n",
            "Test loss: 0.00088 | Test Accuracy: 0.30042 %\n",
            "Test loss: 0.00116 | Test Accuracy: 0.25056 %\n",
            "Test loss: 0.00084 | Test Accuracy: 0.29034 %\n",
            "Test loss: 0.00102 | Test Accuracy: 0.29046 %\n",
            "Test loss: 0.00055 | Test Accuracy: 0.30045 %\n",
            "Test loss: 0.00054 | Test Accuracy: 0.30048 %\n",
            "Test loss: 0.00061 | Test Accuracy: 0.29050 %\n",
            "Test loss: 0.00138 | Test Accuracy: 0.27050 %\n",
            "Test loss: 0.00109 | Test Accuracy: 0.27043 %\n",
            "Test loss: 0.00112 | Test Accuracy: 0.28042 %\n",
            "Test loss: 0.00149 | Test Accuracy: 0.22054 %\n",
            "Test loss: 0.00059 | Test Accuracy: 0.30023 %\n",
            "Epoch: 2\n",
            "------------\n",
            "Train loss: 0.32038 | Train accuracy: 88.47667%\n",
            "Test loss: 0.00217 | Test Accuracy: 0.27955 %\n",
            "Test loss: 0.00113 | Test Accuracy: 0.28045 %\n",
            "Test loss: 0.00108 | Test Accuracy: 0.28045 %\n",
            "Test loss: 0.00083 | Test Accuracy: 0.28045 %\n",
            "Test loss: 0.00115 | Test Accuracy: 0.27046 %\n",
            "Test loss: 0.00049 | Test Accuracy: 0.30038 %\n",
            "Test loss: 0.00035 | Test Accuracy: 0.31046 %\n",
            "Test loss: 0.00116 | Test Accuracy: 0.26058 %\n",
            "Test loss: 0.00041 | Test Accuracy: 0.32032 %\n",
            "Test loss: 0.00090 | Test Accuracy: 0.29056 %\n",
            "Test loss: 0.00087 | Test Accuracy: 0.29047 %\n",
            "Test loss: 0.00100 | Test Accuracy: 0.28048 %\n",
            "Test loss: 0.00089 | Test Accuracy: 0.29043 %\n",
            "Test loss: 0.00092 | Test Accuracy: 0.30045 %\n",
            "Test loss: 0.00119 | Test Accuracy: 0.27053 %\n",
            "Test loss: 0.00084 | Test Accuracy: 0.29040 %\n",
            "Test loss: 0.00050 | Test Accuracy: 0.30045 %\n",
            "Test loss: 0.00089 | Test Accuracy: 0.28051 %\n",
            "Test loss: 0.00080 | Test Accuracy: 0.28045 %\n",
            "Test loss: 0.00120 | Test Accuracy: 0.29043 %\n",
            "Test loss: 0.00081 | Test Accuracy: 0.30045 %\n",
            "Test loss: 0.00120 | Test Accuracy: 0.27053 %\n",
            "Test loss: 0.00172 | Test Accuracy: 0.28042 %\n",
            "Test loss: 0.00116 | Test Accuracy: 0.28045 %\n",
            "Test loss: 0.00092 | Test Accuracy: 0.31040 %\n",
            "Test loss: 0.00071 | Test Accuracy: 0.28054 %\n",
            "Test loss: 0.00059 | Test Accuracy: 0.31040 %\n",
            "Test loss: 0.00078 | Test Accuracy: 0.30051 %\n",
            "Test loss: 0.00081 | Test Accuracy: 0.29050 %\n",
            "Test loss: 0.00074 | Test Accuracy: 0.29046 %\n",
            "Test loss: 0.00211 | Test Accuracy: 0.24054 %\n",
            "Test loss: 0.00090 | Test Accuracy: 0.30029 %\n",
            "Test loss: 0.00073 | Test Accuracy: 0.30048 %\n",
            "Test loss: 0.00104 | Test Accuracy: 0.26054 %\n",
            "Test loss: 0.00134 | Test Accuracy: 0.28039 %\n",
            "Test loss: 0.00075 | Test Accuracy: 0.28045 %\n",
            "Test loss: 0.00138 | Test Accuracy: 0.28045 %\n",
            "Test loss: 0.00137 | Test Accuracy: 0.27046 %\n",
            "Test loss: 0.00150 | Test Accuracy: 0.27043 %\n",
            "Test loss: 0.00129 | Test Accuracy: 0.27043 %\n",
            "Test loss: 0.00133 | Test Accuracy: 0.27043 %\n",
            "Test loss: 0.00098 | Test Accuracy: 0.27043 %\n",
            "Test loss: 0.00070 | Test Accuracy: 0.28042 %\n",
            "Test loss: 0.00057 | Test Accuracy: 0.30042 %\n",
            "Test loss: 0.00064 | Test Accuracy: 0.31046 %\n",
            "Test loss: 0.00165 | Test Accuracy: 0.28054 %\n",
            "Test loss: 0.00078 | Test Accuracy: 0.30042 %\n",
            "Test loss: 0.00122 | Test Accuracy: 0.27053 %\n",
            "Test loss: 0.00040 | Test Accuracy: 0.32035 %\n",
            "Test loss: 0.00050 | Test Accuracy: 0.31053 %\n",
            "Test loss: 0.00067 | Test Accuracy: 0.29053 %\n",
            "Test loss: 0.00222 | Test Accuracy: 0.27050 %\n",
            "Test loss: 0.00044 | Test Accuracy: 0.31037 %\n",
            "Test loss: 0.00076 | Test Accuracy: 0.29053 %\n",
            "Test loss: 0.00136 | Test Accuracy: 0.27050 %\n",
            "Test loss: 0.00081 | Test Accuracy: 0.30038 %\n",
            "Test loss: 0.00060 | Test Accuracy: 0.29050 %\n",
            "Test loss: 0.00117 | Test Accuracy: 0.28048 %\n",
            "Test loss: 0.00079 | Test Accuracy: 0.29043 %\n",
            "Test loss: 0.00046 | Test Accuracy: 0.30045 %\n",
            "Test loss: 0.00109 | Test Accuracy: 0.27053 %\n",
            "Test loss: 0.00204 | Test Accuracy: 0.24048 %\n",
            "Test loss: 0.00155 | Test Accuracy: 0.28032 %\n",
            "Test loss: 0.00115 | Test Accuracy: 0.29043 %\n",
            "Test loss: 0.00101 | Test Accuracy: 0.29046 %\n",
            "Test loss: 0.00065 | Test Accuracy: 0.28048 %\n",
            "Test loss: 0.00020 | Test Accuracy: 0.32038 %\n",
            "Test loss: 0.00040 | Test Accuracy: 0.31053 %\n",
            "Test loss: 0.00082 | Test Accuracy: 0.28054 %\n",
            "Test loss: 0.00036 | Test Accuracy: 0.31040 %\n",
            "Test loss: 0.00034 | Test Accuracy: 0.32048 %\n",
            "Test loss: 0.00135 | Test Accuracy: 0.26061 %\n",
            "Test loss: 0.00126 | Test Accuracy: 0.27040 %\n",
            "Test loss: 0.00060 | Test Accuracy: 0.30038 %\n",
            "Test loss: 0.00079 | Test Accuracy: 0.29050 %\n",
            "Test loss: 0.00054 | Test Accuracy: 0.29046 %\n",
            "Test loss: 0.00066 | Test Accuracy: 0.29046 %\n",
            "Test loss: 0.00187 | Test Accuracy: 0.26051 %\n",
            "Test loss: 0.00133 | Test Accuracy: 0.27040 %\n",
            "Test loss: 0.00083 | Test Accuracy: 0.28042 %\n",
            "Test loss: 0.00073 | Test Accuracy: 0.29043 %\n",
            "Test loss: 0.00179 | Test Accuracy: 0.26051 %\n",
            "Test loss: 0.00136 | Test Accuracy: 0.26042 %\n",
            "Test loss: 0.00118 | Test Accuracy: 0.27040 %\n",
            "Test loss: 0.00082 | Test Accuracy: 0.28042 %\n",
            "Test loss: 0.00147 | Test Accuracy: 0.27046 %\n",
            "Test loss: 0.00076 | Test Accuracy: 0.29040 %\n",
            "Test loss: 0.00050 | Test Accuracy: 0.31043 %\n",
            "Test loss: 0.00163 | Test Accuracy: 0.27056 %\n",
            "Test loss: 0.00093 | Test Accuracy: 0.29040 %\n",
            "Test loss: 0.00171 | Test Accuracy: 0.25053 %\n",
            "Test loss: 0.00169 | Test Accuracy: 0.26039 %\n",
            "Test loss: 0.00148 | Test Accuracy: 0.27040 %\n",
            "Test loss: 0.00120 | Test Accuracy: 0.26045 %\n",
            "Test loss: 0.00125 | Test Accuracy: 0.29037 %\n",
            "Test loss: 0.00093 | Test Accuracy: 0.28048 %\n",
            "Test loss: 0.00129 | Test Accuracy: 0.29043 %\n",
            "Test loss: 0.00102 | Test Accuracy: 0.28048 %\n",
            "Test loss: 0.00018 | Test Accuracy: 0.32038 %\n",
            "Test loss: 0.00121 | Test Accuracy: 0.27059 %\n",
            "Test loss: 0.00131 | Test Accuracy: 0.26045 %\n",
            "Test loss: 0.00241 | Test Accuracy: 0.26042 %\n",
            "Test loss: 0.00162 | Test Accuracy: 0.26042 %\n",
            "Test loss: 0.00133 | Test Accuracy: 0.27040 %\n",
            "Test loss: 0.00105 | Test Accuracy: 0.27043 %\n",
            "Test loss: 0.00040 | Test Accuracy: 0.31037 %\n",
            "Test loss: 0.00047 | Test Accuracy: 0.30051 %\n",
            "Test loss: 0.00120 | Test Accuracy: 0.27053 %\n",
            "Test loss: 0.00206 | Test Accuracy: 0.26045 %\n",
            "Test loss: 0.00120 | Test Accuracy: 0.27040 %\n",
            "Test loss: 0.00190 | Test Accuracy: 0.27043 %\n",
            "Test loss: 0.00134 | Test Accuracy: 0.29040 %\n",
            "Test loss: 0.00068 | Test Accuracy: 0.28048 %\n",
            "Test loss: 0.00077 | Test Accuracy: 0.29043 %\n",
            "Test loss: 0.00093 | Test Accuracy: 0.29046 %\n",
            "Test loss: 0.00049 | Test Accuracy: 0.30045 %\n",
            "Test loss: 0.00097 | Test Accuracy: 0.28051 %\n",
            "Test loss: 0.00087 | Test Accuracy: 0.30042 %\n",
            "Test loss: 0.00159 | Test Accuracy: 0.27053 %\n",
            "Test loss: 0.00137 | Test Accuracy: 0.28042 %\n",
            "Test loss: 0.00086 | Test Accuracy: 0.28045 %\n",
            "Test loss: 0.00129 | Test Accuracy: 0.30042 %\n",
            "Test loss: 0.00046 | Test Accuracy: 0.31046 %\n",
            "Test loss: 0.00128 | Test Accuracy: 0.26058 %\n",
            "Test loss: 0.00202 | Test Accuracy: 0.27040 %\n",
            "Test loss: 0.00076 | Test Accuracy: 0.30038 %\n",
            "Test loss: 0.00155 | Test Accuracy: 0.26054 %\n",
            "Test loss: 0.00138 | Test Accuracy: 0.26042 %\n",
            "Test loss: 0.00120 | Test Accuracy: 0.26042 %\n",
            "Test loss: 0.00231 | Test Accuracy: 0.26042 %\n",
            "Test loss: 0.00051 | Test Accuracy: 0.30035 %\n",
            "Test loss: 0.00087 | Test Accuracy: 0.29050 %\n",
            "Test loss: 0.00140 | Test Accuracy: 0.28048 %\n",
            "Test loss: 0.00076 | Test Accuracy: 0.31040 %\n",
            "Test loss: 0.00059 | Test Accuracy: 0.29053 %\n",
            "Test loss: 0.00042 | Test Accuracy: 0.30045 %\n",
            "Test loss: 0.00032 | Test Accuracy: 0.31046 %\n",
            "Test loss: 0.00052 | Test Accuracy: 0.30051 %\n",
            "Test loss: 0.00097 | Test Accuracy: 0.29050 %\n",
            "Test loss: 0.00088 | Test Accuracy: 0.29046 %\n",
            "Test loss: 0.00066 | Test Accuracy: 0.31043 %\n",
            "Test loss: 0.00075 | Test Accuracy: 0.29053 %\n",
            "Test loss: 0.00072 | Test Accuracy: 0.28048 %\n",
            "Test loss: 0.00065 | Test Accuracy: 0.30042 %\n",
            "Test loss: 0.00072 | Test Accuracy: 0.30048 %\n",
            "Test loss: 0.00110 | Test Accuracy: 0.25056 %\n",
            "Test loss: 0.00183 | Test Accuracy: 0.24042 %\n",
            "Test loss: 0.00062 | Test Accuracy: 0.31027 %\n",
            "Test loss: 0.00069 | Test Accuracy: 0.30051 %\n",
            "Test loss: 0.00082 | Test Accuracy: 0.28051 %\n",
            "Test loss: 0.00209 | Test Accuracy: 0.26048 %\n",
            "Test loss: 0.00149 | Test Accuracy: 0.24045 %\n",
            "Test loss: 0.00108 | Test Accuracy: 0.28032 %\n",
            "Test loss: 0.00130 | Test Accuracy: 0.26048 %\n",
            "Test loss: 0.00073 | Test Accuracy: 0.30035 %\n",
            "Test loss: 0.00038 | Test Accuracy: 0.30048 %\n",
            "Test loss: 0.00134 | Test Accuracy: 0.30048 %\n",
            "Test loss: 0.00107 | Test Accuracy: 0.30048 %\n",
            "Test loss: 0.00131 | Test Accuracy: 0.29050 %\n",
            "Test loss: 0.00067 | Test Accuracy: 0.29046 %\n",
            "Test loss: 0.00107 | Test Accuracy: 0.29046 %\n",
            "Test loss: 0.00136 | Test Accuracy: 0.27050 %\n",
            "Test loss: 0.00124 | Test Accuracy: 0.29040 %\n",
            "Test loss: 0.00029 | Test Accuracy: 0.32042 %\n",
            "Test loss: 0.00171 | Test Accuracy: 0.28058 %\n",
            "Test loss: 0.00097 | Test Accuracy: 0.27047 %\n",
            "Test loss: 0.00214 | Test Accuracy: 0.28042 %\n",
            "Test loss: 0.00023 | Test Accuracy: 0.32038 %\n",
            "Test loss: 0.00092 | Test Accuracy: 0.30054 %\n",
            "Test loss: 0.00098 | Test Accuracy: 0.28051 %\n",
            "Test loss: 0.00204 | Test Accuracy: 0.26048 %\n",
            "Test loss: 0.00123 | Test Accuracy: 0.28038 %\n",
            "Test loss: 0.00325 | Test Accuracy: 0.22054 %\n",
            "Test loss: 0.00094 | Test Accuracy: 0.29024 %\n",
            "Test loss: 0.00262 | Test Accuracy: 0.24054 %\n",
            "Test loss: 0.00079 | Test Accuracy: 0.29031 %\n",
            "Test loss: 0.00094 | Test Accuracy: 0.29046 %\n",
            "Test loss: 0.00085 | Test Accuracy: 0.30045 %\n",
            "Test loss: 0.00128 | Test Accuracy: 0.27053 %\n",
            "Test loss: 0.00074 | Test Accuracy: 0.29040 %\n",
            "Test loss: 0.00059 | Test Accuracy: 0.30045 %\n",
            "Test loss: 0.00150 | Test Accuracy: 0.28051 %\n",
            "Test loss: 0.00072 | Test Accuracy: 0.30042 %\n",
            "Test loss: 0.00035 | Test Accuracy: 0.30048 %\n",
            "Test loss: 0.00048 | Test Accuracy: 0.30048 %\n",
            "Test loss: 0.00096 | Test Accuracy: 0.30048 %\n",
            "Test loss: 0.00116 | Test Accuracy: 0.26054 %\n",
            "Test loss: 0.00133 | Test Accuracy: 0.27040 %\n",
            "Test loss: 0.00130 | Test Accuracy: 0.28042 %\n",
            "Test loss: 0.00031 | Test Accuracy: 0.32038 %\n",
            "Test loss: 0.00142 | Test Accuracy: 0.27059 %\n",
            "Test loss: 0.00071 | Test Accuracy: 0.29040 %\n",
            "Test loss: 0.00125 | Test Accuracy: 0.25053 %\n",
            "Test loss: 0.00047 | Test Accuracy: 0.30032 %\n",
            "Test loss: 0.00062 | Test Accuracy: 0.30048 %\n",
            "Test loss: 0.00116 | Test Accuracy: 0.25056 %\n",
            "Test loss: 0.00091 | Test Accuracy: 0.30032 %\n",
            "Test loss: 0.00116 | Test Accuracy: 0.29050 %\n",
            "Test loss: 0.00079 | Test Accuracy: 0.29046 %\n",
            "Test loss: 0.00070 | Test Accuracy: 0.29046 %\n",
            "Test loss: 0.00101 | Test Accuracy: 0.28048 %\n",
            "Test loss: 0.00124 | Test Accuracy: 0.27046 %\n",
            "Test loss: 0.00145 | Test Accuracy: 0.26045 %\n",
            "Test loss: 0.00065 | Test Accuracy: 0.29037 %\n",
            "Test loss: 0.00137 | Test Accuracy: 0.26051 %\n",
            "Test loss: 0.00125 | Test Accuracy: 0.27040 %\n",
            "Test loss: 0.00121 | Test Accuracy: 0.30038 %\n",
            "Test loss: 0.00082 | Test Accuracy: 0.30048 %\n",
            "Test loss: 0.00089 | Test Accuracy: 0.28051 %\n",
            "Test loss: 0.00125 | Test Accuracy: 0.27046 %\n",
            "Test loss: 0.00090 | Test Accuracy: 0.28042 %\n",
            "Test loss: 0.00066 | Test Accuracy: 0.30042 %\n",
            "Test loss: 0.00070 | Test Accuracy: 0.29050 %\n",
            "Test loss: 0.00093 | Test Accuracy: 0.28048 %\n",
            "Test loss: 0.00155 | Test Accuracy: 0.26048 %\n",
            "Test loss: 0.00102 | Test Accuracy: 0.27040 %\n",
            "Test loss: 0.00103 | Test Accuracy: 0.27043 %\n",
            "Test loss: 0.00075 | Test Accuracy: 0.28042 %\n",
            "Test loss: 0.00153 | Test Accuracy: 0.26048 %\n",
            "Test loss: 0.00129 | Test Accuracy: 0.28038 %\n",
            "Test loss: 0.00086 | Test Accuracy: 0.30042 %\n",
            "Test loss: 0.00065 | Test Accuracy: 0.29050 %\n",
            "Test loss: 0.00069 | Test Accuracy: 0.29046 %\n",
            "Test loss: 0.00095 | Test Accuracy: 0.29046 %\n",
            "Test loss: 0.00135 | Test Accuracy: 0.27050 %\n",
            "Test loss: 0.00118 | Test Accuracy: 0.28042 %\n",
            "Test loss: 0.00098 | Test Accuracy: 0.29043 %\n",
            "Test loss: 0.00062 | Test Accuracy: 0.29046 %\n",
            "Test loss: 0.00066 | Test Accuracy: 0.30045 %\n",
            "Test loss: 0.00095 | Test Accuracy: 0.28051 %\n",
            "Test loss: 0.00075 | Test Accuracy: 0.30042 %\n",
            "Test loss: 0.00051 | Test Accuracy: 0.30048 %\n",
            "Test loss: 0.00119 | Test Accuracy: 0.27053 %\n",
            "Test loss: 0.00020 | Test Accuracy: 0.31037 %\n",
            "Test loss: 0.00040 | Test Accuracy: 0.30051 %\n",
            "Test loss: 0.00047 | Test Accuracy: 0.29050 %\n",
            "Test loss: 0.00075 | Test Accuracy: 0.29046 %\n",
            "Test loss: 0.00102 | Test Accuracy: 0.27050 %\n",
            "Test loss: 0.00071 | Test Accuracy: 0.29040 %\n",
            "Test loss: 0.00134 | Test Accuracy: 0.26051 %\n",
            "Test loss: 0.00067 | Test Accuracy: 0.29037 %\n",
            "Test loss: 0.00035 | Test Accuracy: 0.32042 %\n",
            "Test loss: 0.00090 | Test Accuracy: 0.27059 %\n",
            "Test loss: 0.00074 | Test Accuracy: 0.30039 %\n",
            "Test loss: 0.00121 | Test Accuracy: 0.26054 %\n",
            "Test loss: 0.00072 | Test Accuracy: 0.29037 %\n",
            "Test loss: 0.00090 | Test Accuracy: 0.29046 %\n",
            "Test loss: 0.00084 | Test Accuracy: 0.28048 %\n",
            "Test loss: 0.00114 | Test Accuracy: 0.26048 %\n",
            "Test loss: 0.00121 | Test Accuracy: 0.26042 %\n",
            "Test loss: 0.00115 | Test Accuracy: 0.26042 %\n",
            "Test loss: 0.00117 | Test Accuracy: 0.27040 %\n",
            "Test loss: 0.00111 | Test Accuracy: 0.27043 %\n",
            "Test loss: 0.00085 | Test Accuracy: 0.29040 %\n",
            "Test loss: 0.00139 | Test Accuracy: 0.28048 %\n",
            "Test loss: 0.00025 | Test Accuracy: 0.32038 %\n",
            "Test loss: 0.00125 | Test Accuracy: 0.28058 %\n",
            "Test loss: 0.00068 | Test Accuracy: 0.31040 %\n",
            "Test loss: 0.00112 | Test Accuracy: 0.27056 %\n",
            "Test loss: 0.00084 | Test Accuracy: 0.30039 %\n",
            "Test loss: 0.00102 | Test Accuracy: 0.29050 %\n",
            "Test loss: 0.00048 | Test Accuracy: 0.30045 %\n",
            "Test loss: 0.00061 | Test Accuracy: 0.30048 %\n",
            "Test loss: 0.00054 | Test Accuracy: 0.31046 %\n",
            "Test loss: 0.00087 | Test Accuracy: 0.28054 %\n",
            "Test loss: 0.00054 | Test Accuracy: 0.29043 %\n",
            "Test loss: 0.00099 | Test Accuracy: 0.27050 %\n",
            "Test loss: 0.00079 | Test Accuracy: 0.27043 %\n",
            "Test loss: 0.00106 | Test Accuracy: 0.30038 %\n",
            "Test loss: 0.00157 | Test Accuracy: 0.24058 %\n",
            "Test loss: 0.00153 | Test Accuracy: 0.29031 %\n",
            "Test loss: 0.00043 | Test Accuracy: 0.30045 %\n",
            "Test loss: 0.00171 | Test Accuracy: 0.25056 %\n",
            "Test loss: 0.00204 | Test Accuracy: 0.24042 %\n",
            "Test loss: 0.00103 | Test Accuracy: 0.28032 %\n",
            "Test loss: 0.00077 | Test Accuracy: 0.29043 %\n",
            "Test loss: 0.00078 | Test Accuracy: 0.30045 %\n",
            "Test loss: 0.00136 | Test Accuracy: 0.28051 %\n",
            "Test loss: 0.00140 | Test Accuracy: 0.28045 %\n",
            "Test loss: 0.00160 | Test Accuracy: 0.27046 %\n",
            "Test loss: 0.00042 | Test Accuracy: 0.30038 %\n",
            "Test loss: 0.00084 | Test Accuracy: 0.29050 %\n",
            "Test loss: 0.00065 | Test Accuracy: 0.30045 %\n",
            "Test loss: 0.00108 | Test Accuracy: 0.28051 %\n",
            "Test loss: 0.00101 | Test Accuracy: 0.28045 %\n",
            "Test loss: 0.00118 | Test Accuracy: 0.29043 %\n",
            "Test loss: 0.00124 | Test Accuracy: 0.27050 %\n",
            "Test loss: 0.00081 | Test Accuracy: 0.29040 %\n"
          ]
        },
        {
          "output_type": "stream",
          "name": "stderr",
          "text": [
            "\r 60%|██████    | 3/5 [00:45<00:27, 13.93s/it]"
          ]
        },
        {
          "output_type": "stream",
          "name": "stdout",
          "text": [
            "Test loss: 0.00098 | Test Accuracy: 0.29046 %\n",
            "Test loss: 0.00185 | Test Accuracy: 0.27050 %\n",
            "Test loss: 0.00085 | Test Accuracy: 0.28042 %\n",
            "Test loss: 0.00077 | Test Accuracy: 0.29043 %\n",
            "Test loss: 0.00113 | Test Accuracy: 0.27050 %\n",
            "Test loss: 0.00042 | Test Accuracy: 0.30038 %\n",
            "Test loss: 0.00031 | Test Accuracy: 0.30048 %\n",
            "Test loss: 0.00111 | Test Accuracy: 0.27053 %\n",
            "Test loss: 0.00169 | Test Accuracy: 0.28042 %\n",
            "Test loss: 0.00075 | Test Accuracy: 0.30042 %\n",
            "Test loss: 0.00104 | Test Accuracy: 0.28051 %\n",
            "Test loss: 0.00166 | Test Accuracy: 0.27046 %\n",
            "Test loss: 0.00099 | Test Accuracy: 0.28042 %\n",
            "Test loss: 0.00090 | Test Accuracy: 0.28045 %\n",
            "Test loss: 0.00092 | Test Accuracy: 0.29043 %\n",
            "Test loss: 0.00058 | Test Accuracy: 0.29046 %\n",
            "Test loss: 0.00094 | Test Accuracy: 0.29046 %\n",
            "Test loss: 0.00051 | Test Accuracy: 0.30045 %\n",
            "Test loss: 0.00053 | Test Accuracy: 0.30048 %\n",
            "Test loss: 0.00059 | Test Accuracy: 0.30048 %\n",
            "Test loss: 0.00135 | Test Accuracy: 0.29050 %\n",
            "Test loss: 0.00079 | Test Accuracy: 0.28048 %\n",
            "Test loss: 0.00083 | Test Accuracy: 0.29043 %\n",
            "Test loss: 0.00163 | Test Accuracy: 0.24054 %\n",
            "Test loss: 0.00061 | Test Accuracy: 0.28032 %\n",
            "Epoch: 3\n",
            "------------\n",
            "Train loss: 0.29934 | Train accuracy: 89.25167%\n",
            "Test loss: 0.00215 | Test Accuracy: 0.27955 %\n",
            "Test loss: 0.00086 | Test Accuracy: 0.28045 %\n",
            "Test loss: 0.00122 | Test Accuracy: 0.28045 %\n",
            "Test loss: 0.00067 | Test Accuracy: 0.29043 %\n",
            "Test loss: 0.00098 | Test Accuracy: 0.29046 %\n",
            "Test loss: 0.00053 | Test Accuracy: 0.30045 %\n",
            "Test loss: 0.00031 | Test Accuracy: 0.31046 %\n",
            "Test loss: 0.00111 | Test Accuracy: 0.27056 %\n",
            "Test loss: 0.00041 | Test Accuracy: 0.31037 %\n",
            "Test loss: 0.00062 | Test Accuracy: 0.28054 %\n",
            "Test loss: 0.00072 | Test Accuracy: 0.29043 %\n",
            "Test loss: 0.00091 | Test Accuracy: 0.29046 %\n",
            "Test loss: 0.00076 | Test Accuracy: 0.30045 %\n",
            "Test loss: 0.00093 | Test Accuracy: 0.29050 %\n",
            "Test loss: 0.00130 | Test Accuracy: 0.25053 %\n",
            "Test loss: 0.00068 | Test Accuracy: 0.29034 %\n",
            "Test loss: 0.00047 | Test Accuracy: 0.31043 %\n",
            "Test loss: 0.00133 | Test Accuracy: 0.26058 %\n",
            "Test loss: 0.00086 | Test Accuracy: 0.28039 %\n",
            "Test loss: 0.00118 | Test Accuracy: 0.28045 %\n",
            "Test loss: 0.00063 | Test Accuracy: 0.31040 %\n",
            "Test loss: 0.00126 | Test Accuracy: 0.28054 %\n",
            "Test loss: 0.00143 | Test Accuracy: 0.28045 %\n",
            "Test loss: 0.00138 | Test Accuracy: 0.27046 %\n",
            "Test loss: 0.00078 | Test Accuracy: 0.31037 %\n",
            "Test loss: 0.00058 | Test Accuracy: 0.30051 %\n",
            "Test loss: 0.00079 | Test Accuracy: 0.30048 %\n",
            "Test loss: 0.00086 | Test Accuracy: 0.27053 %\n",
            "Test loss: 0.00090 | Test Accuracy: 0.27043 %\n",
            "Test loss: 0.00094 | Test Accuracy: 0.28042 %\n",
            "Test loss: 0.00176 | Test Accuracy: 0.27046 %\n",
            "Test loss: 0.00108 | Test Accuracy: 0.29040 %\n",
            "Test loss: 0.00054 | Test Accuracy: 0.30045 %\n",
            "Test loss: 0.00071 | Test Accuracy: 0.27053 %\n",
            "Test loss: 0.00139 | Test Accuracy: 0.29040 %\n",
            "Test loss: 0.00087 | Test Accuracy: 0.28048 %\n",
            "Test loss: 0.00095 | Test Accuracy: 0.29043 %\n",
            "Test loss: 0.00083 | Test Accuracy: 0.30045 %\n",
            "Test loss: 0.00121 | Test Accuracy: 0.28051 %\n",
            "Test loss: 0.00111 | Test Accuracy: 0.27046 %\n",
            "Test loss: 0.00121 | Test Accuracy: 0.27043 %\n",
            "Test loss: 0.00125 | Test Accuracy: 0.26045 %\n",
            "Test loss: 0.00095 | Test Accuracy: 0.28038 %\n",
            "Test loss: 0.00052 | Test Accuracy: 0.30042 %\n",
            "Test loss: 0.00065 | Test Accuracy: 0.31046 %\n",
            "Test loss: 0.00161 | Test Accuracy: 0.29053 %\n",
            "Test loss: 0.00087 | Test Accuracy: 0.29046 %\n",
            "Test loss: 0.00102 | Test Accuracy: 0.29046 %\n",
            "Test loss: 0.00040 | Test Accuracy: 0.32042 %\n",
            "Test loss: 0.00056 | Test Accuracy: 0.29056 %\n",
            "Test loss: 0.00063 | Test Accuracy: 0.29047 %\n",
            "Test loss: 0.00198 | Test Accuracy: 0.27050 %\n",
            "Test loss: 0.00054 | Test Accuracy: 0.30038 %\n",
            "Test loss: 0.00059 | Test Accuracy: 0.30048 %\n",
            "Test loss: 0.00107 | Test Accuracy: 0.28051 %\n",
            "Test loss: 0.00067 | Test Accuracy: 0.30042 %\n",
            "Test loss: 0.00066 | Test Accuracy: 0.28051 %\n",
            "Test loss: 0.00113 | Test Accuracy: 0.27046 %\n",
            "Test loss: 0.00068 | Test Accuracy: 0.29040 %\n",
            "Test loss: 0.00068 | Test Accuracy: 0.29046 %\n",
            "Test loss: 0.00115 | Test Accuracy: 0.25053 %\n",
            "Test loss: 0.00196 | Test Accuracy: 0.26039 %\n",
            "Test loss: 0.00119 | Test Accuracy: 0.30035 %\n",
            "Test loss: 0.00153 | Test Accuracy: 0.27053 %\n",
            "Test loss: 0.00098 | Test Accuracy: 0.28042 %\n",
            "Test loss: 0.00059 | Test Accuracy: 0.29043 %\n",
            "Test loss: 0.00015 | Test Accuracy: 0.32042 %\n",
            "Test loss: 0.00044 | Test Accuracy: 0.31053 %\n",
            "Test loss: 0.00063 | Test Accuracy: 0.29053 %\n",
            "Test loss: 0.00039 | Test Accuracy: 0.31043 %\n",
            "Test loss: 0.00030 | Test Accuracy: 0.32048 %\n",
            "Test loss: 0.00145 | Test Accuracy: 0.28058 %\n",
            "Test loss: 0.00145 | Test Accuracy: 0.27047 %\n",
            "Test loss: 0.00112 | Test Accuracy: 0.30038 %\n",
            "Test loss: 0.00087 | Test Accuracy: 0.29050 %\n",
            "Test loss: 0.00039 | Test Accuracy: 0.30045 %\n",
            "Test loss: 0.00066 | Test Accuracy: 0.30048 %\n",
            "Test loss: 0.00197 | Test Accuracy: 0.26054 %\n",
            "Test loss: 0.00146 | Test Accuracy: 0.24045 %\n",
            "Test loss: 0.00049 | Test Accuracy: 0.30029 %\n",
            "Test loss: 0.00079 | Test Accuracy: 0.29050 %\n",
            "Test loss: 0.00170 | Test Accuracy: 0.26051 %\n",
            "Test loss: 0.00134 | Test Accuracy: 0.26042 %\n",
            "Test loss: 0.00104 | Test Accuracy: 0.28038 %\n",
            "Test loss: 0.00096 | Test Accuracy: 0.29043 %\n",
            "Test loss: 0.00133 | Test Accuracy: 0.28048 %\n",
            "Test loss: 0.00069 | Test Accuracy: 0.30042 %\n",
            "Test loss: 0.00053 | Test Accuracy: 0.30048 %\n",
            "Test loss: 0.00206 | Test Accuracy: 0.26054 %\n",
            "Test loss: 0.00107 | Test Accuracy: 0.27040 %\n",
            "Test loss: 0.00236 | Test Accuracy: 0.25046 %\n",
            "Test loss: 0.00150 | Test Accuracy: 0.29034 %\n",
            "Test loss: 0.00167 | Test Accuracy: 0.28048 %\n",
            "Test loss: 0.00151 | Test Accuracy: 0.26048 %\n",
            "Test loss: 0.00152 | Test Accuracy: 0.29037 %\n",
            "Test loss: 0.00111 | Test Accuracy: 0.29046 %\n",
            "Test loss: 0.00118 | Test Accuracy: 0.29046 %\n",
            "Test loss: 0.00138 | Test Accuracy: 0.28048 %\n",
            "Test loss: 0.00026 | Test Accuracy: 0.31040 %\n",
            "Test loss: 0.00107 | Test Accuracy: 0.27056 %\n",
            "Test loss: 0.00124 | Test Accuracy: 0.27043 %\n",
            "Test loss: 0.00246 | Test Accuracy: 0.24048 %\n",
            "Test loss: 0.00166 | Test Accuracy: 0.26035 %\n",
            "Test loss: 0.00117 | Test Accuracy: 0.29037 %\n",
            "Test loss: 0.00154 | Test Accuracy: 0.25053 %\n",
            "Test loss: 0.00034 | Test Accuracy: 0.31031 %\n",
            "Test loss: 0.00052 | Test Accuracy: 0.31050 %\n",
            "Test loss: 0.00106 | Test Accuracy: 0.28054 %\n",
            "Test loss: 0.00207 | Test Accuracy: 0.25050 %\n",
            "Test loss: 0.00149 | Test Accuracy: 0.27037 %\n",
            "Test loss: 0.00218 | Test Accuracy: 0.26045 %\n",
            "Test loss: 0.00138 | Test Accuracy: 0.29037 %\n",
            "Test loss: 0.00081 | Test Accuracy: 0.28048 %\n",
            "Test loss: 0.00079 | Test Accuracy: 0.29043 %\n",
            "Test loss: 0.00070 | Test Accuracy: 0.29046 %\n",
            "Test loss: 0.00037 | Test Accuracy: 0.31043 %\n",
            "Test loss: 0.00084 | Test Accuracy: 0.27056 %\n",
            "Test loss: 0.00072 | Test Accuracy: 0.28042 %\n",
            "Test loss: 0.00150 | Test Accuracy: 0.28045 %\n",
            "Test loss: 0.00133 | Test Accuracy: 0.29043 %\n",
            "Test loss: 0.00084 | Test Accuracy: 0.29046 %\n",
            "Test loss: 0.00134 | Test Accuracy: 0.28048 %\n",
            "Test loss: 0.00058 | Test Accuracy: 0.29043 %\n",
            "Test loss: 0.00187 | Test Accuracy: 0.26051 %\n",
            "Test loss: 0.00195 | Test Accuracy: 0.27040 %\n",
            "Test loss: 0.00093 | Test Accuracy: 0.29040 %\n",
            "Test loss: 0.00155 | Test Accuracy: 0.26051 %\n",
            "Test loss: 0.00151 | Test Accuracy: 0.26042 %\n",
            "Test loss: 0.00118 | Test Accuracy: 0.28038 %\n",
            "Test loss: 0.00208 | Test Accuracy: 0.24051 %\n",
            "Test loss: 0.00040 | Test Accuracy: 0.31027 %\n",
            "Test loss: 0.00117 | Test Accuracy: 0.28054 %\n",
            "Test loss: 0.00138 | Test Accuracy: 0.28045 %\n",
            "Test loss: 0.00093 | Test Accuracy: 0.27046 %\n",
            "Test loss: 0.00053 | Test Accuracy: 0.30038 %\n",
            "Test loss: 0.00036 | Test Accuracy: 0.29050 %\n",
            "Test loss: 0.00052 | Test Accuracy: 0.30045 %\n",
            "Test loss: 0.00044 | Test Accuracy: 0.31046 %\n",
            "Test loss: 0.00077 | Test Accuracy: 0.29053 %\n",
            "Test loss: 0.00105 | Test Accuracy: 0.29046 %\n",
            "Test loss: 0.00051 | Test Accuracy: 0.31043 %\n",
            "Test loss: 0.00065 | Test Accuracy: 0.30051 %\n",
            "Test loss: 0.00061 | Test Accuracy: 0.30048 %\n",
            "Test loss: 0.00077 | Test Accuracy: 0.30048 %\n",
            "Test loss: 0.00073 | Test Accuracy: 0.29050 %\n",
            "Test loss: 0.00106 | Test Accuracy: 0.28048 %\n",
            "Test loss: 0.00140 | Test Accuracy: 0.25050 %\n",
            "Test loss: 0.00077 | Test Accuracy: 0.30032 %\n",
            "Test loss: 0.00071 | Test Accuracy: 0.30048 %\n",
            "Test loss: 0.00058 | Test Accuracy: 0.30048 %\n",
            "Test loss: 0.00176 | Test Accuracy: 0.27053 %\n",
            "Test loss: 0.00124 | Test Accuracy: 0.27043 %\n",
            "Test loss: 0.00082 | Test Accuracy: 0.29040 %\n",
            "Test loss: 0.00136 | Test Accuracy: 0.26051 %\n",
            "Test loss: 0.00090 | Test Accuracy: 0.29037 %\n",
            "Test loss: 0.00050 | Test Accuracy: 0.29046 %\n",
            "Test loss: 0.00165 | Test Accuracy: 0.26051 %\n",
            "Test loss: 0.00135 | Test Accuracy: 0.26042 %\n",
            "Test loss: 0.00098 | Test Accuracy: 0.28038 %\n",
            "Test loss: 0.00079 | Test Accuracy: 0.29043 %\n",
            "Test loss: 0.00148 | Test Accuracy: 0.26051 %\n",
            "Test loss: 0.00155 | Test Accuracy: 0.24045 %\n",
            "Test loss: 0.00148 | Test Accuracy: 0.26035 %\n",
            "Test loss: 0.00048 | Test Accuracy: 0.30035 %\n",
            "Test loss: 0.00231 | Test Accuracy: 0.25056 %\n",
            "Test loss: 0.00090 | Test Accuracy: 0.27037 %\n",
            "Test loss: 0.00229 | Test Accuracy: 0.28042 %\n",
            "Test loss: 0.00015 | Test Accuracy: 0.32038 %\n",
            "Test loss: 0.00104 | Test Accuracy: 0.31053 %\n",
            "Test loss: 0.00103 | Test Accuracy: 0.29053 %\n",
            "Test loss: 0.00202 | Test Accuracy: 0.26051 %\n",
            "Test loss: 0.00123 | Test Accuracy: 0.27040 %\n",
            "Test loss: 0.00278 | Test Accuracy: 0.24048 %\n",
            "Test loss: 0.00087 | Test Accuracy: 0.30029 %\n",
            "Test loss: 0.00244 | Test Accuracy: 0.25056 %\n",
            "Test loss: 0.00088 | Test Accuracy: 0.28035 %\n",
            "Test loss: 0.00072 | Test Accuracy: 0.28045 %\n",
            "Test loss: 0.00109 | Test Accuracy: 0.28045 %\n",
            "Test loss: 0.00112 | Test Accuracy: 0.26048 %\n",
            "Test loss: 0.00065 | Test Accuracy: 0.29037 %\n",
            "Test loss: 0.00063 | Test Accuracy: 0.31043 %\n",
            "Test loss: 0.00145 | Test Accuracy: 0.26058 %\n",
            "Test loss: 0.00088 | Test Accuracy: 0.29037 %\n",
            "Test loss: 0.00035 | Test Accuracy: 0.30045 %\n",
            "Test loss: 0.00055 | Test Accuracy: 0.30048 %\n",
            "Test loss: 0.00095 | Test Accuracy: 0.29050 %\n",
            "Test loss: 0.00149 | Test Accuracy: 0.26051 %\n",
            "Test loss: 0.00120 | Test Accuracy: 0.27040 %\n",
            "Test loss: 0.00137 | Test Accuracy: 0.26045 %\n",
            "Test loss: 0.00044 | Test Accuracy: 0.30035 %\n",
            "Test loss: 0.00150 | Test Accuracy: 0.27053 %\n",
            "Test loss: 0.00069 | Test Accuracy: 0.30039 %\n",
            "Test loss: 0.00125 | Test Accuracy: 0.27053 %\n",
            "Test loss: 0.00069 | Test Accuracy: 0.29040 %\n",
            "Test loss: 0.00060 | Test Accuracy: 0.30045 %\n",
            "Test loss: 0.00114 | Test Accuracy: 0.27053 %\n",
            "Test loss: 0.00122 | Test Accuracy: 0.26045 %\n",
            "Test loss: 0.00122 | Test Accuracy: 0.28038 %\n",
            "Test loss: 0.00080 | Test Accuracy: 0.29043 %\n",
            "Test loss: 0.00059 | Test Accuracy: 0.28048 %\n",
            "Test loss: 0.00086 | Test Accuracy: 0.30042 %\n",
            "Test loss: 0.00122 | Test Accuracy: 0.28051 %\n",
            "Test loss: 0.00155 | Test Accuracy: 0.24051 %\n",
            "Test loss: 0.00051 | Test Accuracy: 0.30029 %\n",
            "Test loss: 0.00120 | Test Accuracy: 0.27053 %\n",
            "Test loss: 0.00098 | Test Accuracy: 0.27043 %\n",
            "Test loss: 0.00088 | Test Accuracy: 0.29040 %\n",
            "Test loss: 0.00083 | Test Accuracy: 0.28048 %\n",
            "Test loss: 0.00087 | Test Accuracy: 0.29043 %\n",
            "Test loss: 0.00122 | Test Accuracy: 0.28048 %\n",
            "Test loss: 0.00073 | Test Accuracy: 0.28045 %\n",
            "Test loss: 0.00072 | Test Accuracy: 0.30042 %\n",
            "Test loss: 0.00053 | Test Accuracy: 0.31046 %\n",
            "Test loss: 0.00093 | Test Accuracy: 0.28054 %\n",
            "Test loss: 0.00145 | Test Accuracy: 0.25050 %\n",
            "Test loss: 0.00072 | Test Accuracy: 0.29034 %\n",
            "Test loss: 0.00096 | Test Accuracy: 0.29046 %\n",
            "Test loss: 0.00092 | Test Accuracy: 0.29046 %\n",
            "Test loss: 0.00135 | Test Accuracy: 0.25053 %\n",
            "Test loss: 0.00086 | Test Accuracy: 0.29034 %\n",
            "Test loss: 0.00098 | Test Accuracy: 0.28048 %\n",
            "Test loss: 0.00062 | Test Accuracy: 0.30042 %\n",
            "Test loss: 0.00078 | Test Accuracy: 0.28051 %\n",
            "Test loss: 0.00098 | Test Accuracy: 0.29043 %\n",
            "Test loss: 0.00116 | Test Accuracy: 0.27050 %\n",
            "Test loss: 0.00107 | Test Accuracy: 0.27043 %\n",
            "Test loss: 0.00104 | Test Accuracy: 0.28042 %\n",
            "Test loss: 0.00075 | Test Accuracy: 0.29043 %\n",
            "Test loss: 0.00066 | Test Accuracy: 0.29046 %\n",
            "Test loss: 0.00091 | Test Accuracy: 0.27050 %\n",
            "Test loss: 0.00067 | Test Accuracy: 0.31037 %\n",
            "Test loss: 0.00052 | Test Accuracy: 0.30051 %\n",
            "Test loss: 0.00126 | Test Accuracy: 0.27053 %\n",
            "Test loss: 0.00010 | Test Accuracy: 0.32035 %\n",
            "Test loss: 0.00046 | Test Accuracy: 0.31053 %\n",
            "Test loss: 0.00033 | Test Accuracy: 0.31050 %\n",
            "Test loss: 0.00092 | Test Accuracy: 0.27056 %\n",
            "Test loss: 0.00104 | Test Accuracy: 0.28042 %\n",
            "Test loss: 0.00081 | Test Accuracy: 0.30042 %\n",
            "Test loss: 0.00107 | Test Accuracy: 0.26054 %\n",
            "Test loss: 0.00078 | Test Accuracy: 0.28039 %\n",
            "Test loss: 0.00040 | Test Accuracy: 0.31040 %\n",
            "Test loss: 0.00080 | Test Accuracy: 0.30051 %\n",
            "Test loss: 0.00064 | Test Accuracy: 0.30048 %\n",
            "Test loss: 0.00113 | Test Accuracy: 0.26054 %\n",
            "Test loss: 0.00081 | Test Accuracy: 0.29037 %\n",
            "Test loss: 0.00090 | Test Accuracy: 0.28048 %\n",
            "Test loss: 0.00061 | Test Accuracy: 0.29043 %\n",
            "Test loss: 0.00107 | Test Accuracy: 0.26051 %\n",
            "Test loss: 0.00131 | Test Accuracy: 0.27040 %\n",
            "Test loss: 0.00136 | Test Accuracy: 0.27043 %\n",
            "Test loss: 0.00096 | Test Accuracy: 0.28042 %\n",
            "Test loss: 0.00115 | Test Accuracy: 0.27046 %\n",
            "Test loss: 0.00082 | Test Accuracy: 0.29040 %\n",
            "Test loss: 0.00164 | Test Accuracy: 0.24054 %\n",
            "Test loss: 0.00024 | Test Accuracy: 0.31027 %\n",
            "Test loss: 0.00122 | Test Accuracy: 0.29053 %\n",
            "Test loss: 0.00061 | Test Accuracy: 0.31043 %\n",
            "Test loss: 0.00130 | Test Accuracy: 0.27056 %\n",
            "Test loss: 0.00094 | Test Accuracy: 0.29040 %\n",
            "Test loss: 0.00125 | Test Accuracy: 0.29046 %\n",
            "Test loss: 0.00042 | Test Accuracy: 0.31043 %\n",
            "Test loss: 0.00050 | Test Accuracy: 0.31050 %\n",
            "Test loss: 0.00075 | Test Accuracy: 0.29053 %\n",
            "Test loss: 0.00064 | Test Accuracy: 0.29046 %\n",
            "Test loss: 0.00070 | Test Accuracy: 0.30045 %\n",
            "Test loss: 0.00088 | Test Accuracy: 0.29050 %\n",
            "Test loss: 0.00081 | Test Accuracy: 0.28048 %\n",
            "Test loss: 0.00087 | Test Accuracy: 0.29043 %\n",
            "Test loss: 0.00111 | Test Accuracy: 0.29046 %\n",
            "Test loss: 0.00154 | Test Accuracy: 0.27050 %\n",
            "Test loss: 0.00051 | Test Accuracy: 0.30038 %\n",
            "Test loss: 0.00156 | Test Accuracy: 0.25056 %\n",
            "Test loss: 0.00171 | Test Accuracy: 0.24042 %\n",
            "Test loss: 0.00067 | Test Accuracy: 0.29030 %\n",
            "Test loss: 0.00081 | Test Accuracy: 0.28048 %\n",
            "Test loss: 0.00105 | Test Accuracy: 0.29043 %\n",
            "Test loss: 0.00131 | Test Accuracy: 0.28048 %\n",
            "Test loss: 0.00131 | Test Accuracy: 0.28045 %\n",
            "Test loss: 0.00176 | Test Accuracy: 0.27046 %\n"
          ]
        },
        {
          "output_type": "stream",
          "name": "stderr",
          "text": [
            "\r 80%|████████  | 4/5 [00:56<00:13, 13.10s/it]"
          ]
        },
        {
          "output_type": "stream",
          "name": "stdout",
          "text": [
            "Test loss: 0.00030 | Test Accuracy: 0.32035 %\n",
            "Test loss: 0.00100 | Test Accuracy: 0.30054 %\n",
            "Test loss: 0.00079 | Test Accuracy: 0.29050 %\n",
            "Test loss: 0.00139 | Test Accuracy: 0.26051 %\n",
            "Test loss: 0.00107 | Test Accuracy: 0.28039 %\n",
            "Test loss: 0.00148 | Test Accuracy: 0.28045 %\n",
            "Test loss: 0.00120 | Test Accuracy: 0.27046 %\n",
            "Test loss: 0.00071 | Test Accuracy: 0.29040 %\n",
            "Test loss: 0.00096 | Test Accuracy: 0.29046 %\n",
            "Test loss: 0.00192 | Test Accuracy: 0.26051 %\n",
            "Test loss: 0.00072 | Test Accuracy: 0.28039 %\n",
            "Test loss: 0.00096 | Test Accuracy: 0.28045 %\n",
            "Test loss: 0.00105 | Test Accuracy: 0.26048 %\n",
            "Test loss: 0.00059 | Test Accuracy: 0.29037 %\n",
            "Test loss: 0.00024 | Test Accuracy: 0.32042 %\n",
            "Test loss: 0.00103 | Test Accuracy: 0.28058 %\n",
            "Test loss: 0.00191 | Test Accuracy: 0.25050 %\n",
            "Test loss: 0.00078 | Test Accuracy: 0.30032 %\n",
            "Test loss: 0.00141 | Test Accuracy: 0.27053 %\n",
            "Test loss: 0.00160 | Test Accuracy: 0.26045 %\n",
            "Test loss: 0.00092 | Test Accuracy: 0.28038 %\n",
            "Test loss: 0.00075 | Test Accuracy: 0.30042 %\n",
            "Test loss: 0.00097 | Test Accuracy: 0.29050 %\n",
            "Test loss: 0.00054 | Test Accuracy: 0.30045 %\n",
            "Test loss: 0.00086 | Test Accuracy: 0.28051 %\n",
            "Test loss: 0.00026 | Test Accuracy: 0.31040 %\n",
            "Test loss: 0.00053 | Test Accuracy: 0.30051 %\n",
            "Test loss: 0.00046 | Test Accuracy: 0.29050 %\n",
            "Test loss: 0.00145 | Test Accuracy: 0.28048 %\n",
            "Test loss: 0.00107 | Test Accuracy: 0.26048 %\n",
            "Test loss: 0.00088 | Test Accuracy: 0.26042 %\n",
            "Test loss: 0.00128 | Test Accuracy: 0.26042 %\n",
            "Test loss: 0.00026 | Test Accuracy: 0.32032 %\n",
            "Epoch: 4\n",
            "------------\n",
            "Train loss: 0.28607 | Train accuracy: 89.62833%\n",
            "Test loss: 0.00198 | Test Accuracy: 0.28954 %\n",
            "Test loss: 0.00093 | Test Accuracy: 0.29046 %\n",
            "Test loss: 0.00099 | Test Accuracy: 0.29046 %\n",
            "Test loss: 0.00075 | Test Accuracy: 0.27050 %\n",
            "Test loss: 0.00109 | Test Accuracy: 0.29040 %\n",
            "Test loss: 0.00058 | Test Accuracy: 0.30045 %\n",
            "Test loss: 0.00034 | Test Accuracy: 0.31046 %\n",
            "Test loss: 0.00097 | Test Accuracy: 0.27056 %\n",
            "Test loss: 0.00040 | Test Accuracy: 0.31037 %\n",
            "Test loss: 0.00084 | Test Accuracy: 0.29053 %\n",
            "Test loss: 0.00042 | Test Accuracy: 0.30045 %\n",
            "Test loss: 0.00097 | Test Accuracy: 0.30048 %\n",
            "Test loss: 0.00110 | Test Accuracy: 0.29050 %\n",
            "Test loss: 0.00066 | Test Accuracy: 0.31043 %\n",
            "Test loss: 0.00108 | Test Accuracy: 0.26058 %\n",
            "Test loss: 0.00073 | Test Accuracy: 0.29037 %\n",
            "Test loss: 0.00063 | Test Accuracy: 0.30045 %\n",
            "Test loss: 0.00111 | Test Accuracy: 0.27053 %\n",
            "Test loss: 0.00097 | Test Accuracy: 0.26045 %\n",
            "Test loss: 0.00093 | Test Accuracy: 0.29037 %\n",
            "Test loss: 0.00061 | Test Accuracy: 0.31043 %\n",
            "Test loss: 0.00113 | Test Accuracy: 0.28054 %\n",
            "Test loss: 0.00136 | Test Accuracy: 0.28045 %\n",
            "Test loss: 0.00104 | Test Accuracy: 0.29043 %\n",
            "Test loss: 0.00072 | Test Accuracy: 0.31043 %\n",
            "Test loss: 0.00073 | Test Accuracy: 0.29053 %\n",
            "Test loss: 0.00050 | Test Accuracy: 0.31043 %\n",
            "Test loss: 0.00065 | Test Accuracy: 0.28054 %\n",
            "Test loss: 0.00081 | Test Accuracy: 0.28045 %\n",
            "Test loss: 0.00103 | Test Accuracy: 0.26048 %\n",
            "Test loss: 0.00171 | Test Accuracy: 0.25043 %\n",
            "Test loss: 0.00083 | Test Accuracy: 0.29034 %\n",
            "Test loss: 0.00069 | Test Accuracy: 0.29046 %\n",
            "Test loss: 0.00091 | Test Accuracy: 0.28048 %\n",
            "Test loss: 0.00152 | Test Accuracy: 0.28045 %\n",
            "Test loss: 0.00066 | Test Accuracy: 0.30042 %\n",
            "Test loss: 0.00099 | Test Accuracy: 0.27053 %\n",
            "Test loss: 0.00117 | Test Accuracy: 0.28042 %\n",
            "Test loss: 0.00116 | Test Accuracy: 0.28045 %\n",
            "Test loss: 0.00107 | Test Accuracy: 0.27046 %\n",
            "Test loss: 0.00117 | Test Accuracy: 0.27043 %\n",
            "Test loss: 0.00133 | Test Accuracy: 0.26045 %\n",
            "Test loss: 0.00052 | Test Accuracy: 0.30035 %\n",
            "Test loss: 0.00064 | Test Accuracy: 0.30048 %\n",
            "Test loss: 0.00061 | Test Accuracy: 0.31046 %\n",
            "Test loss: 0.00121 | Test Accuracy: 0.29053 %\n",
            "Test loss: 0.00096 | Test Accuracy: 0.27050 %\n",
            "Test loss: 0.00144 | Test Accuracy: 0.28042 %\n",
            "Test loss: 0.00017 | Test Accuracy: 0.32038 %\n",
            "Test loss: 0.00049 | Test Accuracy: 0.29056 %\n",
            "Test loss: 0.00076 | Test Accuracy: 0.30045 %\n",
            "Test loss: 0.00183 | Test Accuracy: 0.28051 %\n",
            "Test loss: 0.00047 | Test Accuracy: 0.29043 %\n",
            "Test loss: 0.00064 | Test Accuracy: 0.29046 %\n",
            "Test loss: 0.00095 | Test Accuracy: 0.28048 %\n",
            "Test loss: 0.00067 | Test Accuracy: 0.29043 %\n",
            "Test loss: 0.00060 | Test Accuracy: 0.30045 %\n",
            "Test loss: 0.00109 | Test Accuracy: 0.27053 %\n",
            "Test loss: 0.00087 | Test Accuracy: 0.28042 %\n",
            "Test loss: 0.00059 | Test Accuracy: 0.29043 %\n",
            "Test loss: 0.00082 | Test Accuracy: 0.29046 %\n",
            "Test loss: 0.00151 | Test Accuracy: 0.26051 %\n",
            "Test loss: 0.00109 | Test Accuracy: 0.30035 %\n",
            "Test loss: 0.00111 | Test Accuracy: 0.28051 %\n",
            "Test loss: 0.00088 | Test Accuracy: 0.29043 %\n",
            "Test loss: 0.00037 | Test Accuracy: 0.32042 %\n",
            "Test loss: 0.00020 | Test Accuracy: 0.32051 %\n",
            "Test loss: 0.00042 | Test Accuracy: 0.31053 %\n",
            "Test loss: 0.00107 | Test Accuracy: 0.29053 %\n",
            "Test loss: 0.00028 | Test Accuracy: 0.31043 %\n",
            "Test loss: 0.00044 | Test Accuracy: 0.31050 %\n",
            "Test loss: 0.00124 | Test Accuracy: 0.26058 %\n",
            "Test loss: 0.00198 | Test Accuracy: 0.24045 %\n",
            "Test loss: 0.00065 | Test Accuracy: 0.31027 %\n",
            "Test loss: 0.00067 | Test Accuracy: 0.28054 %\n",
            "Test loss: 0.00047 | Test Accuracy: 0.30042 %\n",
            "Test loss: 0.00068 | Test Accuracy: 0.29050 %\n",
            "Test loss: 0.00150 | Test Accuracy: 0.27050 %\n",
            "Test loss: 0.00163 | Test Accuracy: 0.27043 %\n",
            "Test loss: 0.00053 | Test Accuracy: 0.29040 %\n",
            "Test loss: 0.00063 | Test Accuracy: 0.29046 %\n",
            "Test loss: 0.00170 | Test Accuracy: 0.25053 %\n",
            "Test loss: 0.00081 | Test Accuracy: 0.28035 %\n",
            "Test loss: 0.00156 | Test Accuracy: 0.26048 %\n",
            "Test loss: 0.00093 | Test Accuracy: 0.29037 %\n",
            "Test loss: 0.00156 | Test Accuracy: 0.27050 %\n",
            "Test loss: 0.00087 | Test Accuracy: 0.29040 %\n",
            "Test loss: 0.00054 | Test Accuracy: 0.29046 %\n",
            "Test loss: 0.00177 | Test Accuracy: 0.27050 %\n",
            "Test loss: 0.00109 | Test Accuracy: 0.29040 %\n",
            "Test loss: 0.00169 | Test Accuracy: 0.26051 %\n",
            "Test loss: 0.00149 | Test Accuracy: 0.27040 %\n",
            "Test loss: 0.00160 | Test Accuracy: 0.26045 %\n",
            "Test loss: 0.00146 | Test Accuracy: 0.26042 %\n",
            "Test loss: 0.00164 | Test Accuracy: 0.29037 %\n",
            "Test loss: 0.00081 | Test Accuracy: 0.30045 %\n",
            "Test loss: 0.00143 | Test Accuracy: 0.30048 %\n",
            "Test loss: 0.00103 | Test Accuracy: 0.29050 %\n",
            "Test loss: 0.00037 | Test Accuracy: 0.31043 %\n",
            "Test loss: 0.00124 | Test Accuracy: 0.28054 %\n",
            "Test loss: 0.00138 | Test Accuracy: 0.28045 %\n",
            "Test loss: 0.00230 | Test Accuracy: 0.25050 %\n",
            "Test loss: 0.00163 | Test Accuracy: 0.26038 %\n",
            "Test loss: 0.00100 | Test Accuracy: 0.27040 %\n",
            "Test loss: 0.00104 | Test Accuracy: 0.26045 %\n",
            "Test loss: 0.00034 | Test Accuracy: 0.32032 %\n",
            "Test loss: 0.00040 | Test Accuracy: 0.31053 %\n",
            "Test loss: 0.00088 | Test Accuracy: 0.29053 %\n",
            "Test loss: 0.00182 | Test Accuracy: 0.27050 %\n",
            "Test loss: 0.00109 | Test Accuracy: 0.30038 %\n",
            "Test loss: 0.00163 | Test Accuracy: 0.27053 %\n",
            "Test loss: 0.00133 | Test Accuracy: 0.29040 %\n",
            "Test loss: 0.00064 | Test Accuracy: 0.29046 %\n",
            "Test loss: 0.00113 | Test Accuracy: 0.28048 %\n",
            "Test loss: 0.00067 | Test Accuracy: 0.30042 %\n",
            "Test loss: 0.00072 | Test Accuracy: 0.31046 %\n",
            "Test loss: 0.00123 | Test Accuracy: 0.28054 %\n",
            "Test loss: 0.00068 | Test Accuracy: 0.29043 %\n",
            "Test loss: 0.00180 | Test Accuracy: 0.27050 %\n",
            "Test loss: 0.00150 | Test Accuracy: 0.26045 %\n",
            "Test loss: 0.00077 | Test Accuracy: 0.27040 %\n",
            "Test loss: 0.00138 | Test Accuracy: 0.28042 %\n",
            "Test loss: 0.00046 | Test Accuracy: 0.29043 %\n",
            "Test loss: 0.00119 | Test Accuracy: 0.27050 %\n",
            "Test loss: 0.00178 | Test Accuracy: 0.26045 %\n",
            "Test loss: 0.00086 | Test Accuracy: 0.28038 %\n",
            "Test loss: 0.00109 | Test Accuracy: 0.29043 %\n",
            "Test loss: 0.00135 | Test Accuracy: 0.25053 %\n",
            "Test loss: 0.00122 | Test Accuracy: 0.26039 %\n",
            "Test loss: 0.00180 | Test Accuracy: 0.25043 %\n",
            "Test loss: 0.00047 | Test Accuracy: 0.31030 %\n",
            "Test loss: 0.00091 | Test Accuracy: 0.28054 %\n",
            "Test loss: 0.00158 | Test Accuracy: 0.29043 %\n",
            "Test loss: 0.00113 | Test Accuracy: 0.28048 %\n",
            "Test loss: 0.00061 | Test Accuracy: 0.28045 %\n",
            "Test loss: 0.00048 | Test Accuracy: 0.30042 %\n",
            "Test loss: 0.00031 | Test Accuracy: 0.30048 %\n",
            "Test loss: 0.00049 | Test Accuracy: 0.30048 %\n",
            "Test loss: 0.00080 | Test Accuracy: 0.29050 %\n",
            "Test loss: 0.00107 | Test Accuracy: 0.27050 %\n",
            "Test loss: 0.00067 | Test Accuracy: 0.29040 %\n",
            "Test loss: 0.00067 | Test Accuracy: 0.28048 %\n",
            "Test loss: 0.00061 | Test Accuracy: 0.30042 %\n",
            "Test loss: 0.00070 | Test Accuracy: 0.29050 %\n",
            "Test loss: 0.00051 | Test Accuracy: 0.31043 %\n",
            "Test loss: 0.00081 | Test Accuracy: 0.29053 %\n",
            "Test loss: 0.00146 | Test Accuracy: 0.26051 %\n",
            "Test loss: 0.00080 | Test Accuracy: 0.28039 %\n",
            "Test loss: 0.00106 | Test Accuracy: 0.29043 %\n",
            "Test loss: 0.00092 | Test Accuracy: 0.29046 %\n",
            "Test loss: 0.00168 | Test Accuracy: 0.26051 %\n",
            "Test loss: 0.00112 | Test Accuracy: 0.25043 %\n",
            "Test loss: 0.00067 | Test Accuracy: 0.29034 %\n",
            "Test loss: 0.00154 | Test Accuracy: 0.26051 %\n",
            "Test loss: 0.00079 | Test Accuracy: 0.30035 %\n",
            "Test loss: 0.00051 | Test Accuracy: 0.31046 %\n",
            "Test loss: 0.00157 | Test Accuracy: 0.28054 %\n",
            "Test loss: 0.00151 | Test Accuracy: 0.26048 %\n",
            "Test loss: 0.00135 | Test Accuracy: 0.27040 %\n",
            "Test loss: 0.00079 | Test Accuracy: 0.31037 %\n",
            "Test loss: 0.00127 | Test Accuracy: 0.27056 %\n",
            "Test loss: 0.00139 | Test Accuracy: 0.25047 %\n",
            "Test loss: 0.00140 | Test Accuracy: 0.27037 %\n",
            "Test loss: 0.00053 | Test Accuracy: 0.30038 %\n",
            "Test loss: 0.00194 | Test Accuracy: 0.26054 %\n",
            "Test loss: 0.00070 | Test Accuracy: 0.30035 %\n",
            "Test loss: 0.00156 | Test Accuracy: 0.28051 %\n",
            "Test loss: 0.00026 | Test Accuracy: 0.32039 %\n",
            "Test loss: 0.00099 | Test Accuracy: 0.29056 %\n",
            "Test loss: 0.00083 | Test Accuracy: 0.29047 %\n",
            "Test loss: 0.00194 | Test Accuracy: 0.25053 %\n",
            "Test loss: 0.00090 | Test Accuracy: 0.28035 %\n",
            "Test loss: 0.00291 | Test Accuracy: 0.23053 %\n",
            "Test loss: 0.00085 | Test Accuracy: 0.29027 %\n",
            "Test loss: 0.00183 | Test Accuracy: 0.26051 %\n",
            "Test loss: 0.00107 | Test Accuracy: 0.28039 %\n",
            "Test loss: 0.00086 | Test Accuracy: 0.28045 %\n",
            "Test loss: 0.00100 | Test Accuracy: 0.27046 %\n",
            "Test loss: 0.00170 | Test Accuracy: 0.26045 %\n",
            "Test loss: 0.00040 | Test Accuracy: 0.32032 %\n",
            "Test loss: 0.00077 | Test Accuracy: 0.31053 %\n",
            "Test loss: 0.00144 | Test Accuracy: 0.27056 %\n",
            "Test loss: 0.00085 | Test Accuracy: 0.29040 %\n",
            "Test loss: 0.00045 | Test Accuracy: 0.31043 %\n",
            "Test loss: 0.00035 | Test Accuracy: 0.32048 %\n",
            "Test loss: 0.00070 | Test Accuracy: 0.30054 %\n",
            "Test loss: 0.00076 | Test Accuracy: 0.29050 %\n",
            "Test loss: 0.00130 | Test Accuracy: 0.28048 %\n",
            "Test loss: 0.00114 | Test Accuracy: 0.28045 %\n",
            "Test loss: 0.00038 | Test Accuracy: 0.32038 %\n",
            "Test loss: 0.00128 | Test Accuracy: 0.27059 %\n",
            "Test loss: 0.00086 | Test Accuracy: 0.28042 %\n",
            "Test loss: 0.00110 | Test Accuracy: 0.28045 %\n",
            "Test loss: 0.00050 | Test Accuracy: 0.30042 %\n",
            "Test loss: 0.00049 | Test Accuracy: 0.31046 %\n",
            "Test loss: 0.00106 | Test Accuracy: 0.26058 %\n",
            "Test loss: 0.00093 | Test Accuracy: 0.29037 %\n",
            "Test loss: 0.00124 | Test Accuracy: 0.27050 %\n",
            "Test loss: 0.00067 | Test Accuracy: 0.30038 %\n",
            "Test loss: 0.00077 | Test Accuracy: 0.29050 %\n",
            "Test loss: 0.00133 | Test Accuracy: 0.28048 %\n",
            "Test loss: 0.00122 | Test Accuracy: 0.27046 %\n",
            "Test loss: 0.00162 | Test Accuracy: 0.26045 %\n",
            "Test loss: 0.00061 | Test Accuracy: 0.30035 %\n",
            "Test loss: 0.00100 | Test Accuracy: 0.27053 %\n",
            "Test loss: 0.00101 | Test Accuracy: 0.29040 %\n",
            "Test loss: 0.00117 | Test Accuracy: 0.29046 %\n",
            "Test loss: 0.00064 | Test Accuracy: 0.30045 %\n",
            "Test loss: 0.00064 | Test Accuracy: 0.31046 %\n",
            "Test loss: 0.00122 | Test Accuracy: 0.27056 %\n",
            "Test loss: 0.00109 | Test Accuracy: 0.26045 %\n",
            "Test loss: 0.00046 | Test Accuracy: 0.31034 %\n",
            "Test loss: 0.00062 | Test Accuracy: 0.30051 %\n",
            "Test loss: 0.00105 | Test Accuracy: 0.28051 %\n",
            "Test loss: 0.00154 | Test Accuracy: 0.27046 %\n",
            "Test loss: 0.00094 | Test Accuracy: 0.30038 %\n",
            "Test loss: 0.00074 | Test Accuracy: 0.30048 %\n",
            "Test loss: 0.00084 | Test Accuracy: 0.27053 %\n",
            "Test loss: 0.00152 | Test Accuracy: 0.25046 %\n",
            "Test loss: 0.00068 | Test Accuracy: 0.30032 %\n",
            "Test loss: 0.00082 | Test Accuracy: 0.29050 %\n",
            "Test loss: 0.00078 | Test Accuracy: 0.29046 %\n",
            "Test loss: 0.00089 | Test Accuracy: 0.27050 %\n",
            "Test loss: 0.00088 | Test Accuracy: 0.28042 %\n",
            "Test loss: 0.00103 | Test Accuracy: 0.28045 %\n",
            "Test loss: 0.00096 | Test Accuracy: 0.29043 %\n",
            "Test loss: 0.00083 | Test Accuracy: 0.28048 %\n",
            "Test loss: 0.00059 | Test Accuracy: 0.29043 %\n",
            "Test loss: 0.00070 | Test Accuracy: 0.29046 %\n",
            "Test loss: 0.00101 | Test Accuracy: 0.26051 %\n",
            "Test loss: 0.00075 | Test Accuracy: 0.31034 %\n",
            "Test loss: 0.00045 | Test Accuracy: 0.30051 %\n",
            "Test loss: 0.00102 | Test Accuracy: 0.27053 %\n",
            "Test loss: 0.00014 | Test Accuracy: 0.32035 %\n",
            "Test loss: 0.00048 | Test Accuracy: 0.31053 %\n",
            "Test loss: 0.00055 | Test Accuracy: 0.29053 %\n",
            "Test loss: 0.00090 | Test Accuracy: 0.28048 %\n",
            "Test loss: 0.00128 | Test Accuracy: 0.27046 %\n",
            "Test loss: 0.00084 | Test Accuracy: 0.30038 %\n",
            "Test loss: 0.00075 | Test Accuracy: 0.28051 %\n",
            "Test loss: 0.00056 | Test Accuracy: 0.30042 %\n",
            "Test loss: 0.00031 | Test Accuracy: 0.32045 %\n",
            "Test loss: 0.00082 | Test Accuracy: 0.28058 %\n",
            "Test loss: 0.00066 | Test Accuracy: 0.29043 %\n",
            "Test loss: 0.00096 | Test Accuracy: 0.27050 %\n",
            "Test loss: 0.00102 | Test Accuracy: 0.29040 %\n",
            "Test loss: 0.00074 | Test Accuracy: 0.28048 %\n",
            "Test loss: 0.00101 | Test Accuracy: 0.28045 %\n",
            "Test loss: 0.00105 | Test Accuracy: 0.28045 %\n",
            "Test loss: 0.00140 | Test Accuracy: 0.24051 %\n",
            "Test loss: 0.00086 | Test Accuracy: 0.28032 %\n",
            "Test loss: 0.00113 | Test Accuracy: 0.27046 %\n",
            "Test loss: 0.00108 | Test Accuracy: 0.26045 %\n",
            "Test loss: 0.00087 | Test Accuracy: 0.29037 %\n",
            "Test loss: 0.00111 | Test Accuracy: 0.29046 %\n",
            "Test loss: 0.00023 | Test Accuracy: 0.32042 %\n",
            "Test loss: 0.00154 | Test Accuracy: 0.26061 %\n",
            "Test loss: 0.00059 | Test Accuracy: 0.30035 %\n",
            "Test loss: 0.00113 | Test Accuracy: 0.28051 %\n",
            "Test loss: 0.00080 | Test Accuracy: 0.30042 %\n",
            "Test loss: 0.00080 | Test Accuracy: 0.29050 %\n",
            "Test loss: 0.00050 | Test Accuracy: 0.29046 %\n",
            "Test loss: 0.00064 | Test Accuracy: 0.31043 %\n",
            "Test loss: 0.00037 | Test Accuracy: 0.32048 %\n",
            "Test loss: 0.00071 | Test Accuracy: 0.28058 %\n",
            "Test loss: 0.00057 | Test Accuracy: 0.30042 %\n",
            "Test loss: 0.00117 | Test Accuracy: 0.29050 %\n",
            "Test loss: 0.00058 | Test Accuracy: 0.30045 %\n",
            "Test loss: 0.00106 | Test Accuracy: 0.29050 %\n",
            "Test loss: 0.00128 | Test Accuracy: 0.30045 %\n",
            "Test loss: 0.00128 | Test Accuracy: 0.28051 %\n",
            "Test loss: 0.00039 | Test Accuracy: 0.31040 %\n",
            "Test loss: 0.00126 | Test Accuracy: 0.27056 %\n",
            "Test loss: 0.00156 | Test Accuracy: 0.25047 %\n",
            "Test loss: 0.00081 | Test Accuracy: 0.28035 %\n",
            "Test loss: 0.00096 | Test Accuracy: 0.29043 %\n",
            "Test loss: 0.00077 | Test Accuracy: 0.30045 %\n",
            "Test loss: 0.00164 | Test Accuracy: 0.26054 %\n",
            "Test loss: 0.00161 | Test Accuracy: 0.27040 %\n",
            "Test loss: 0.00116 | Test Accuracy: 0.28042 %\n",
            "Test loss: 0.00041 | Test Accuracy: 0.30042 %\n",
            "Test loss: 0.00065 | Test Accuracy: 0.30048 %\n",
            "Test loss: 0.00071 | Test Accuracy: 0.28051 %\n",
            "Test loss: 0.00122 | Test Accuracy: 0.27046 %\n",
            "Test loss: 0.00122 | Test Accuracy: 0.28042 %\n",
            "Test loss: 0.00123 | Test Accuracy: 0.28045 %\n",
            "Test loss: 0.00094 | Test Accuracy: 0.30042 %\n",
            "Test loss: 0.00071 | Test Accuracy: 0.29050 %\n",
            "Test loss: 0.00097 | Test Accuracy: 0.27050 %\n"
          ]
        },
        {
          "output_type": "stream",
          "name": "stderr",
          "text": [
            "100%|██████████| 5/5 [01:08<00:00, 13.73s/it]"
          ]
        },
        {
          "output_type": "stream",
          "name": "stdout",
          "text": [
            "Test loss: 0.00168 | Test Accuracy: 0.28042 %\n",
            "Test loss: 0.00077 | Test Accuracy: 0.27046 %\n",
            "Test loss: 0.00081 | Test Accuracy: 0.28042 %\n",
            "Test loss: 0.00121 | Test Accuracy: 0.25050 %\n",
            "Test loss: 0.00049 | Test Accuracy: 0.31031 %\n",
            "Test loss: 0.00020 | Test Accuracy: 0.32048 %\n",
            "Test loss: 0.00073 | Test Accuracy: 0.31053 %\n",
            "Test loss: 0.00154 | Test Accuracy: 0.28054 %\n",
            "Test loss: 0.00064 | Test Accuracy: 0.30042 %\n",
            "Test loss: 0.00106 | Test Accuracy: 0.27053 %\n",
            "Test loss: 0.00148 | Test Accuracy: 0.25046 %\n",
            "Test loss: 0.00091 | Test Accuracy: 0.28035 %\n",
            "Test loss: 0.00084 | Test Accuracy: 0.29043 %\n",
            "Test loss: 0.00094 | Test Accuracy: 0.28048 %\n",
            "Test loss: 0.00034 | Test Accuracy: 0.32038 %\n",
            "Test loss: 0.00090 | Test Accuracy: 0.30054 %\n",
            "Test loss: 0.00032 | Test Accuracy: 0.31046 %\n",
            "Test loss: 0.00046 | Test Accuracy: 0.30051 %\n",
            "Test loss: 0.00057 | Test Accuracy: 0.29050 %\n",
            "Test loss: 0.00112 | Test Accuracy: 0.29046 %\n",
            "Test loss: 0.00064 | Test Accuracy: 0.29046 %\n",
            "Test loss: 0.00103 | Test Accuracy: 0.30045 %\n",
            "Test loss: 0.00138 | Test Accuracy: 0.26054 %\n",
            "Test loss: 0.00049 | Test Accuracy: 0.32032 %\n",
            "Training time: 68.67680937899996\n"
          ]
        },
        {
          "output_type": "stream",
          "name": "stderr",
          "text": [
            "\n"
          ]
        }
      ]
    },
    {
      "cell_type": "markdown",
      "source": [
        "## 10. Make predictions using your trained model and visualize at least 5 of them comparing the prediciton to the target label."
      ],
      "metadata": {
        "id": "w1CsHhPpxp1w"
      }
    },
    {
      "cell_type": "code",
      "source": [
        "def make_predictions(\n",
        "    model: torch.nn.Module,\n",
        "    data: list,\n",
        "    device: torch.device = device):\n",
        "  pred_probs = []\n",
        "  model.eval()\n",
        "\n",
        "  with torch.inference_mode():\n",
        "    for sample in data:\n",
        "      sample = torch.unsqueeze(sample, dim=0).to(device)\n",
        "\n",
        "      pred_logit = model(sample)\n",
        "\n",
        "      pred_prob = torch.softmax(pred_logit.squeeze(), dim=0)\n",
        "\n",
        "      pred_probs.append(pred_prob.cpu())\n",
        "\n",
        "  return torch.stack(pred_probs)"
      ],
      "metadata": {
        "id": "_YGgZvSobNxu"
      },
      "execution_count": 19,
      "outputs": []
    },
    {
      "cell_type": "code",
      "source": [
        "# take 5 random samples\n",
        "import random\n",
        "random.seed(42)\n",
        "\n",
        "test_samples = []\n",
        "test_labels = []\n",
        "\n",
        "for sample, label in random.sample(list(test_data), k=5):\n",
        "  test_samples.append(sample)\n",
        "  test_labels.append(label)"
      ],
      "metadata": {
        "id": "A8OM8TSKZ32p"
      },
      "execution_count": 20,
      "outputs": []
    },
    {
      "cell_type": "code",
      "source": [
        "test_samples[0].shape"
      ],
      "metadata": {
        "id": "JlAl3fTff-TO",
        "outputId": "ef175179-3ea4-4221-b94c-88fdd9e367e8",
        "colab": {
          "base_uri": "https://localhost:8080/"
        }
      },
      "execution_count": 21,
      "outputs": [
        {
          "output_type": "execute_result",
          "data": {
            "text/plain": [
              "torch.Size([1, 28, 28])"
            ]
          },
          "metadata": {},
          "execution_count": 21
        }
      ]
    },
    {
      "cell_type": "code",
      "source": [
        "# make prediction on test samples\n",
        "pred_probs = make_predictions(model=model_2,\n",
        "                              data=test_samples)\n",
        "pred_probs"
      ],
      "metadata": {
        "id": "JNCMAkIca8r2",
        "outputId": "8a798a33-0b30-4746-cff7-2e2d8a4b03dc",
        "colab": {
          "base_uri": "https://localhost:8080/"
        }
      },
      "execution_count": 22,
      "outputs": [
        {
          "output_type": "execute_result",
          "data": {
            "text/plain": [
              "tensor([[4.1850e-08, 2.7179e-09, 4.1933e-08, 7.0296e-10, 1.6202e-09, 9.9992e-01,\n",
              "         1.9970e-08, 4.0545e-05, 3.1702e-05, 1.0647e-05],\n",
              "        [1.4461e-01, 7.5155e-01, 1.1863e-02, 5.9172e-02, 7.2540e-03, 1.8338e-05,\n",
              "         2.5255e-02, 8.1246e-05, 1.8228e-04, 2.2366e-05],\n",
              "        [7.5565e-06, 2.4776e-08, 1.0380e-06, 7.8850e-08, 3.1943e-07, 1.3365e-03,\n",
              "         1.6898e-06, 9.5012e-01, 3.9768e-04, 4.8131e-02],\n",
              "        [8.0205e-04, 1.9338e-05, 3.6749e-01, 1.3018e-04, 6.2868e-01, 5.6441e-07,\n",
              "         2.7963e-03, 7.3675e-07, 8.5094e-05, 7.7804e-07],\n",
              "        [6.1569e-02, 9.2050e-06, 7.2785e-05, 9.2013e-01, 6.8223e-05, 1.9878e-07,\n",
              "         1.8136e-02, 2.6887e-06, 8.6886e-06, 2.7837e-06]])"
            ]
          },
          "metadata": {},
          "execution_count": 22
        }
      ]
    },
    {
      "cell_type": "code",
      "source": [
        "pred_classes = pred_probs.argmax(dim=1)\n",
        "pred_classes"
      ],
      "metadata": {
        "id": "yH4ggrlXbXHv",
        "outputId": "abd264fe-b734-4979-b053-62a7daa3d4da",
        "colab": {
          "base_uri": "https://localhost:8080/"
        }
      },
      "execution_count": 23,
      "outputs": [
        {
          "output_type": "execute_result",
          "data": {
            "text/plain": [
              "tensor([5, 1, 7, 4, 3])"
            ]
          },
          "metadata": {},
          "execution_count": 23
        }
      ]
    },
    {
      "cell_type": "code",
      "source": [
        "test_labels, pred_classes"
      ],
      "metadata": {
        "id": "UbuPJRckbha8",
        "outputId": "f2fc295a-b504-49c7-b642-10b080e0e9be",
        "colab": {
          "base_uri": "https://localhost:8080/"
        }
      },
      "execution_count": 24,
      "outputs": [
        {
          "output_type": "execute_result",
          "data": {
            "text/plain": [
              "([5, 1, 7, 4, 3], tensor([5, 1, 7, 4, 3]))"
            ]
          },
          "metadata": {},
          "execution_count": 24
        }
      ]
    },
    {
      "cell_type": "markdown",
      "source": [
        "## 11. Plot a confusion matrix comparing your model's predictions to the truth labels."
      ],
      "metadata": {
        "id": "qQwzqlBWxrpG"
      }
    },
    {
      "cell_type": "code",
      "source": [
        "# Plot prediction\n",
        "plt.figure(figsize=(8, 6))\n",
        "\n",
        "nrows = 2\n",
        "ncols = 3\n",
        "\n",
        "for i, sample in enumerate(test_samples):\n",
        "  plt.subplot(nrows, ncols, i+1)\n",
        "  plt.imshow(sample.squeeze(), cmap=\"gray\")\n",
        "\n",
        "  pred_label = class_names[pred_classes[i]]\n",
        "\n",
        "  truth_label = class_names[test_labels[i]]\n",
        "\n",
        "  title_text = f\"Pred: {pred_label} | Truth: {truth_label}\"\n",
        "\n",
        "  if pred_label == truth_label:\n",
        "    plt.title(title_text, fontsize=10, c=\"g\")\n",
        "  else:\n",
        "    plt.title(title_text, fontsize=10, c=\"r\")\n",
        "  plt.axis(False)"
      ],
      "metadata": {
        "id": "vSrXiT_AbQ6e",
        "colab": {
          "base_uri": "https://localhost:8080/",
          "height": 490
        },
        "outputId": "9e7cf072-474c-42f4-a2e9-47dd696a0a1f"
      },
      "execution_count": 25,
      "outputs": [
        {
          "output_type": "display_data",
          "data": {
            "text/plain": [
              "<Figure size 800x600 with 5 Axes>"
            ],
            "image/png": "[encoded data removed]"
          },
          "metadata": {}
        }
      ]
    },
    {
      "cell_type": "markdown",
      "source": [
        "## 12. Create a random tensor of shape `[1, 3, 64, 64]` and pass it through a `nn.Conv2d()` layer with various hyperparameter settings (these can be any settings you choose), what do you notice if the `kernel_size` parameter goes up and down?"
      ],
      "metadata": {
        "id": "lj6bDhoWxt2y"
      }
    },
    {
      "cell_type": "code",
      "source": [
        "input = torch.randn([1, 3, 64, 64])\n",
        "input"
      ],
      "metadata": {
        "id": "leCTsqtSbR5P",
        "colab": {
          "base_uri": "https://localhost:8080/"
        },
        "outputId": "529a930a-6015-4418-a661-901cb1a484fa"
      },
      "execution_count": 26,
      "outputs": [
        {
          "output_type": "execute_result",
          "data": {
            "text/plain": [
              "tensor([[[[-2.3169, -0.2168, -1.3847,  ...,  0.6039, -1.7223, -0.8278],\n",
              "          [-0.4976,  0.4747, -2.5095,  ...,  1.6048, -2.4801, -0.4175],\n",
              "          [-0.1933,  0.6526, -1.9006,  ...,  1.5080,  0.3094, -0.5003],\n",
              "          ...,\n",
              "          [ 1.3945,  1.1369,  1.1797,  ...,  0.3114, -0.5756,  0.3273],\n",
              "          [ 0.5520, -0.7733, -2.4740,  ..., -1.5076, -0.4230, -0.4520],\n",
              "          [-1.5838,  0.8040,  0.4396,  ..., -1.4912,  0.5385,  1.3362]],\n",
              "\n",
              "         [[ 0.3451, -0.1033,  0.4315,  ...,  0.9802, -0.0586,  2.0731],\n",
              "          [-1.8001,  1.4671, -0.1637,  ..., -1.5173,  0.2003, -0.2469],\n",
              "          [ 0.1620,  0.3937, -0.5063,  ...,  0.6884,  1.6444, -0.0973],\n",
              "          ...,\n",
              "          [ 0.8699, -0.7617, -0.5187,  ...,  0.3781, -0.5251,  1.1868],\n",
              "          [-0.9007, -0.5312,  0.0827,  ..., -0.3169, -1.6129, -0.9479],\n",
              "          [-0.0292,  1.7699,  0.7444,  ...,  0.1274,  0.3783,  1.7934]],\n",
              "\n",
              "         [[-0.0848,  1.2047,  0.7305,  ...,  0.4399,  0.6742, -0.5764],\n",
              "          [ 1.7595,  1.9139, -0.3746,  ...,  0.6252, -0.6523, -0.8380],\n",
              "          [-0.2568, -0.6226,  0.5190,  ...,  1.8709, -0.3116,  0.2731],\n",
              "          ...,\n",
              "          [-1.4029, -0.6841, -0.0965,  ..., -0.0161,  0.1193, -0.7611],\n",
              "          [ 1.3910,  0.9389,  0.0155,  ...,  0.5527,  0.0050,  0.5645],\n",
              "          [-1.3799, -0.4843,  0.9146,  ..., -0.6653, -2.2272,  0.2154]]]])"
            ]
          },
          "metadata": {},
          "execution_count": 26
        }
      ]
    },
    {
      "cell_type": "code",
      "source": [
        "m = nn.Conv2d(in_channels=3, out_channels=10, kernel_size=10, stride=1)"
      ],
      "metadata": {
        "id": "ewuw97Bzd0Na"
      },
      "execution_count": 27,
      "outputs": []
    },
    {
      "cell_type": "code",
      "source": [
        "output = m(input)\n",
        "output.shape\n",
        "output"
      ],
      "metadata": {
        "id": "VQKBJElVeK96",
        "outputId": "4d2d93da-0892-4eee-f719-61d41990cb86",
        "colab": {
          "base_uri": "https://localhost:8080/"
        }
      },
      "execution_count": 28,
      "outputs": [
        {
          "output_type": "execute_result",
          "data": {
            "text/plain": [
              "tensor([[[[ 0.6752,  0.4536,  0.0640,  ...,  1.1309, -0.1534,  0.3135],\n",
              "          [ 0.1320, -0.5801, -0.6757,  ..., -0.0434,  0.3501,  0.0916],\n",
              "          [-0.5185, -0.7795,  0.5238,  ...,  0.5380,  0.8560, -0.1908],\n",
              "          ...,\n",
              "          [ 0.1305, -0.3567,  0.1636,  ...,  0.0953,  0.0371,  0.1861],\n",
              "          [-0.4568, -0.6180, -0.4055,  ..., -0.0121,  0.0372, -0.4766],\n",
              "          [-0.4019, -0.3008, -0.0614,  ..., -0.8236,  0.0093,  0.3969]],\n",
              "\n",
              "         [[ 0.2674,  0.1593,  0.9239,  ...,  0.5169, -0.5000,  0.1041],\n",
              "          [-0.3300,  0.0753, -0.0866,  ..., -0.3341,  0.0888,  0.3141],\n",
              "          [-0.7819, -0.3803, -0.5944,  ..., -0.4581,  0.5828,  0.5118],\n",
              "          ...,\n",
              "          [ 0.2741,  0.4363, -0.3660,  ...,  0.6477,  0.6917,  0.9487],\n",
              "          [-0.5996, -0.0289,  0.2334,  ..., -0.7869, -0.3376,  0.1204],\n",
              "          [ 0.6566, -0.2797,  0.2516,  ...,  0.8746, -0.3928,  0.2670]],\n",
              "\n",
              "         [[ 0.2740,  0.5551,  0.5995,  ...,  0.6765, -0.4052, -0.0724],\n",
              "          [ 0.5195,  0.5686, -0.2623,  ...,  0.4210, -0.2385,  0.2744],\n",
              "          [ 0.2872,  0.3292,  0.1621,  ..., -0.2851, -0.8688, -0.0071],\n",
              "          ...,\n",
              "          [ 0.9422,  0.0152, -0.4493,  ...,  0.5734, -0.2389,  0.3095],\n",
              "          [ 0.4499, -0.1851,  0.3438,  ...,  0.2232, -0.8442,  0.4524],\n",
              "          [-0.6296,  0.4937,  0.1901,  ...,  1.0043,  0.1320, -0.5961]],\n",
              "\n",
              "         ...,\n",
              "\n",
              "         [[ 0.1248, -0.7460,  0.0567,  ...,  0.3147,  0.1224,  1.0940],\n",
              "          [-0.5721, -0.8448,  0.7245,  ..., -0.5586,  0.2108, -0.8098],\n",
              "          [ 0.0366, -0.3098, -0.4940,  ..., -0.3433,  0.5748,  0.1075],\n",
              "          ...,\n",
              "          [ 0.5381, -0.6481, -0.3968,  ...,  0.3717, -0.7305, -0.0625],\n",
              "          [ 1.0551, -0.9241,  0.6057,  ...,  0.3626,  0.7980, -0.7442],\n",
              "          [-0.4784, -0.2234, -0.2269,  ...,  0.0264,  0.2493, -0.3896]],\n",
              "\n",
              "         [[ 0.7534,  0.0493, -0.7944,  ..., -0.7288, -0.6484,  0.3172],\n",
              "          [-0.1983,  0.9530, -0.6278,  ..., -0.8974,  0.1376, -0.0236],\n",
              "          [ 0.9039, -0.3956,  0.4045,  ..., -0.1135,  0.5004,  0.6855],\n",
              "          ...,\n",
              "          [ 0.7055,  0.3478,  0.3888,  ...,  0.5503,  0.0461,  0.3306],\n",
              "          [-0.4041, -0.6436, -0.9123,  ..., -0.3088, -0.3184,  0.2346],\n",
              "          [-0.1486, -0.2261, -0.4758,  ...,  0.9730, -0.1448,  0.0696]],\n",
              "\n",
              "         [[ 1.1532,  0.9768, -0.3666,  ..., -0.6415, -0.6598,  0.4266],\n",
              "          [-0.6870,  0.7917,  1.0230,  ...,  0.9611,  0.0494, -0.3510],\n",
              "          [ 0.0539,  0.4544, -0.1286,  ..., -0.5202,  0.2096,  0.4834],\n",
              "          ...,\n",
              "          [-0.5288, -0.6237, -0.8877,  ...,  0.0887,  0.4321,  0.6049],\n",
              "          [ 0.2869, -0.0331, -1.3186,  ..., -0.9100,  0.1916, -1.3124],\n",
              "          [-0.1965, -0.0757,  0.5633,  ...,  0.7286, -0.0968, -0.0814]]]],\n",
              "       grad_fn=<ConvolutionBackward0>)"
            ]
          },
          "metadata": {},
          "execution_count": 28
        }
      ]
    },
    {
      "cell_type": "markdown",
      "source": [
        "## 13. Use a model similar to the trained `model_2` from notebook 03 to make predictions on the test [`torchvision.datasets.FashionMNIST`](https://pytorch.org/vision/main/generated/torchvision.datasets.FashionMNIST.html) dataset.\n",
        "* Then plot some predictions where the model was wrong alongside what the label of the image should've been.\n",
        "* After visualing these predictions do you think it's more of a modelling error or a data error?\n",
        "* As in, could the model do better or are the labels of the data too close to each other (e.g. a \"Shirt\" label is too close to \"T-shirt/top\")?"
      ],
      "metadata": {
        "id": "VHS20cNTxwSi"
      }
    },
    {
      "cell_type": "code",
      "source": [
        "# Download MNIST dataset\n",
        "from torchvision import datasets\n",
        "from torchvision import transforms\n",
        "\n",
        "mnist_train = datasets.MNIST(\n",
        "    root=\".\",\n",
        "    download=True,\n",
        "    train=True,\n",
        "    transform=transforms.ToTensor()\n",
        ")\n",
        "\n",
        "mnist_test = datasets.MNIST(\n",
        "    root=\".\",\n",
        "    train=False,\n",
        "    download=True,\n",
        "    transform=transforms.ToTensor()\n",
        ")\n",
        "\n",
        "len(mnist_train), len(mnist_test)"
      ],
      "metadata": {
        "id": "78a8LjtdbSZj",
        "outputId": "8172a590-84ad-4b77-a3e5-89b6990794e9",
        "colab": {
          "base_uri": "https://localhost:8080/"
        }
      },
      "execution_count": 29,
      "outputs": [
        {
          "output_type": "stream",
          "name": "stdout",
          "text": [
            "Downloading http://yann.lecun.com/exdb/mnist/train-images-idx3-ubyte.gz\n",
            "Downloading http://yann.lecun.com/exdb/mnist/train-images-idx3-ubyte.gz to ./MNIST/raw/train-images-idx3-ubyte.gz\n"
          ]
        },
        {
          "output_type": "stream",
          "name": "stderr",
          "text": [
            "100%|██████████| 9912422/9912422 [00:00<00:00, 242227647.82it/s]"
          ]
        },
        {
          "output_type": "stream",
          "name": "stdout",
          "text": [
            "Extracting ./MNIST/raw/train-images-idx3-ubyte.gz to ./MNIST/raw\n"
          ]
        },
        {
          "output_type": "stream",
          "name": "stderr",
          "text": [
            "\n"
          ]
        },
        {
          "output_type": "stream",
          "name": "stdout",
          "text": [
            "\n",
            "Downloading http://yann.lecun.com/exdb/mnist/train-labels-idx1-ubyte.gz\n",
            "Downloading http://yann.lecun.com/exdb/mnist/train-labels-idx1-ubyte.gz to ./MNIST/raw/train-labels-idx1-ubyte.gz\n"
          ]
        },
        {
          "output_type": "stream",
          "name": "stderr",
          "text": [
            "100%|██████████| 28881/28881 [00:00<00:00, 34267523.01it/s]\n"
          ]
        },
        {
          "output_type": "stream",
          "name": "stdout",
          "text": [
            "Extracting ./MNIST/raw/train-labels-idx1-ubyte.gz to ./MNIST/raw\n",
            "\n",
            "Downloading http://yann.lecun.com/exdb/mnist/t10k-images-idx3-ubyte.gz\n",
            "Downloading http://yann.lecun.com/exdb/mnist/t10k-images-idx3-ubyte.gz to ./MNIST/raw/t10k-images-idx3-ubyte.gz\n"
          ]
        },
        {
          "output_type": "stream",
          "name": "stderr",
          "text": [
            "100%|██████████| 1648877/1648877 [00:00<00:00, 17180930.25it/s]\n"
          ]
        },
        {
          "output_type": "stream",
          "name": "stdout",
          "text": [
            "Extracting ./MNIST/raw/t10k-images-idx3-ubyte.gz to ./MNIST/raw\n",
            "\n",
            "Downloading http://yann.lecun.com/exdb/mnist/t10k-labels-idx1-ubyte.gz\n",
            "Downloading http://yann.lecun.com/exdb/mnist/t10k-labels-idx1-ubyte.gz to ./MNIST/raw/t10k-labels-idx1-ubyte.gz\n"
          ]
        },
        {
          "output_type": "stream",
          "name": "stderr",
          "text": [
            "100%|██████████| 4542/4542 [00:00<00:00, 6435989.45it/s]\n"
          ]
        },
        {
          "output_type": "stream",
          "name": "stdout",
          "text": [
            "Extracting ./MNIST/raw/t10k-labels-idx1-ubyte.gz to ./MNIST/raw\n",
            "\n"
          ]
        },
        {
          "output_type": "execute_result",
          "data": {
            "text/plain": [
              "(60000, 10000)"
            ]
          },
          "metadata": {},
          "execution_count": 29
        }
      ]
    },
    {
      "cell_type": "code",
      "source": [
        "mnist_class_names = mnist_train.classes\n",
        "mnist_class_names"
      ],
      "metadata": {
        "id": "ukxCSy1gcNpD",
        "outputId": "30273d48-6c79-41f5-a22f-5c5843dc2814",
        "colab": {
          "base_uri": "https://localhost:8080/"
        }
      },
      "execution_count": 31,
      "outputs": [
        {
          "output_type": "execute_result",
          "data": {
            "text/plain": [
              "['0 - zero',\n",
              " '1 - one',\n",
              " '2 - two',\n",
              " '3 - three',\n",
              " '4 - four',\n",
              " '5 - five',\n",
              " '6 - six',\n",
              " '7 - seven',\n",
              " '8 - eight',\n",
              " '9 - nine']"
            ]
          },
          "metadata": {},
          "execution_count": 31
        }
      ]
    },
    {
      "cell_type": "code",
      "source": [
        "# Turn dataset into dataloaders\n",
        "from torch.utils.data import DataLoader\n",
        "\n",
        "mnist_train_dataloader = DataLoader(\n",
        "    mnist_train,\n",
        "    batch_size=32,\n",
        "    shuffle=True\n",
        ")\n",
        "\n",
        "mnist_test_dataloader = DataLoader(\n",
        "    mnist_test,\n",
        "    batch_size=32,\n",
        "    shuffle=False\n",
        ")\n",
        "\n",
        "len(mnist_train_dataloader), len(mnist_test_dataloader)\n"
      ],
      "metadata": {
        "id": "s7m4vI_XcliP",
        "outputId": "b6beb8f5-88a1-4094-846c-53ee80dbed4a",
        "colab": {
          "base_uri": "https://localhost:8080/"
        }
      },
      "execution_count": 32,
      "outputs": [
        {
          "output_type": "execute_result",
          "data": {
            "text/plain": [
              "(1875, 313)"
            ]
          },
          "metadata": {},
          "execution_count": 32
        }
      ]
    },
    {
      "cell_type": "code",
      "source": [
        "model_2"
      ],
      "metadata": {
        "id": "SPUA77ydetET",
        "outputId": "15b8d0f8-e5be-4519-8c1c-4f921cad0368",
        "colab": {
          "base_uri": "https://localhost:8080/"
        }
      },
      "execution_count": 33,
      "outputs": [
        {
          "output_type": "execute_result",
          "data": {
            "text/plain": [
              "FashionMNISTModelV2(\n",
              "  (block_1): Sequential(\n",
              "    (0): Conv2d(1, 10, kernel_size=(3, 3), stride=(1, 1), padding=(1, 1))\n",
              "    (1): ReLU()\n",
              "    (2): Conv2d(10, 10, kernel_size=(3, 3), stride=(1, 1), padding=(1, 1))\n",
              "    (3): ReLU()\n",
              "    (4): MaxPool2d(kernel_size=2, stride=2, padding=0, dilation=1, ceil_mode=False)\n",
              "  )\n",
              "  (block_2): Sequential(\n",
              "    (0): Conv2d(10, 10, kernel_size=(3, 3), stride=(1, 1), padding=(1, 1))\n",
              "    (1): ReLU()\n",
              "    (2): Conv2d(10, 10, kernel_size=(3, 3), stride=(1, 1), padding=(1, 1))\n",
              "    (3): ReLU()\n",
              "    (4): MaxPool2d(kernel_size=2, stride=2, padding=0, dilation=1, ceil_mode=False)\n",
              "  )\n",
              "  (classifier): Sequential(\n",
              "    (0): Flatten(start_dim=1, end_dim=-1)\n",
              "    (1): Linear(in_features=490, out_features=10, bias=True)\n",
              "  )\n",
              ")"
            ]
          },
          "metadata": {},
          "execution_count": 33
        }
      ]
    },
    {
      "cell_type": "code",
      "source": [
        "def make_prediction(\n",
        "    model: torch.nn.Module,\n",
        "    data: list,\n",
        "    device: torch.device = device):\n",
        "  pred_probs = []\n",
        "  model.eval()\n",
        "\n",
        "  with torch.inference_mode():\n",
        "    for sample in data:\n",
        "      sample = torch.unsqueeze(sample, dim=0).to(device)\n",
        "      pred_logit = model(sample)\n",
        "      pred_prob = torch.softmax(pred_logit.squeeze(), dim=0)\n",
        "      pred_probs.append(pred_prob.cpu())\n",
        "  return torch.stack(pred_probs)\n",
        "\n"
      ],
      "metadata": {
        "id": "E5NycxLqgsxr"
      },
      "execution_count": 35,
      "outputs": []
    },
    {
      "cell_type": "code",
      "source": [
        "# take 5 random examples\n",
        "import random\n",
        "random.seed(42)\n",
        "\n",
        "test_samples = []\n",
        "test_labels = []\n",
        "\n",
        "for sample, label in random.sample(list(mnist_test), k=5):\n",
        "  test_samples.append(sample)\n",
        "  test_labels.append(label)\n",
        "\n",
        "len(test_samples), len(test_labels)"
      ],
      "metadata": {
        "id": "KPMi8992ewH8",
        "outputId": "065810b6-2409-4678-90d7-d4dd66c4a3ec",
        "colab": {
          "base_uri": "https://localhost:8080/"
        }
      },
      "execution_count": 41,
      "outputs": [
        {
          "output_type": "execute_result",
          "data": {
            "text/plain": [
              "(5, 5)"
            ]
          },
          "metadata": {},
          "execution_count": 41
        }
      ]
    },
    {
      "cell_type": "code",
      "source": [
        "# make prediction on test sample\n",
        "pred_probs = make_predictions(model=model_2,\n",
        "                              data=test_samples)\n",
        "pred_classes = pred_probs.argmax(dim=1)\n",
        "pred_classes\n"
      ],
      "metadata": {
        "id": "EzhGKFyejQgi",
        "outputId": "d9cd5f02-9e4e-4e97-a661-a4acec2ce93c",
        "colab": {
          "base_uri": "https://localhost:8080/"
        }
      },
      "execution_count": 42,
      "outputs": [
        {
          "output_type": "execute_result",
          "data": {
            "text/plain": [
              "tensor([0, 3, 5, 8, 8])"
            ]
          },
          "metadata": {},
          "execution_count": 42
        }
      ]
    },
    {
      "cell_type": "code",
      "source": [
        "test_labels, pred_classes # the prediction is not good so we need to train it a little bit further"
      ],
      "metadata": {
        "id": "B092Rg2Ejlmn",
        "outputId": "fa4975cb-c2b2-44c0-c779-0d406af763b5",
        "colab": {
          "base_uri": "https://localhost:8080/"
        }
      },
      "execution_count": 43,
      "outputs": [
        {
          "output_type": "execute_result",
          "data": {
            "text/plain": [
              "([2, 1, 2, 4, 6], tensor([0, 3, 5, 8, 8]))"
            ]
          },
          "metadata": {},
          "execution_count": 43
        }
      ]
    },
    {
      "cell_type": "code",
      "source": [
        "# setup loss and optimizer\n",
        "from torch import nn\n",
        "loss_fn = nn.CrossEntropyLoss()\n",
        "optimizer = torch.optim.SGD(model_2.parameters(), lr=0.01)"
      ],
      "metadata": {
        "id": "vo5q7_xCjqUY"
      },
      "execution_count": 44,
      "outputs": []
    },
    {
      "cell_type": "code",
      "source": [
        "# setup metrics\n",
        "from tqdm.auto import tqdm\n",
        "import requests\n",
        "from pathlib import Path\n",
        "\n",
        "# Download helper functions from Learn PyTorch repo (if not already downloaded)\n",
        "if Path(\"helper_functions.py\").is_file():\n",
        "  print(\"helper_functions.py already exists, skipping download\")\n",
        "else:\n",
        "  print(\"Downloading helper_functions.py\")\n",
        "  # Note: you need the \"raw\" GitHub URL for this to work\n",
        "  request = requests.get(\"https://raw.githubusercontent.com/mrdbourke/pytorch-deep-learning/main/helper_functions.py\")\n",
        "  with open(\"helper_functions.py\", \"wb\") as f:\n",
        "    f.write(request.content)\n",
        "# Import accuracy metric\n",
        "from helper_functions import accuracy_fn"
      ],
      "metadata": {
        "id": "jTh518OFkNvG",
        "outputId": "8a0fe7dc-14ec-4478-9973-c23b1f8146f3",
        "colab": {
          "base_uri": "https://localhost:8080/"
        }
      },
      "execution_count": 50,
      "outputs": [
        {
          "output_type": "stream",
          "name": "stdout",
          "text": [
            "helper_functions.py already exists, skipping download\n"
          ]
        }
      ]
    },
    {
      "cell_type": "code",
      "source": [
        "# setup training\n",
        "epochs = 5\n",
        "\n",
        "for epoch in tqdm(range(epochs)):\n",
        "  train_loss, test_loss_total = 0, 0\n",
        "  train_acc, test_acc = 0, 0\n",
        "\n",
        "  # training\n",
        "  model_2.train()\n",
        "  for batch, (X_train, y_train) in enumerate(mnist_train_dataloader):\n",
        "    X_train, y_train = X_train.to(device), y_train.to(device)\n",
        "\n",
        "    #forward pass and loss\n",
        "    y_pred = model_2(X_train)\n",
        "    loss = loss_fn(y_pred, y_train)\n",
        "    train_loss += loss\n",
        "    train_acc += accuracy_fn(y_true=y_train, y_pred=y_pred.argmax(dim=1))\n",
        "\n",
        "    # bacprop and gradient descent\n",
        "    optimizer.zero_grad()\n",
        "    loss.backward()\n",
        "    optimizer.step()\n",
        "\n",
        "  # adjust loss/ acc per epoch\n",
        "  train_loss /= len(mnist_train_dataloader)\n",
        "  train_acc /= len(mnist_train_dataloader)\n",
        "\n",
        "  # Testing\n",
        "  model_2.eval()\n",
        "  with torch.inference_mode():\n",
        "    for batch, (X_test, y_test) in enumerate(mnist_test_dataloader):\n",
        "      X_test, y_test = X_test.to(device), y_test.to(device)\n",
        "\n",
        "      #forward pass and loss\n",
        "      y_pred_test = model_2(X_test)\n",
        "      test_loss = loss_fn(y_pred_test, y_test)\n",
        "      test_loss_total += test_loss\n",
        "      test_acc += accuracy_fn(y_true=y_test, y_pred=y_pred_test.argmax(dim=1))\n",
        "\n",
        "    # adjust test loss\n",
        "    test_loss /= len(mnist_test_dataloader)\n",
        "    test_acc /= len(mnist_test_dataloader)\n",
        "\n",
        "  print(f\"Epoch: {epoch} | Train loss: {train_loss:.3f} | Train acc: {train_acc:.2f} | Test loss: {test_loss_total:.3f} | Test acc: {test_acc:.3f}\")\n",
        "\n"
      ],
      "metadata": {
        "id": "B3mf5_0MlYCk",
        "outputId": "19b75098-3545-481d-aa15-dd4e3dd6a6aa",
        "colab": {
          "base_uri": "https://localhost:8080/",
          "height": 136,
          "referenced_widgets": [
            "7ee2d6b9399e444d8a23a1ebe4a9e120",
            "afc4399e77374cc9a3d8834bdd101b2b",
            "b877640f15cd407ebf26bdfe95ed1dde",
            "89a4d4b754d7401b98d378d3ee7e771e",
            "1d07a11d82db43138c72a454ecd81516",
            "a67aec678e9448de953c018851d7a769",
            "3e51a181f3464f989675f85d20ddd47f",
            "f39c210611f449878aa8eeb43c94352d",
            "9ad2e84a3bd04760a1103a3e672ae43a",
            "de82cf89e0c94a579beb0972a3a37118",
            "a3517d7ac6aa46d89fae2b181517e6d6"
          ]
        }
      },
      "execution_count": 53,
      "outputs": [
        {
          "output_type": "display_data",
          "data": {
            "text/plain": [
              "  0%|          | 0/5 [00:00<?, ?it/s]"
            ],
            "application/vnd.jupyter.widget-view+json": {
              "version_major": 2,
              "version_minor": 0,
              "model_id": "7ee2d6b9399e444d8a23a1ebe4a9e120"
            }
          },
          "metadata": {}
        },
        {
          "output_type": "stream",
          "name": "stdout",
          "text": [
            "Epoch: 0 | Train loss: 0.140 | Train acc: 95.70 | Test loss: 32.935 | Test acc: 96.585\n",
            "Epoch: 1 | Train loss: 0.109 | Train acc: 96.57 | Test loss: 28.035 | Test acc: 97.045\n",
            "Epoch: 2 | Train loss: 0.092 | Train acc: 97.12 | Test loss: 24.267 | Test acc: 97.504\n",
            "Epoch: 3 | Train loss: 0.081 | Train acc: 97.50 | Test loss: 21.155 | Test acc: 97.784\n",
            "Epoch: 4 | Train loss: 0.073 | Train acc: 97.73 | Test loss: 20.014 | Test acc: 97.794\n"
          ]
        }
      ]
    },
    {
      "cell_type": "code",
      "source": [
        "# make prediction on test sample\n",
        "pred_probs = make_predictions(model=model_2,\n",
        "                              data=test_samples)\n",
        "pred_classes = pred_probs.argmax(dim=1)\n",
        "pred_classes"
      ],
      "metadata": {
        "id": "bAItV4J8qgjh",
        "outputId": "b8a09369-728d-480f-f95e-52be25fa2c24",
        "colab": {
          "base_uri": "https://localhost:8080/"
        }
      },
      "execution_count": 54,
      "outputs": [
        {
          "output_type": "execute_result",
          "data": {
            "text/plain": [
              "tensor([2, 1, 2, 4, 6])"
            ]
          },
          "metadata": {},
          "execution_count": 54
        }
      ]
    },
    {
      "cell_type": "code",
      "source": [
        "pred_classes, test_labels"
      ],
      "metadata": {
        "id": "cOL0Anv-tHPZ",
        "outputId": "b76efb74-c000-418d-bfde-a1accf47f590",
        "colab": {
          "base_uri": "https://localhost:8080/"
        }
      },
      "execution_count": 55,
      "outputs": [
        {
          "output_type": "execute_result",
          "data": {
            "text/plain": [
              "(tensor([2, 1, 2, 4, 6]), [2, 1, 2, 4, 6])"
            ]
          },
          "metadata": {},
          "execution_count": 55
        }
      ]
    },
    {
      "cell_type": "code",
      "source": [
        "# take testing samples\n",
        "import random\n",
        "random.seed(42)\n",
        "\n",
        "test_samples = []\n",
        "test_labels = []\n",
        "\n",
        "# for sample, label in random.sample(list(mnist_test), k=5):\n",
        "for sample, label in list(mnist_test):\n",
        "  test_samples.append(sample)\n",
        "  test_labels.append(label)\n",
        "\n",
        "len(test_samples), len(test_labels)"
      ],
      "metadata": {
        "id": "XsVx7fTIt9Ql",
        "outputId": "c3f95c4c-218c-44e4-e8a3-a15637ced7ca",
        "colab": {
          "base_uri": "https://localhost:8080/"
        }
      },
      "execution_count": 58,
      "outputs": [
        {
          "output_type": "execute_result",
          "data": {
            "text/plain": [
              "(10000, 10000)"
            ]
          },
          "metadata": {},
          "execution_count": 58
        }
      ]
    },
    {
      "cell_type": "code",
      "source": [
        "# make predictions on the whole test dataset\n",
        "pred_probs = make_predictions(\n",
        "    model=model_2,\n",
        "    data=list(test_samples)\n",
        ")\n",
        "pred_labels = torch.argmax(pred_probs, dim=1)\n",
        "pred_labels[2]"
      ],
      "metadata": {
        "id": "SwgdvJxLtJVl",
        "outputId": "eeb5ffe1-50b7-42cb-87d5-8d05ca3f34c8",
        "colab": {
          "base_uri": "https://localhost:8080/"
        }
      },
      "execution_count": 61,
      "outputs": [
        {
          "output_type": "execute_result",
          "data": {
            "text/plain": [
              "tensor(1)"
            ]
          },
          "metadata": {},
          "execution_count": 61
        }
      ]
    },
    {
      "cell_type": "code",
      "source": [
        "import numpy as np\n",
        "\n",
        "wrong_pred_indexes = np.where(pred_labels != mnist_test.targets)[0]\n",
        "len(wrong_pred_indexes)"
      ],
      "metadata": {
        "id": "72S_8aLotg6A",
        "outputId": "35482bec-4103-4dd6-cfae-3908a2adad74",
        "colab": {
          "base_uri": "https://localhost:8080/"
        }
      },
      "execution_count": 62,
      "outputs": [
        {
          "output_type": "execute_result",
          "data": {
            "text/plain": [
              "221"
            ]
          },
          "metadata": {},
          "execution_count": 62
        }
      ]
    },
    {
      "cell_type": "code",
      "source": [
        "wrong_pred_indexes"
      ],
      "metadata": {
        "id": "CW0q1c03u3wP",
        "outputId": "d344e878-51fe-4764-a78c-53efd8a2a51d",
        "colab": {
          "base_uri": "https://localhost:8080/"
        }
      },
      "execution_count": 64,
      "outputs": [
        {
          "output_type": "execute_result",
          "data": {
            "text/plain": [
              "array([ 115,  184,  321,  358,  445,  582,  684,  698,  707,  717,  726,\n",
              "        740,  760,  829,  900,  924,  938,  939,  947,  965,  969, 1014,\n",
              "       1062, 1112, 1114, 1181, 1182, 1226, 1247, 1270, 1299, 1319, 1326,\n",
              "       1337, 1364, 1393, 1402, 1403, 1462, 1509, 1522, 1549, 1614, 1621,\n",
              "       1671, 1681, 1717, 1722, 1737, 1754, 1772, 1878, 1901, 1956, 2018,\n",
              "       2035, 2043, 2053, 2070, 2109, 2118, 2135, 2148, 2185, 2189, 2293,\n",
              "       2369, 2387, 2406, 2422, 2447, 2454, 2462, 2488, 2526, 2597, 2607,\n",
              "       2654, 2730, 2742, 2770, 2778, 2780, 2847, 2896, 2927, 2952, 2953,\n",
              "       2990, 2995, 2998, 3005, 3012, 3060, 3073, 3130, 3206, 3225, 3288,\n",
              "       3289, 3330, 3384, 3405, 3422, 3447, 3474, 3475, 3490, 3503, 3520,\n",
              "       3533, 3534, 3597, 3599, 3662, 3718, 3726, 3762, 3767, 3778, 3780,\n",
              "       3806, 3808, 3811, 3853, 3869, 3893, 3926, 3941, 3954, 4065, 4078,\n",
              "       4102, 4194, 4205, 4224, 4248, 4256, 4265, 4289, 4374, 4382, 4500,\n",
              "       4507, 4567, 4571, 4575, 4578, 4639, 4724, 4740, 4807, 4823, 4978,\n",
              "       5065, 5068, 5159, 5288, 5331, 5600, 5642, 5654, 5709, 5752, 5842,\n",
              "       5888, 5891, 5937, 5955, 5972, 5973, 5975, 5981, 5982, 5997, 6037,\n",
              "       6042, 6101, 6227, 6359, 6505, 6532, 6553, 6555, 6571, 6572, 6597,\n",
              "       6598, 6625, 6755, 6780, 7121, 7208, 7434, 7473, 7812, 7902, 7915,\n",
              "       8094, 8326, 8408, 8520, 9009, 9019, 9280, 9530, 9587, 9625, 9664,\n",
              "       9669, 9677, 9679, 9692, 9729, 9770, 9777, 9792, 9839, 9856, 9888,\n",
              "       9892])"
            ]
          },
          "metadata": {},
          "execution_count": 64
        }
      ]
    },
    {
      "cell_type": "code",
      "source": [
        "# Select random 9 wrong predictions and plot them\n",
        "import random\n",
        "random_selection = random.sample(list(wrong_pred_indexes), k=9)\n",
        "\n",
        "plt.figure(figsize=(10, 10))\n",
        "for i, idx in enumerate(random_selection):\n",
        "  # Get true and pred labels\n",
        "  true_label = mnist_class_names[mnist_test[idx][1]]\n",
        "  pred_label = mnist_class_names[pred_labels[idx]]\n",
        "\n",
        "  # Plot the wrong prediction with its original label\n",
        "  plt.subplot(3, 3, i+1)\n",
        "  plt.imshow(mnist_test[idx][0].squeeze(), cmap=\"gray\")\n",
        "  plt.title(f\"True: {true_label} | Pred: {pred_label}\", c=\"r\")\n",
        "  plt.axis(False);"
      ],
      "metadata": {
        "id": "d51hwKYpu-PQ",
        "outputId": "53579f9e-3723-4cf1-a6f8-55cb24319f61",
        "colab": {
          "base_uri": "https://localhost:8080/",
          "height": 829
        }
      },
      "execution_count": 66,
      "outputs": [
        {
          "output_type": "display_data",
          "data": {
            "text/plain": [
              "<Figure size 1000x1000 with 9 Axes>"
            ],
            "image/png": "[encoded data removed]"
          },
          "metadata": {}
        }
      ]
    },
    {
      "cell_type": "code",
      "source": [],
      "metadata": {
        "id": "ehJQhcCWvNH6"
      },
      "execution_count": null,
      "outputs": []
    }
  ]
}